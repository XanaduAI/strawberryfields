{
 "cells": [
  {
   "cell_type": "markdown",
   "metadata": {},
   "source": [
    "#  Minimizing the amount of correlations\n",
    "*Author: Nicolas Quesada*"
   ]
  },
  {
   "cell_type": "markdown",
   "metadata": {},
   "source": [
    "In [this paper](https://doi.org/10.1103/PhysRevA.88.044301) by Jiang, Lang, and Caves [1], the authors show that if one has two qumodes states $\\left|\\psi \\right\\rangle$ and $\\left|\\phi \\right\\rangle$ and a beamsplitter $\\text{BS}(\\theta)$, then the only way no entanglement is generated when the beamsplitter acts on the product of the two states \n",
    "\n",
    "$$\\left|\\Psi  \\right\\rangle = \\text{BS}(\\theta) \\ \\left|\\psi \\right\\rangle \\otimes \\left|\\phi \\right\\rangle,$$\n",
    "\n",
    "is if the states $\\left|\\psi \\right\\rangle$ and $\\left|\\phi \\right\\rangle$ are squeezed states along the same quadrature and by the same amount.\n",
    "\n",
    "Now imagine the following task:\n",
    "> Given an input state $\\left|\\psi \\right\\rangle$, which is not necessarily a squeezed state, what is the optimal state $\\left|\\phi \\right\\rangle$ incident on a beamsplitter $\\text{BS}(\\theta)$ together with $\\left|\\psi \\right\\rangle$ such that the resulting entanglement is minimized?\n",
    "\n",
    "In our [paper](https://arxiv.org/abs/1805.06868) we showed that if $\\theta \\ll 1$ the optimal state $\\left|\\phi \\right\\rangle$, for any input state $\\left|\\psi \\right\\rangle$, is always a squeezed state.\n",
    "We furthermore conjectured that this holds for any value of $\\theta$.\n",
    "\n",
    "Here, we numerically explore this question by performing numerical minimization over $\\left|\\phi \\right\\rangle$ to find the state that minimizes the entanglement between the two modes."
   ]
  },
  {
   "cell_type": "markdown",
   "metadata": {},
   "source": [
    "First, we import the libraries required for this analysis; NumPy, SciPy, TensorFlow, and StrawberryFields."
   ]
  },
  {
   "cell_type": "code",
   "execution_count": 1,
   "metadata": {},
   "outputs": [],
   "source": [
    "import numpy as np\n",
    "from scipy.linalg import expm\n",
    "import tensorflow as tf"
   ]
  },
  {
   "cell_type": "code",
   "execution_count": 2,
   "metadata": {},
   "outputs": [],
   "source": [
    "import strawberryfields as sf\n",
    "from strawberryfields.ops import *\n",
    "from strawberryfields.backends.tfbackend.ops import partial_trace"
   ]
  },
  {
   "cell_type": "markdown",
   "metadata": {},
   "source": [
    "Now, we set the Fock basis truncation; in this case, we choose $cutoff=30$:"
   ]
  },
  {
   "cell_type": "code",
   "execution_count": 3,
   "metadata": {},
   "outputs": [],
   "source": [
    "cutoff = 30"
   ]
  },
  {
   "cell_type": "markdown",
   "metadata": {},
   "source": [
    "## Creating the initial states"
   ]
  },
  {
   "cell_type": "markdown",
   "metadata": {},
   "source": [
    "We define our input state $\\newcommand{ket}[1]{\\left|#1\\right\\rangle}\\ket{\\psi}$, an equal superposition of $\\ket{0}$ and $\\ket{1}$: $$\\ket{\\psi}=\\frac{1}{\\sqrt{2}}\\left(\\ket{0}+\\ket{1}\\right)$$"
   ]
  },
  {
   "cell_type": "code",
   "execution_count": 4,
   "metadata": {},
   "outputs": [],
   "source": [
    "psi = np.zeros([cutoff], dtype=np.complex128)\n",
    "psi[0] = 1.0\n",
    "psi[1] = 1.0\n",
    "psi /= np.linalg.norm(psi)"
   ]
  },
  {
   "cell_type": "markdown",
   "metadata": {},
   "source": [
    "We can now define our initial random guess for the second state $\\ket{\\phi}$:"
   ]
  },
  {
   "cell_type": "code",
   "execution_count": 5,
   "metadata": {},
   "outputs": [],
   "source": [
    "phi = np.random.random(size=[cutoff]) + 1j*np.random.random(size=[cutoff])\n",
    "phi[10:] = 0.\n",
    "phi /= np.linalg.norm(phi)"
   ]
  },
  {
   "cell_type": "markdown",
   "metadata": {},
   "source": [
    "Next, we define the creation operator $\\hat{a}$,"
   ]
  },
  {
   "cell_type": "code",
   "execution_count": 6,
   "metadata": {},
   "outputs": [],
   "source": [
    "a = np.diag(np.sqrt(np.arange(1, cutoff)), k=1)"
   ]
  },
  {
   "cell_type": "markdown",
   "metadata": {},
   "source": [
    "the number operator $\\hat{n}=\\hat{a}^\\dagger \\hat{a}$,"
   ]
  },
  {
   "cell_type": "code",
   "execution_count": 7,
   "metadata": {},
   "outputs": [],
   "source": [
    "n_opt = a.T @ a"
   ]
  },
  {
   "cell_type": "markdown",
   "metadata": {},
   "source": [
    "and the quadrature operators $\\hat{x}=a+a^\\dagger$, $\\hat{p}=-i(a-a^\\dagger)$."
   ]
  },
  {
   "cell_type": "code",
   "execution_count": 8,
   "metadata": {},
   "outputs": [],
   "source": [
    "# Define quadrature operators\n",
    "x = a + a.T\n",
    "p = -1j*(a-a.T)"
   ]
  },
  {
   "cell_type": "markdown",
   "metadata": {},
   "source": [
    "We can now calculate the displacement of the states in the phase space, $\\alpha=\\langle \\psi \\mid\\hat{a}\\mid\\psi\\rangle$. The following function calculates this displacement, and then displaces the state by $-\\alpha$ to ensure it has zero displacement."
   ]
  },
  {
   "cell_type": "code",
   "execution_count": 9,
   "metadata": {},
   "outputs": [],
   "source": [
    "def recenter(state):\n",
    "    alpha = state.conj() @ a @ state\n",
    "    disp_alpha = expm(alpha.conj()*a - alpha*a.T)\n",
    "    out_state = disp_alpha @ state\n",
    "    return out_state"
   ]
  },
  {
   "cell_type": "markdown",
   "metadata": {},
   "source": [
    "First, let's have a look at the displacement of state $\\ket{\\psi}$ and state $\\ket{\\phi}$:"
   ]
  },
  {
   "cell_type": "code",
   "execution_count": 10,
   "metadata": {},
   "outputs": [
    {
     "data": {
      "text/plain": [
       "(0.4999999999999999+0j)"
      ]
     },
     "execution_count": 10,
     "metadata": {},
     "output_type": "execute_result"
    }
   ],
   "source": [
    "psi.conj().T @ a @ psi"
   ]
  },
  {
   "cell_type": "code",
   "execution_count": 11,
   "metadata": {},
   "outputs": [
    {
     "data": {
      "text/plain": [
       "(1.5466747558600655+0.10715327000748875j)"
      ]
     },
     "execution_count": 11,
     "metadata": {},
     "output_type": "execute_result"
    }
   ],
   "source": [
    "phi.conj().T @ a @ phi"
   ]
  },
  {
   "cell_type": "markdown",
   "metadata": {},
   "source": [
    "Now, let's center them in the phase space:"
   ]
  },
  {
   "cell_type": "code",
   "execution_count": 12,
   "metadata": {},
   "outputs": [],
   "source": [
    "psi = recenter(psi)\n",
    "phi = recenter(phi)"
   ]
  },
  {
   "cell_type": "markdown",
   "metadata": {},
   "source": [
    "Checking they now have zero displacement:"
   ]
  },
  {
   "cell_type": "code",
   "execution_count": 13,
   "metadata": {
    "scrolled": true
   },
   "outputs": [
    {
     "data": {
      "text/plain": [
       "0j"
      ]
     },
     "execution_count": 13,
     "metadata": {},
     "output_type": "execute_result"
    }
   ],
   "source": [
    "np.round(psi.conj().T @ a @ psi, 9)"
   ]
  },
  {
   "cell_type": "code",
   "execution_count": 14,
   "metadata": {},
   "outputs": [
    {
     "data": {
      "text/plain": [
       "(6.3e-08+4e-09j)"
      ]
     },
     "execution_count": 14,
     "metadata": {},
     "output_type": "execute_result"
    }
   ],
   "source": [
    "np.round(phi.conj().T @ a @ phi, 9)"
   ]
  },
  {
   "cell_type": "markdown",
   "metadata": {},
   "source": [
    "## Performing the optimization"
   ]
  },
  {
   "cell_type": "markdown",
   "metadata": {},
   "source": [
    "We can construct the variational quantum circuit, using Strawberry Fields:"
   ]
  },
  {
   "cell_type": "code",
   "execution_count": 15,
   "metadata": {},
   "outputs": [],
   "source": [
    "prog = sf.Program(2)\n",
    "eng = sf.Engine(\"tf\", backend_options={\"cutoff_dim\": cutoff})\n",
    "\n",
    "psi = tf.cast(psi, tf.complex64)\n",
    "phi_var = tf.cast(tf.Variable(phi.real),tf.complex64) \\\n",
    "            + 1j*tf.cast(tf.Variable(phi.imag), tf.complex64)\n",
    "\n",
    "in_state = tf.einsum('i,j->ij', psi, phi_var)\n",
    "\n",
    "with prog.context as q:\n",
    "    Ket(in_state) | q\n",
    "    BSgate(np.pi/4, 0) | q\n",
    "    \n",
    "result = eng.run(prog, run_options={\"eval\": False, \"modes\": [1]})\n",
    "state = result.state"
   ]
  },
  {
   "cell_type": "markdown",
   "metadata": {},
   "source": [
    "Here, we are initializing a TensorFlow variable `phi_var` representing the initial state of mode `q[1]`, which we will optimize over. Note that we take the outer product $\\ket{in}=\\ket{\\psi}\\otimes\\ket{\\phi}$, and use the `Ket` operator to initialise the circuit in this initial multimode pure state.\n",
    "\n",
    "Finally, when we run the engine, we use the argument `modes=[1]` to return the state of mode `q[1]`.\n",
    "\n",
    "We can now extract the density matrix of this state:"
   ]
  },
  {
   "cell_type": "code",
   "execution_count": 16,
   "metadata": {},
   "outputs": [],
   "source": [
    "rhoB = state.dm()"
   ]
  },
  {
   "cell_type": "markdown",
   "metadata": {},
   "source": [
    "The cost function contains the purity of the reduced density matrix\n",
    "\n",
    "$$\\text{Tr}(\\rho_B^2),$$\n",
    "\n",
    "and an extra penalty that forces the optimized state to have zero displacement; that is, we want to minimise the value \n",
    "\n",
    "$$\\langle \\hat{x}\\rangle=\\text{Tr}(\\rho_B\\hat{x}).$$\n",
    "\n",
    "Finally, we divide by the $\\text{Tr}(\\rho_B)^2$ so that the state is always normalized."
   ]
  },
  {
   "cell_type": "code",
   "execution_count": 17,
   "metadata": {},
   "outputs": [],
   "source": [
    "penalty_strength = 10"
   ]
  },
  {
   "cell_type": "code",
   "execution_count": 18,
   "metadata": {},
   "outputs": [],
   "source": [
    "cost = tf.cast(tf.real((tf.trace(rhoB @ rhoB)\n",
    "                            -penalty_strength*tf.trace(rhoB @ x)**2\n",
    "                            -penalty_strength*tf.trace(rhoB @ p)**2)\n",
    "                       /(tf.trace(rhoB))**2), tf.float64)"
   ]
  },
  {
   "cell_type": "markdown",
   "metadata": {},
   "source": [
    "We can now set up the optimization, to minimise the cost function:"
   ]
  },
  {
   "cell_type": "code",
   "execution_count": 19,
   "metadata": {},
   "outputs": [],
   "source": [
    "optimizer = tf.train.AdamOptimizer()\n",
    "minimize_op = optimizer.minimize(-cost)"
   ]
  },
  {
   "cell_type": "code",
   "execution_count": 20,
   "metadata": {},
   "outputs": [],
   "source": [
    "sess = tf.Session()\n",
    "sess.run(tf.global_variables_initializer())"
   ]
  },
  {
   "cell_type": "markdown",
   "metadata": {},
   "source": [
    "Running the optimization process for 1201 reps:"
   ]
  },
  {
   "cell_type": "code",
   "execution_count": 21,
   "metadata": {},
   "outputs": [
    {
     "name": "stdout",
     "output_type": "stream",
     "text": [
      "Rep: 0 Cost: 0.529472827911377\n",
      "Rep: 50 Cost: 0.6242330074310303\n",
      "Rep: 100 Cost: 0.7068203687667847\n",
      "Rep: 150 Cost: 0.7573347687721252\n",
      "Rep: 200 Cost: 0.797258198261261\n",
      "Rep: 250 Cost: 0.8431282043457031\n",
      "Rep: 300 Cost: 0.8931565284729004\n",
      "Rep: 350 Cost: 0.9057941436767578\n",
      "Rep: 400 Cost: 0.9095619916915894\n",
      "Rep: 450 Cost: 0.9111961722373962\n",
      "Rep: 500 Cost: 0.9118565917015076\n",
      "Rep: 550 Cost: 0.9121061563491821\n",
      "Rep: 600 Cost: 0.9121946096420288\n",
      "Rep: 650 Cost: 0.9122240543365479\n",
      "Rep: 700 Cost: 0.9122328162193298\n",
      "Rep: 750 Cost: 0.9122357964515686\n",
      "Rep: 800 Cost: 0.9122360944747925\n",
      "Rep: 850 Cost: 0.9122363328933716\n",
      "Rep: 900 Cost: 0.9122363328933716\n",
      "Rep: 950 Cost: 0.9122363328933716\n",
      "Rep: 1000 Cost: 0.9122363924980164\n",
      "Rep: 1050 Cost: 0.9122364521026611\n",
      "Rep: 1100 Cost: 0.9122364521026611\n",
      "Rep: 1150 Cost: 0.9122365117073059\n",
      "Rep: 1200 Cost: 0.9122363924980164\n"
     ]
    }
   ],
   "source": [
    "reps = 1201\n",
    "\n",
    "cost_progress = []\n",
    "\n",
    "for i in range(reps):\n",
    "\n",
    "    [_, cost_val, ket_val] = sess.run([minimize_op, cost, phi_var])\n",
    "    # Stores cost at each step\n",
    "    cost_progress.append(cost_val)\n",
    "\n",
    "    # Prints progress\n",
    "    if i % 50 == 0:\n",
    "        print(\"Rep: {} Cost: {}\".format(i, cost_val))"
   ]
  },
  {
   "cell_type": "markdown",
   "metadata": {},
   "source": [
    "We can see that the optimization converges to the optimum purity value of 0.9122365."
   ]
  },
  {
   "cell_type": "markdown",
   "metadata": {},
   "source": [
    "## Visualising the optimum state"
   ]
  },
  {
   "cell_type": "markdown",
   "metadata": {},
   "source": [
    "We can now calculate the density matrix of the input state $\\ket{\\phi}$ which minimises entanglement:\n",
    "\n",
    "$$\\rho_{\\phi} = \\ket{\\phi}\\left\\langle \\phi\\right|$$"
   ]
  },
  {
   "cell_type": "code",
   "execution_count": 22,
   "metadata": {},
   "outputs": [],
   "source": [
    "out_rhoB = np.outer(ket_val, ket_val.conj())"
   ]
  },
  {
   "cell_type": "markdown",
   "metadata": {},
   "source": [
    "Next, we can use the following function to plot the Wigner function of this density matrix:"
   ]
  },
  {
   "cell_type": "code",
   "execution_count": 23,
   "metadata": {},
   "outputs": [],
   "source": [
    "import copy\n",
    "def wigner(rho, xvec, pvec):\n",
    "    # Modified from qutip.org\n",
    "    Q, P = np.meshgrid(xvec, pvec)\n",
    "    A = (Q + P * 1.0j) / (2 * np.sqrt(2 / 2))\n",
    "\n",
    "    Wlist = np.array([np.zeros(np.shape(A), dtype=complex) for k in range(cutoff)])\n",
    "\n",
    "    # Wigner function for |0><0|\n",
    "    Wlist[0] = np.exp(-2.0 * np.abs(A) ** 2) / np.pi\n",
    "\n",
    "    # W = rho(0,0)W(|0><0|)\n",
    "    W = np.real(rho[0, 0]) * np.real(Wlist[0])\n",
    "\n",
    "    for n in range(1, cutoff):\n",
    "        Wlist[n] = (2.0 * A * Wlist[n - 1]) / np.sqrt(n)\n",
    "        W += 2 * np.real(rho[0, n] * Wlist[n])\n",
    "\n",
    "    for m in range(1, cutoff):\n",
    "        temp = copy.copy(Wlist[m])\n",
    "        # Wlist[m] = Wigner function for |m><m|\n",
    "        Wlist[m] = (2 * np.conj(A) * temp - np.sqrt(m)\n",
    "                    * Wlist[m - 1]) / np.sqrt(m)\n",
    "\n",
    "        # W += rho(m,m)W(|m><m|)\n",
    "        W += np.real(rho[m, m] * Wlist[m])\n",
    "\n",
    "        for n in range(m + 1, cutoff):\n",
    "            temp2 = (2 * A * Wlist[n - 1] - np.sqrt(m) * temp) / np.sqrt(n)\n",
    "            temp = copy.copy(Wlist[n])\n",
    "            # Wlist[n] = Wigner function for |m><n|\n",
    "            Wlist[n] = temp2\n",
    "\n",
    "            # W += rho(m,n)W(|m><n|) + rho(n,m)W(|n><m|)\n",
    "            W += 2 * np.real(rho[m, n] * Wlist[n])\n",
    "\n",
    "    return Q, P, W / 2"
   ]
  },
  {
   "cell_type": "code",
   "execution_count": 24,
   "metadata": {},
   "outputs": [],
   "source": [
    "# Import plotting\n",
    "from matplotlib import pyplot as plt\n",
    "%matplotlib inline"
   ]
  },
  {
   "cell_type": "code",
   "execution_count": 25,
   "metadata": {},
   "outputs": [
    {
     "data": {
      "text/plain": [
       "<matplotlib.contour.QuadContourSet at 0x7fbc7368cdd8>"
      ]
     },
     "execution_count": 25,
     "metadata": {},
     "output_type": "execute_result"
    },
    {
     "data": {
      "image/png": "[encoded data removed]",
      "text/plain": [
       "<Figure size 432x288 with 1 Axes>"
      ]
     },
     "metadata": {
      "needs_background": "light"
     },
     "output_type": "display_data"
    }
   ],
   "source": [
    "x = np.arange(-5, 5, 0.1)\n",
    "p = np.arange(-5, 5, 0.1)\n",
    "X, P, W = wigner(out_rhoB, x, p)\n",
    "plt.contourf(X, P, np.round(W,3), cmap=\"PiYG\")"
   ]
  },
  {
   "cell_type": "markdown",
   "metadata": {},
   "source": [
    "We see that the optimal state is indeed a (mildly) squeezed state. This can be confirmed by visuallising the Fock state probabilities of state $\\ket{\\phi}$:"
   ]
  },
  {
   "cell_type": "code",
   "execution_count": 26,
   "metadata": {},
   "outputs": [
    {
     "data": {
      "text/plain": [
       "<BarContainer object of 30 artists>"
      ]
     },
     "execution_count": 26,
     "metadata": {},
     "output_type": "execute_result"
    },
    {
     "data": {
      "image/png": "[encoded data removed]",
      "text/plain": [
       "<Figure size 432x288 with 1 Axes>"
      ]
     },
     "metadata": {
      "needs_background": "light"
     },
     "output_type": "display_data"
    }
   ],
   "source": [
    "plt.bar(np.arange(cutoff), height=np.abs(ket_val)**2)"
   ]
  },
  {
   "cell_type": "markdown",
   "metadata": {},
   "source": [
    "Finally, printing out the mean number of photons $\\bar{n} = \\left\\langle \\phi \\mid \\hat{n} \\mid \\phi\\right\\rangle$, as well as the squeezing magnitude $r=\\sinh^{-1}\\left(\\sqrt{\\bar{n}}\\right)$ of this state:"
   ]
  },
  {
   "cell_type": "code",
   "execution_count": 27,
   "metadata": {},
   "outputs": [
    {
     "name": "stdout",
     "output_type": "stream",
     "text": [
      "mean number of photons = 0.08448536543767962\n",
      "squeezing parameter = 0.2867190599872425\n"
     ]
    }
   ],
   "source": [
    "nbar = ((ket_val.conj()).T @ n_opt @ ket_val).real\n",
    "print(\"mean number of photons =\",nbar)\n",
    "print(\"squeezing parameter =\",np.arcsinh(np.sqrt(nbar)))"
   ]
  },
  {
   "cell_type": "markdown",
   "metadata": {},
   "source": [
    "\n",
    "## References\n",
    "[1] Jiang, Z., Lang, M. D., & Caves, C. M. (2013). Mixing nonclassical pure states in a linear-optical network almost always generates modal entanglement. *Physical Review A*, 88(4), 044301.\n",
    "\n",
    "[2] Quesada, N., & Brańczyk, A. M. (2018). Gaussian functions are optimal for waveguided nonlinear-quantum-optical processes.  *arXiv:1805.06868*."
   ]
  }
 ],
 "metadata": {
  "kernelspec": {
   "display_name": "Python (tensorflow1.3)",
   "language": "python",
   "name": "tensorflow1.3"
  },
  "language_info": {
   "codemirror_mode": {
    "name": "ipython",
    "version": 3
   },
   "file_extension": ".py",
   "mimetype": "text/x-python",
   "name": "python",
   "nbconvert_exporter": "python",
   "pygments_lexer": "ipython3",
   "version": "3.6.8"
  },
  "toc": {
   "nav_menu": {},
   "number_sections": true,
   "sideBar": true,
   "skip_h1_title": false,
   "toc_cell": false,
   "toc_position": {},
   "toc_section_display": "block",
   "toc_window_display": false
  }
 },
 "nbformat": 4,
 "nbformat_minor": 2
}
