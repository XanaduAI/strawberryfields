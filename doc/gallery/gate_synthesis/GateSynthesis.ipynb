{
 "cells": [
  {
   "cell_type": "markdown",
   "metadata": {},
   "source": [
    "\n",
    "<img align=\"right\" src=\"https://i.imgur.com/WeHlFmr.gif\">\n",
    "\n",
    "# Quantum gate synthesis\n",
    "\n",
    "*Author: Josh Izaac*\n",
    "\n",
    "This notebook works through the process used to produce the gate synthesis results presented in [\"Machine learning method for state preparation and gate synthesis on photonic quantum computers\"](https://arxiv.org/abs/1807.10781).\n",
    "\n",
    "We use the continuous-variable (CV) quantum optical circuit package [Strawberry Fields](https://github.com/XanaduAI/strawberryfields), and in particular its TensorFlow backend, to perform quantum circuit optimization. By leveraging Tensorflow, we have access to a number of additional funtionalities, including GPU integration, automatic gradient computation, built-in optimization algorithms, and other machine learning tools."
   ]
  },
  {
   "cell_type": "markdown",
   "metadata": {},
   "source": [
    "## Variational quantum circuits"
   ]
  },
  {
   "cell_type": "markdown",
   "metadata": {},
   "source": [
    "A key element of machine learning is optimization. We can use Tensorflow’s automatic differentiation tools to optimize the parameters of variational quantum circuits constructed using Strawberry Fields. In this approach, we fix a circuit architecture where the states, gates, and/or measurements may have learnable parameters $\\vec{\\theta}$ associated with them. We then define a loss function based on the output state of this circuit. In this case, we define a loss function such that the action of the variational quantum circuit is close to some specified target unitary. For more details on the TensorFlow backend in Strawberry Fields, please see the [Strawberry Fields documentation](http://strawberryfields.readthedocs.io/en/stable/tutorials/tutorial_machine_learning.html).\n",
    "\n",
    "For arbitrary gate synthesis using optimization, we need to make use of a quantum circuit with a layer structure that is **universal** - that is, by 'stacking' the layers, we can guarantee that we can produce *any* CV state with at-most polynomial overhead. Therefore, the architecture we choose must consist of layers with each layer containing parameterized Gaussian *and* non-Gaussian gates. **The non-Gaussian gates provide both the nonlinearity and the universality of the model.** To this end, we employ the CV quantum neural network architecture described below:\n",
    "\n",
    "![layer](https://i.imgur.com/NEsaVIX.png)\n",
    "\n",
    "Here,\n",
    "\n",
    "\n",
    "* $\\mathcal{U}_i(\\theta_i,\\phi_i)$ is an N-mode linear optical interferometer composed of two-mode beamsplitters $BS(\\theta,\\phi)$ and single-mode rotation gates $R(\\phi)=e^{i\\phi\\hat{n}}$,\n",
    "\n",
    "* $\\mathcal{D}(\\alpha_i)$ are single mode displacements in the phase space by complex value $\\alpha_i$,\n",
    "\n",
    "* $\\mathcal{S}(r_i, \\phi_i)$ are single mode squeezing operations of magnitude $r_i$ and phase $\\phi_i$, and\n",
    "\n",
    "* $\\Phi(\\lambda_i)$ is a single mode non-Gaussian operation, in this case chosen to be the Kerr interaction $\\mathcal{K}(\\kappa_i)=e^{i\\kappa_i\\hat{n}^2}$ of strength $\\kappa_i$.\n",
    "\n",
    "<br/>\n",
    "\n",
    "<div class=\"alert alert-success\" style=\"border: 0px; border-left: 3px solid #119a68; color: black; background-color: #daf0e9\">\n",
    "<p style=\"color: #119a68;\"><strong>Reference</strong></p>Killoran, N., Bromley, T. R., Arrazola, J. M., Schuld, M., Quesada, N., & Lloyd, S. (2018). \"Continuous-variable quantum neural networks.\" <a href=https://arxiv.org/abs/1806.06871>arXiv:1806.06871</a>.\n",
    "</div>"
   ]
  },
  {
   "cell_type": "markdown",
   "metadata": {},
   "source": [
    "## Hyperparameters\n",
    "\n",
    "\n",
    "First, we must define the **hyperparameters** of our layer structure:\n",
    "\n",
    "* `cutoff`: the simulation Fock space truncation we will use in the optimization. The TensorFlow backend will perform numerical operations in this truncated Fock space when performing the optimization.\n",
    "\n",
    "\n",
    "* `depth`: The number of layer ansatz in our variational quantum circuit. As a general rule, increasing the number of layers (and thus, the number of parameters we are optimizing over) increases the optimizers chance of finding a reasonable local minimum in the optimization landscape.\n",
    "\n",
    "\n",
    "* `reps`: the number of steps in the optimization routine performing gradient descent\n",
    "\n",
    "Some other optional hyperparameters include:\n",
    "\n",
    "* The standard deviation of initial parameters. Note that we make a distinction between the standard deviation of *passive* parameters (those that preserve photon number when changed, such as phase parameters), and *active* parameters (those that introduce or remove energy from the system when changed)."
   ]
  },
  {
   "cell_type": "code",
   "execution_count": 1,
   "metadata": {},
   "outputs": [],
   "source": [
    "# Cutoff dimension\n",
    "cutoff = 10\n",
    "\n",
    "# gate cutoff\n",
    "gate_cutoff = 4\n",
    "\n",
    "# Number of layers\n",
    "depth = 25\n",
    "\n",
    "# Number of steps in optimization routine performing gradient descent\n",
    "reps = 1000\n",
    "\n",
    "# Standard deviation of initial parameters\n",
    "passive_sd = 0.1\n",
    "active_sd = 0.001"
   ]
  },
  {
   "cell_type": "markdown",
   "metadata": {},
   "source": [
    "Note that, unlike in state learning, we must also specify a *gate cutoff* $d$. This restricts the target unitary to its action on a $d$-dimensional subspace of the truncated Fock space, where $d\\leq D$, where $D$ is the overall simulation Fock basis cutoff. As a result, we restrict the gate synthesis optimization to only $d$ input-output relations."
   ]
  },
  {
   "cell_type": "markdown",
   "metadata": {},
   "source": [
    "## The layer parameters $\\vec{\\theta}$\n",
    "\n",
    "We use TensorFlow to create the variables corresponding to the gate parameters. Note that each variable has shape `[depth]`, with each individual element representing the gate parameter in layer $i$."
   ]
  },
  {
   "cell_type": "code",
   "execution_count": 2,
   "metadata": {},
   "outputs": [],
   "source": [
    "import tensorflow as tf"
   ]
  },
  {
   "cell_type": "code",
   "execution_count": 3,
   "metadata": {},
   "outputs": [],
   "source": [
    "# squeeze gate\n",
    "sq_r = tf.Variable(tf.random_normal(shape=[depth], stddev=active_sd))\n",
    "sq_phi = tf.Variable(tf.random_normal(shape=[depth], stddev=passive_sd))\n",
    "\n",
    "# displacement gate\n",
    "d_r = tf.Variable(tf.random_normal(shape=[depth], stddev=active_sd))\n",
    "d_phi = tf.Variable(tf.random_normal(shape=[depth], stddev=passive_sd))\n",
    "\n",
    "# rotation gates\n",
    "r1 = tf.Variable(tf.random_normal(shape=[depth], stddev=passive_sd))\n",
    "r2 = tf.Variable(tf.random_normal(shape=[depth], stddev=passive_sd))\n",
    "\n",
    "# kerr gate\n",
    "kappa = tf.Variable(tf.random_normal(shape=[depth], stddev=active_sd))"
   ]
  },
  {
   "cell_type": "markdown",
   "metadata": {},
   "source": [
    "For convenience, we store the TensorFlow variables representing the parameters in a list:"
   ]
  },
  {
   "cell_type": "code",
   "execution_count": 4,
   "metadata": {},
   "outputs": [],
   "source": [
    "params = [r1, sq_r, sq_phi, r2, d_r, d_phi, kappa]"
   ]
  },
  {
   "cell_type": "markdown",
   "metadata": {},
   "source": [
    "Now, we can create a function to define the $i$th layer, acting on qumode `q`. This allows us to simply call this function in a loop later on when we build our circuit."
   ]
  },
  {
   "cell_type": "code",
   "execution_count": 5,
   "metadata": {},
   "outputs": [],
   "source": [
    "# layer architecture\n",
    "def layer(i, q):\n",
    "    Rgate(r1[i]) | q\n",
    "    Sgate(sq_r[i], sq_phi[i]) | q\n",
    "    Rgate(r2[i]) | q\n",
    "    Dgate(d_r[i], d_phi[i]) | q\n",
    "    Kgate(kappa[i]) | q\n",
    "    \n",
    "    return q"
   ]
  },
  {
   "cell_type": "markdown",
   "metadata": {},
   "source": [
    "## Constructing the circuit\n",
    "\n",
    "Now that we have defined our gate parameters and our layer structure, we can import Strawberry Fields and construct our variational quantum circuit. Note that, to ensure the TensorFlow backend computes the circuit symbolically, we specify `eval=False`."
   ]
  },
  {
   "cell_type": "code",
   "execution_count": 6,
   "metadata": {},
   "outputs": [],
   "source": [
    "import strawberryfields as sf\n",
    "from strawberryfields.ops import *"
   ]
  },
  {
   "cell_type": "markdown",
   "metadata": {},
   "source": [
    "We must also specify the input states to the variational quantum circuit - these are the Fock state $\\ket{i}$, $i=0,\\dots,d$, allowing us to optimize the circuit parameters to learn the target unitary acting on all input Fock states within the $d$-dimensional subspace."
   ]
  },
  {
   "cell_type": "code",
   "execution_count": 7,
   "metadata": {},
   "outputs": [],
   "source": [
    "import numpy as np\n",
    "in_ket = np.zeros([gate_cutoff, cutoff])\n",
    "np.fill_diagonal(in_ket, 1)"
   ]
  },
  {
   "cell_type": "code",
   "execution_count": 8,
   "metadata": {},
   "outputs": [],
   "source": [
    "# Create program and engine\n",
    "prog = sf.Program(1)\n",
    "eng = sf.Engine('tf', backend_options={\"cutoff_dim\": cutoff, \"batch_size\": gate_cutoff})\n",
    "\n",
    "# Apply circuit of layers with corresponding depth\n",
    "with prog.context as q:\n",
    "    Ket(in_ket) | q\n",
    "    for k in range(depth):\n",
    "        layer(k, q[0])\n",
    "\n",
    "# Run engine\n",
    "state = eng.run(prog, run_options={\"eval\": False}).state\n",
    "ket = state.ket()"
   ]
  },
  {
   "cell_type": "markdown",
   "metadata": {},
   "source": [
    "Here, we use the `batch_size` argument to perform the optimization in parallel - each batch calculates the variational quantum circuit acting on a different input Fock state: $U(\\vec{\\theta}) | n\\rangle$. \n",
    "\n",
    "Note that the output state vector is an unevaluated tensor:"
   ]
  },
  {
   "cell_type": "code",
   "execution_count": 9,
   "metadata": {},
   "outputs": [
    {
     "data": {
      "text/plain": [
       "<tf.Tensor 'ket:0' shape=(4, 10) dtype=complex64>"
      ]
     },
     "execution_count": 9,
     "metadata": {},
     "output_type": "execute_result"
    }
   ],
   "source": [
    "ket"
   ]
  },
  {
   "cell_type": "markdown",
   "metadata": {},
   "source": [
    "## Performing the optimization\n",
    "\n",
    "$\\newcommand{ket}[1]{\\left|#1\\right\\rangle}$ With the Strawberry Fields TensorFlow backend calculating the resulting state of the circuit symbolically, we can use TensorFlow to optimize the gate parameters to minimize the cost function we specify. With gate synthesis, we minimize the overlaps in the Fock basis between the target and learnt unitaries via the following cost function:\n",
    "\n",
    "$$C(\\vec{\\theta}) = \\frac{1}{d}\\sum_{i=0}^{d-1} \\left| \\langle i \\mid V^\\dagger U(\\vec{\\theta})\\mid 0\\rangle - 1\\right|$$\n",
    "\n",
    "where $V$ is the target unitary, $U(\\vec{\\theta})$ is the learnt unitary, and $d$ is the gate cutoff. Note that this is a generalization of state preparation to more than one input-output relation.\n",
    "\n",
    "For our target unitary, lets use Strawberry Fields to generate a 4x4 random unitary:"
   ]
  },
  {
   "cell_type": "code",
   "execution_count": 10,
   "metadata": {},
   "outputs": [],
   "source": [
    "from strawberryfields.utils import random_interferometer\n",
    "target_unitary = np.identity(cutoff, dtype=np.complex128)\n",
    "target_unitary[:gate_cutoff, :gate_cutoff] = random_interferometer(4)"
   ]
  },
  {
   "cell_type": "markdown",
   "metadata": {},
   "source": [
    "This matches the gate cutoff of $d=4$ that we chose above when defining our hyperparameters."
   ]
  },
  {
   "cell_type": "markdown",
   "metadata": {},
   "source": [
    "Using this target state, we calculate the cost function we would like to minimize. We must use TensorFlow functions to manipulate this data, as were are working with symbolic variables!"
   ]
  },
  {
   "cell_type": "code",
   "execution_count": 11,
   "metadata": {},
   "outputs": [],
   "source": [
    "in_state = np.arange(gate_cutoff)\n",
    "\n",
    "# extract action of the target unitary acting on\n",
    "# the allowed input fock states.\n",
    "target_kets = np.array([target_unitary[:, i] for i in in_state])\n",
    "target_kets = tf.constant(target_kets, dtype=tf.complex64)\n",
    "\n",
    "# overlaps\n",
    "overlaps = tf.real(tf.einsum('bi,bi->b', tf.conj(target_kets), ket))\n",
    "mean_overlap = tf.reduce_mean(overlaps)\n",
    "\n",
    "# cost\n",
    "cost = tf.reduce_sum(tf.abs(overlaps - 1))"
   ]
  },
  {
   "cell_type": "markdown",
   "metadata": {},
   "source": [
    "Now that the cost function is defined, we can define and run the optimization. Below, we choose the Adam optimizer that is built into TensorFlow."
   ]
  },
  {
   "cell_type": "code",
   "execution_count": 12,
   "metadata": {},
   "outputs": [],
   "source": [
    "# Using Adam algorithm for optimization\n",
    "optimiser = tf.train.AdamOptimizer()\n",
    "min_cost = optimiser.minimize(cost)\n",
    "\n",
    "# Begin Tensorflow session\n",
    "session = tf.Session()\n",
    "session.run(tf.global_variables_initializer())"
   ]
  },
  {
   "cell_type": "markdown",
   "metadata": {},
   "source": [
    "We then loop over all repetitions, storing the best predicted fidelity value. "
   ]
  },
  {
   "cell_type": "code",
   "execution_count": 13,
   "metadata": {},
   "outputs": [
    {
     "name": "stdout",
     "output_type": "stream",
     "text": [
      "Rep: 0 Cost: 3.2086 Mean overlap: 0.1978\n",
      "Rep: 100 Cost: 0.9056 Mean overlap: 0.7736\n",
      "Rep: 200 Cost: 0.6388 Mean overlap: 0.8403\n",
      "Rep: 300 Cost: 0.5518 Mean overlap: 0.8621\n",
      "Rep: 400 Cost: 0.4826 Mean overlap: 0.8794\n",
      "Rep: 500 Cost: 0.3582 Mean overlap: 0.9105\n",
      "Rep: 600 Cost: 0.2373 Mean overlap: 0.9407\n",
      "Rep: 700 Cost: 0.1362 Mean overlap: 0.9659\n",
      "Rep: 800 Cost: 0.0603 Mean overlap: 0.9849\n",
      "Rep: 900 Cost: 0.0423 Mean overlap: 0.9894\n"
     ]
    }
   ],
   "source": [
    "overlap_progress = []\n",
    "cost_progress = []\n",
    "\n",
    "# Run optimization\n",
    "for i in range(reps):\n",
    "\n",
    "    # one repitition of the optimization\n",
    "    _, cost_val, overlaps_val, ket_val, params_val = session.run(\n",
    "        [min_cost, cost, overlaps, ket, params])\n",
    "    \n",
    "    # calculate the mean overlap\n",
    "    # This gives us an idea of how the optimization is progressing\n",
    "    mean_overlap_val = np.mean(overlaps_val)\n",
    "\n",
    "    # store cost at each step\n",
    "    cost_progress.append(cost_val)\n",
    "    overlap_progress.append(overlaps_val)\n",
    "\n",
    "    # Prints progress at every 100 reps\n",
    "    if i % 100 == 0:\n",
    "        # print progress\n",
    "        print(\"Rep: {} Cost: {:.4f} Mean overlap: {:.4f}\".format(i, cost_val, mean_overlap_val))"
   ]
  },
  {
   "cell_type": "markdown",
   "metadata": {},
   "source": [
    "## Results and visualisation"
   ]
  },
  {
   "cell_type": "markdown",
   "metadata": {},
   "source": [
    "Plotting the cost vs. optimization step:"
   ]
  },
  {
   "cell_type": "code",
   "execution_count": 14,
   "metadata": {},
   "outputs": [],
   "source": [
    "from matplotlib import pyplot as plt\n",
    "%matplotlib inline\n",
    "plt.rcParams['font.family'] = 'serif'\n",
    "plt.rcParams['font.sans-serif'] = ['Computer Modern Roman']\n",
    "plt.style.use('default')"
   ]
  },
  {
   "cell_type": "code",
   "execution_count": 15,
   "metadata": {},
   "outputs": [
    {
     "data": {
      "image/png": "[encoded data removed]",
      "text/plain": [
       "<Figure size 432x288 with 1 Axes>"
      ]
     },
     "metadata": {
      "needs_background": "light"
     },
     "output_type": "display_data"
    }
   ],
   "source": [
    "plt.plot(cost_progress)\n",
    "plt.ylabel('Cost')\n",
    "plt.xlabel('Step');"
   ]
  },
  {
   "cell_type": "markdown",
   "metadata": {},
   "source": [
    "We can use matrix plots to plot the real and imaginary components of the target and learnt unitary."
   ]
  },
  {
   "cell_type": "code",
   "execution_count": 16,
   "metadata": {},
   "outputs": [],
   "source": [
    "learnt_unitary = ket_val.T[:gate_cutoff, :gate_cutoff]\n",
    "target_unitary = target_unitary[:gate_cutoff, :gate_cutoff]"
   ]
  },
  {
   "cell_type": "code",
   "execution_count": 17,
   "metadata": {},
   "outputs": [
    {
     "data": {
      "image/png": "[encoded data removed]",
      "text/plain": [
       "<Figure size 504x288 with 4 Axes>"
      ]
     },
     "metadata": {
      "needs_background": "light"
     },
     "output_type": "display_data"
    }
   ],
   "source": [
    "fig, ax = plt.subplots(1, 4, figsize=(7, 4))\n",
    "ax[0].matshow(target_unitary.real, cmap=plt.get_cmap('Reds'))\n",
    "ax[1].matshow(target_unitary.imag, cmap=plt.get_cmap('Greens'))\n",
    "ax[2].matshow(learnt_unitary.real, cmap=plt.get_cmap('Reds'))\n",
    "ax[3].matshow(learnt_unitary.imag, cmap=plt.get_cmap('Greens'))\n",
    "\n",
    "ax[0].set_xlabel(r'$\\mathrm{Re}(V)$')\n",
    "ax[1].set_xlabel(r'$\\mathrm{Im}(V)$')\n",
    "ax[2].set_xlabel(r'$\\mathrm{Re}(U)$')\n",
    "ax[3].set_xlabel(r'$\\mathrm{Im}(U)$');"
   ]
  },
  {
   "cell_type": "markdown",
   "metadata": {},
   "source": [
    "## Process fidelity"
   ]
  },
  {
   "cell_type": "markdown",
   "metadata": {},
   "source": [
    "The process fidelity between the two unitaries is defined by\n",
    "\n",
    "$$F_e  = \\left| \\left\\langle \\Psi(V) \\mid \\Psi(U)\\right\\rangle\\right|^2$$\n",
    "\n",
    "where:\n",
    "\n",
    "* $\\left|\\Psi(V)\\right\\rangle$ is the action of $V$ on one\n",
    "half of a maximally entangled state $\\left|\\phi\\right\\rangle$:\n",
    "\n",
    "$$\\left|\\Psi(V)\\right\\rangle = (I\\otimes V)\\left|\\phi\\right\\rangle,$$\n",
    "\n",
    "\n",
    "* $V$ is the target unitary,\n",
    "* $U$ the learnt unitary."
   ]
  },
  {
   "cell_type": "code",
   "execution_count": 18,
   "metadata": {},
   "outputs": [],
   "source": [
    "I = np.identity(gate_cutoff)\n",
    "phi = I.flatten()/np.sqrt(gate_cutoff)\n",
    "psiV = np.kron(I, target_unitary) @ phi\n",
    "psiU = np.kron(I, learnt_unitary) @ phi"
   ]
  },
  {
   "cell_type": "code",
   "execution_count": 19,
   "metadata": {},
   "outputs": [
    {
     "data": {
      "text/plain": [
       "0.985476461019703"
      ]
     },
     "execution_count": 19,
     "metadata": {},
     "output_type": "execute_result"
    }
   ],
   "source": [
    "np.abs(np.vdot(psiV, psiU))**2"
   ]
  },
  {
   "cell_type": "markdown",
   "metadata": {},
   "source": [
    "Therefore, after 1000 repetitions, the learnt unitary synthesized via a variational quantum circuit has a process fidelity of 95.98% to the target unitary."
   ]
  },
  {
   "cell_type": "markdown",
   "metadata": {},
   "source": [
    "## Circuit parameters\n",
    "\n",
    "We can also query the optimal variational circuit parameters $\\vec{\\theta}$ that resulted in the learnt unitary. For example, to determine the maximum squeezing magnitude in the variational quantum circuit:"
   ]
  },
  {
   "cell_type": "code",
   "execution_count": 20,
   "metadata": {},
   "outputs": [
    {
     "data": {
      "text/plain": [
       "0.22109538"
      ]
     },
     "execution_count": 20,
     "metadata": {},
     "output_type": "execute_result"
    }
   ],
   "source": [
    "np.max(np.abs(params_val[1]))"
   ]
  },
  {
   "cell_type": "markdown",
   "metadata": {},
   "source": [
    "## References\n",
    "\n",
    "[1] Juan Miguel Arrazola, Thomas R. Bromley, Josh Izaac, Casey R. Myers, Kamil Brádler, and Nathan Killoran. Machine learning method for state preparation and gate synthesis on photonic quantum computers. [Quantum Science and Technology, 4 024004](https://iopscience.iop.org/article/10.1088/2058-9565/aaf59e), (2019).\n",
    "\n",
    "[2] Killoran, N., Bromley, T. R., Arrazola, J. M., Schuld, M., Quesada, N., & Lloyd, S. \"Continuous-variable quantum neural networks.\" arXiv, 2018. <a href=https://arxiv.org/abs/1806.06871>arXiv:1806.06871</a>"
   ]
  }
 ],
 "metadata": {
  "kernelspec": {
   "display_name": "Python (tensorflow1.3)",
   "language": "python",
   "name": "tensorflow1.3"
  },
  "language_info": {
   "codemirror_mode": {
    "name": "ipython",
    "version": 3
   },
   "file_extension": ".py",
   "mimetype": "text/x-python",
   "name": "python",
   "nbconvert_exporter": "python",
   "pygments_lexer": "ipython3",
   "version": "3.6.8"
  },
  "toc": {
   "nav_menu": {},
   "number_sections": true,
   "sideBar": true,
   "skip_h1_title": false,
   "toc_cell": false,
   "toc_position": {},
   "toc_section_display": "block",
   "toc_window_display": false
  }
 },
 "nbformat": 4,
 "nbformat_minor": 2
}
