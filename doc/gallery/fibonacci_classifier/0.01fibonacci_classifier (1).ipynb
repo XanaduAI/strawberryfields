{
 "cells": [
  {
   "cell_type": "markdown",
   "metadata": {},
   "source": [
    "## Fibonacci Classifier\n"
   ]
  },
  {
   "cell_type": "markdown",
   "metadata": {},
   "source": [
    "Author: Brianna Gopaul\n"
   ]
  },
  {
   "cell_type": "markdown",
   "metadata": {},
   "source": [
    "<h3>The fibonacci series is a sequence of numbers that increases as it sums up it's two subsequent values. For example, 1, 1, 2, 3 are numbers within the fibonacci series because 1 + 1 = 2 + 1 = 3. </h3>"
   ]
  },
  {
   "cell_type": "markdown",
   "metadata": {},
   "source": [
    "<p><font size=\"3\">Below we create a supervised model that classifies fibonacci sequences from non-fibonacci sequences in strawberryfields using The Quantum Machine Learning Toolbox. \n",
    "\n"
   ]
  },
  {
   "cell_type": "markdown",
   "metadata": {},
   "source": [
    "<img src=\"https://github.com/BriannaGopaul/strawberryfields/blob/patch-1/doc/gallery/FibonacciClassifier/Screen%20Shot%202018-07-27%20at%206.00.25%20PM%20copy.png?raw=true\">"
   ]
  },
  {
   "cell_type": "markdown",
   "metadata": {},
   "source": [
    "## Supervised Model Tutorial"
   ]
  },
  {
   "cell_type": "code",
   "execution_count": null,
   "metadata": {},
   "outputs": [],
   "source": [
    "import strawberryfields as sf\n",
    "from strawberryfields.ops import Dgate, Kgate, Sgate, Rgate, Vgate, Catstate, Zgate, BSgate\n",
    "import tensorflow as tf\n",
    "from qmlt.tf import CircuitLearner\n",
    "from strawberryfields.ops import *\n",
    "from qmlt.tf.helpers import make_param"
   ]
  },
  {
   "cell_type": "markdown",
   "metadata": {},
   "source": [
    "Here we define the number of iterations we want our model to run through. "
   ]
  },
  {
   "cell_type": "code",
   "execution_count": null,
   "metadata": {},
   "outputs": [],
   "source": [
    "steps = 100"
   ]
  },
  {
   "cell_type": "markdown",
   "metadata": {},
   "source": [
    "Now we create a circuit that contains trainable parameters. The lines proceeding it takes the shape of the input and runs the circuit. The tensorflow backend 'tf' is used and arguments eval, cutoff_dim and batch_size are defined. Depending on the backend used, different arguments will be required The fock backend can alternatively be used in this example."
   ]
  },
  {
   "cell_type": "markdown",
   "metadata": {},
   "source": [
    "\n",
    "The output of the circuit is measure using photon counting. If we measure zero photons in the first mode and two photons in the second mode, this output is defined as p0\n"
   ]
  },
  {
   "cell_type": "code",
   "execution_count": null,
   "metadata": {},
   "outputs": [],
   "source": [
    "def circuit(X):\n",
    "    kappa = make_param('kappa', constant=0.9)\n",
    "    theta = make_param('theta', constant=2.25)\n",
    "\n",
    "\n",
    "    eng, q = sf.Engine(2)\n",
    "\n",
    "    with eng:\n",
    "         Dgate(X[:, 0], X[:, 1]) | q[0]\n",
    "         BSgate(theta=theta) | (q[0], q[1])\n",
    "         Sgate(X[:, 0], X[:, 1]) | q[0]\n",
    "         Sgate(X[:, 0], X[:, 1]) | q[1] \n",
    "         BSgate(theta=theta) | (q[0], q[1])\n",
    "         Dgate(X[:, 0], X[:, 1]) | q[0]\n",
    "         Kgate(kappa=kappa) | q[0]\n",
    "         Kgate(kappa=kappa) | q[1]\n",
    "    num_inputs = X.get_shape().as_list()[0]\n",
    "    state = eng.run('tf', cutoff_dim=10, eval=False, batch_size=num_inputs)\n",
    "\n",
    "    p0 = state.fock_prob([0, 2])\n",
    "    p1 = state.fock_prob([2, 0])\n",
    "    normalisation = p0 + p1 + 1e-10\n",
    "    circuit_output = p1/normalisation\n",
    "    return circuit_output"
   ]
  },
  {
   "cell_type": "markdown",
   "metadata": {},
   "source": [
    "In machine learning, the loss function tells us how much error there is between the correct value and the output value. \n",
    "Mean Squared Error (MSE) minimizes the summation of all errors squared. We also load datasets that contain the fibonacci and non-fibonacci sequences.\n"
   ]
  },
  {
   "cell_type": "code",
   "execution_count": null,
   "metadata": {},
   "outputs": [],
   "source": [
    "def myloss(circuit_output, targets):\n",
    "\n",
    "    return tf.losses.mean_squared_error(labels=circuit_output, predictions=targets)\n",
    "def outputs_to_predictions(circuit_output):\n",
    "    return tf.round(circuit_output)\n",
    "\n",
    "#download .csv files from strawberryfields/doc/gallery/fibonacci_classifier/datasets\n",
    "import numpy as np\n",
    "X_train = numpy.loadtxt('/Users/briannagopaul/Desktop/2X_train.csv', delimiter=',',dtype = float, skiprows=1)\n",
    "Y_train = numpy.loadtxt('/Users/briannagopaul/Desktop/Y_train1.csv', delimiter=',',dtype = float, skiprows=1)\n",
    "X_test = numpy.loadtxt('/Users/briannagopaul/Desktop/2X_test.csv', delimiter=',',dtype = float, skiprows=1)\n",
    "Y_test = numpy.loadtxt('/Users/briannagopaul/Desktop/2Y_test.csv', delimiter=',',dtype = float, skiprows=1)\n",
    "X_pred = numpy.loadtxt('/Users/briannagopaul/Desktop/2X_pred.csv', delimiter=',',dtype = float, skiprows=1)\n"
   ]
  },
  {
   "cell_type": "markdown",
   "metadata": {},
   "source": [
    "Hyperparameters that define the task, optimizer and various other parameters listed in the QMLT docs are defined below. \n",
    "A learner is then fed the hyperparameters and data.\n"
   ]
  },
  {
   "cell_type": "code",
   "execution_count": null,
   "metadata": {},
   "outputs": [],
   "source": [
    "hyperparams= {'circuit': circuit,\n",
    "               'task': 'supervised',\n",
    "               'loss': myloss,\n",
    "               'optimizer': 'SGD',\n",
    "               'init_learning_rate': 0.1,\n",
    "               'print_log': True}\n",
    "\n",
    "learner = CircuitLearner(hyperparams=hyperparams)\n",
    "learner.train_circuit(X=X_train, Y=Y_train, steps=steps)\n",
    "\n",
    "test_score = learner.score_circuit(X=X_test, Y=Y_test,outputs_to_predictions=outputs_to_predictions)\n",
    "print(\"Accuracy on test set: \", test_score['accuracy'])\n",
    "outcomes = learner.run_circuit(X=X_pred, outputs_to_predictions=outputs_to_predictions)\n",
    "print(\"Predictions for new inputs: {}\".format(outcomes['predictions']))  "
   ]
  },
  {
   "cell_type": "markdown",
   "metadata": {},
   "source": [
    "## Observations"
   ]
  },
  {
   "cell_type": "markdown",
   "metadata": {},
   "source": [
    "### Small Dataset vs Large Dataset"
   ]
  },
  {
   "cell_type": "markdown",
   "metadata": {},
   "source": [
    "Here we fix the value of x_pred in each test and feed the model two different datasets to see the relationship between the model's accuracy and dataset size. The difficulty of x_pred increases every level. "
   ]
  },
  {
   "cell_type": "code",
   "execution_count": null,
   "metadata": {},
   "outputs": [],
   "source": [
    "X_pred_level1 = [[0.08, 0.13, 0.21, 0.34], [0.2, 0.3, 0.5, 0.8],[0.01, 0.01, 0.02, 0.03],[0.008, 0.013, 0.021, 0.034], [0.3, 0.5, 0.8, 0.13], [0.55, 0.64, 0.77, 0.21], [0.62, 0.93, 0.38, 0.23],[0.9, 0.8, 0.7, 0.6], [0.4, 0.6, 0.78, 0.77],[0.44, 0.96, 0.28, 0.33]]"
   ]
  },
  {
   "cell_type": "code",
   "execution_count": null,
   "metadata": {},
   "outputs": [],
   "source": [
    "X_pred_level2 = [[0.34, 0.55, 0.89, 1.44], [0.003, 0.005, 0.008, 0.013], [0.3, 0.5, 0.8, 1.3], [0.08, 0.13, 0.21, 0.34], [0.5, 0.8, 1.3, 2.1], [0.413, 0.875, 0.066, 0.63], [0.3, 0.5, 0.7, 0.4], [0.3, 0.8, 0.12, 0.2], [0.4, 0.5, 0.7, 0.7], [0.7, 0.0, 0.6, 0.5]]"
   ]
  },
  {
   "cell_type": "code",
   "execution_count": null,
   "metadata": {},
   "outputs": [],
   "source": [
    "X_pred_level3 = [[0.233, 0.377, 0.61, 0.987], [0.55, 0.89, 1.44, 2.33], [0.0013, 0.0021, 0.0034, 0.0055], [0.5, 0.8, 1.3, 2.1], [0.89, 1.44, 2.33, 3.77], [0.03, 0.05, 0.3, 0.13], [0.40, 0.34, 0.55, 0.89], [0.2, 0.45, 0.5, 0.8], [0.08, 0.13, 0.30, 0.34], [0.13, 0.21, 0.34, 0.80]]"
   ]
  },
  {
   "cell_type": "markdown",
   "metadata": {},
   "source": [
    "### Small Dataset"
   ]
  },
  {
   "cell_type": "code",
   "execution_count": null,
   "metadata": {},
   "outputs": [],
   "source": [
    "X_train = [[0.1, 0.1, 0.2, 0.3],[0.5, 0.8, 0.14, 0.21],[0.3, 0.4, 0.5, 0.8], [0.3, 0.6, 0.9, 0.13]]\n",
    "\n",
    "Y_train = [1, 1, 0, 0]\n",
    "\n",
    "X_test = [[0.5, 0.8, 0.13, 0.21], [0.21, 0.34, 0.55, 0.89], [0.7, 0.1, 0.879, 0.444], [0.20, 0.56, 0.909, 0.11]]\n",
    "\n",
    "Y_test = [1, 1, 0, 0]"
   ]
  },
  {
   "cell_type": "markdown",
   "metadata": {},
   "source": [
    "### Large Dataset"
   ]
  },
  {
   "cell_type": "markdown",
   "metadata": {},
   "source": [
    "Check out the large dataset in strawberryfields/doc/gallery/fibonacci_classifier/datasets/..."
   ]
  },
  {
   "cell_type": "code",
   "execution_count": null,
   "metadata": {},
   "outputs": [],
   "source": [
    "X_train = numpy.loadtxt('/Users/briannagopaul/Desktop/2X_train.csv', delimiter=',',dtype = float, skiprows=1)\n",
    "Y_train = numpy.loadtxt('/Users/briannagopaul/Desktop/Y_train1.csv', delimiter=',',dtype = float, skiprows=1)\n",
    "X_test = numpy.loadtxt('/Users/briannagopaul/Desktop/2X_test.csv', delimiter=',',dtype = float, skiprows=1)\n",
    "Y_test = numpy.loadtxt('/Users/briannagopaul/Desktop/2Y_test.csv', delimiter=',',dtype = float, skiprows=1)\n",
    "X_pred = numpy.loadtxt('/Users/briannagopaul/Desktop/2X_pred.csv', delimiter=',',dtype = float, skiprows=1)"
   ]
  },
  {
   "cell_type": "markdown",
   "metadata": {},
   "source": [
    "### Data Generation "
   ]
  },
  {
   "cell_type": "code",
   "execution_count": null,
   "metadata": {},
   "outputs": [],
   "source": [
    "import random\n",
    "import numpy as np\n",
    "x=np.random.random(4)\n",
    "np.set_printoptions(precision=2)\n",
    "print(x)"
   ]
  },
  {
   "cell_type": "code",
   "execution_count": null,
   "metadata": {
    "scrolled": true
   },
   "outputs": [],
   "source": [
    "a = [1,1]\n",
    "idx = 0\n",
    "for i in range(30):\n",
    "    a.append(a[idx] + a[idx+1])\n",
    "    idx +=1\n",
    "    print(a[-1]/100)      "
   ]
  },
  {
   "cell_type": "markdown",
   "metadata": {},
   "source": [
    "## Results"
   ]
  },
  {
   "cell_type": "markdown",
   "metadata": {},
   "source": [
    "### Level 1"
   ]
  },
  {
   "cell_type": "code",
   "execution_count": null,
   "metadata": {},
   "outputs": [],
   "source": [
    "X_pred_level1 = [[0.08, 0.13, 0.21, 0.34], [0.2, 0.3, 0.5, 0.8],[0.01, 0.01, 0.02, 0.03],[0.008, 0.013, 0.021, 0.034], [0.3, 0.5, 0.8, 0.13], [0.55, 0.64, 0.77, 0.21], [0.62, 0.93, 0.38, 0.23],[0.9, 0.8, 0.7, 0.6], [0.4, 0.6, 0.78, 0.77],[0.44, 0.96, 0.28, 0.33]]"
   ]
  },
  {
   "cell_type": "markdown",
   "metadata": {},
   "source": [
    "Level 1 is the easiest classification task. To challenge the model, the non-fibonacci sequences are close in value to each other."
   ]
  },
  {
   "cell_type": "markdown",
   "metadata": {},
   "source": [
    "__Tasks Classified Correctly:__\n",
    "<br>\n",
    "Large Dataset: 20%\n",
    "<br>\n",
    "Small Dataset: 80%"
   ]
  },
  {
   "cell_type": "markdown",
   "metadata": {},
   "source": [
    "### Level 2"
   ]
  },
  {
   "cell_type": "code",
   "execution_count": null,
   "metadata": {},
   "outputs": [],
   "source": [
    "X_pred_level2 = [[0.34, 0.55, 0.89, 1.44], [0.003, 0.005, 0.008, 0.013], [0.3, 0.5, 0.8, 1.3], [0.08, 0.13, 0.21, 0.34], [0.5, 0.8, 1.3, 2.1], [0.413, 0.875, 0.066, 0.63], [0.3, 0.5, 0.7, 0.4], [0.3, 0.8, 0.12, 0.2], [0.4, 0.5, 0.7, 0.7], [0.7, 0.0, 0.6, 0.5]]"
   ]
  },
  {
   "cell_type": "markdown",
   "metadata": {},
   "source": [
    "Level 2 challenges the model by testing it against unfamiliar fibonacci sequences. The non-fibonacci numbers also become closer in value. "
   ]
  },
  {
   "cell_type": "markdown",
   "metadata": {},
   "source": [
    "__Tasks Classified Correctly:__ \n",
    "<br>\n",
    "Large Dataset: 40%\n",
    "<br>\n",
    "Small Dataset: 70%"
   ]
  },
  {
   "cell_type": "markdown",
   "metadata": {},
   "source": [
    "### Level 3"
   ]
  },
  {
   "cell_type": "code",
   "execution_count": null,
   "metadata": {},
   "outputs": [],
   "source": [
    "X_pred_level3 = [[0.233, 0.377, 0.61, 0.987], [0.55, 0.89, 1.44, 2.33], [0.0013, 0.0021, 0.0034, 0.0055], [0.5, 0.8, 1.3, 2.1], [0.89, 1.44, 2.33, 3.77], [0.03, 0.05, 0.3, 0.13], [0.40, 0.34, 0.55, 0.89], [0.2, 0.45, 0.5, 0.8], [0.08, 0.13, 0.30, 0.34], [0.13, 0.21, 0.34, 0.80]]"
   ]
  },
  {
   "cell_type": "markdown",
   "metadata": {},
   "source": [
    "Level 3 is the most difficult test set. \n",
    "<br>\n",
    "It contains number sequences that appear to follow the fibonacci pattern but are off by a small value. e.g. 0.13, 0.21, 0.34, 0.80"
   ]
  },
  {
   "cell_type": "markdown",
   "metadata": {},
   "source": [
    "__Tasks Classified Correctly: __\n",
    "<br>\n",
    "Large Dataset: 70%\n",
    "<br>\n",
    "Small Dataset: 30%"
   ]
  },
  {
   "cell_type": "markdown",
   "metadata": {},
   "source": [
    "The graph below illustrates the performance of the small dataset model and the large dataset model on each test set."
   ]
  },
  {
   "cell_type": "code",
   "execution_count": 2,
   "metadata": {},
   "outputs": [
    {
     "data": {
      "image/png": "[encoded data removed]",
      "text/plain": [
       "<matplotlib.figure.Figure at 0x117c871d0>"
      ]
     },
     "metadata": {},
     "output_type": "display_data"
    }
   ],
   "source": [
    "import numpy as np\n",
    "import matplotlib.pyplot as plt\n",
    "\n",
    "\n",
    "N = 3\n",
    "B = (20, 40, 70)\n",
    "A = (80, 70, 30)\n",
    "BB = (1, 1, 1)\n",
    "AA = (1, 1, 1)\n",
    "ind = np.arange(N)    # the x locations for the groups\n",
    "width = 0.35       # the width of the bars: can also be len(x) sequence\n",
    "\n",
    "p1 = plt.bar(ind, B, width, yerr=BB)\n",
    "p2 = plt.bar(ind, A, width,\n",
    "             bottom=B, yerr=AA)\n",
    "\n",
    "plt.ylabel('Correct Classifications(%)')\n",
    "plt.title('Large Dataset vs Small Dataset Performance')\n",
    "plt.xticks(ind, ('L1', 'L2', 'L3'))\n",
    "plt.yticks(np.arange(0, 81, 10))\n",
    "plt.legend((p1[0], p2[0]), ('Large Dataset', 'Small Dataset'))\n",
    "\n",
    "plt.show()"
   ]
  },
  {
   "cell_type": "markdown",
   "metadata": {},
   "source": [
    "\n"
   ]
  }
 ],
 "metadata": {
  "kernelspec": {
   "display_name": "Python 3",
   "language": "python",
   "name": "python3"
  },
  "language_info": {
   "codemirror_mode": {
    "name": "ipython",
    "version": 3
   },
   "file_extension": ".py",
   "mimetype": "text/x-python",
   "name": "python",
   "nbconvert_exporter": "python",
   "pygments_lexer": "ipython3",
   "version": "3.6.5"
  }
 },
 "nbformat": 4,
 "nbformat_minor": 2
}
