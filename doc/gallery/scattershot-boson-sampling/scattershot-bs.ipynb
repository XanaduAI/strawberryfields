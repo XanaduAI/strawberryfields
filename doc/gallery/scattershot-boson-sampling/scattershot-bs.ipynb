{
 "cells": [
  {
   "cell_type": "markdown",
   "metadata": {},
   "source": [
    "# Scattershot Boson Sampling\n",
    "\n",
    "Implementation of Scattershot Boson Sampling [\\[1\\]](https://arxiv.org/abs/1305.4346) [\\[2\\]](https://www.scottaaronson.com/blog/?p=1579) in Strawberry Fields.\n",
    "\n",
    "As we have seen in the Boson Sampling (BS) tutorial, a boson sampler is a quantum machine that takes a deterministic input made of $m$ modes, $n$ of them sending photons simultaneously through an interferometer modeled by a unitary matrix $U$. The output of the interferometer is a random distribution of photons that can be computed classically with the permanent of $U$. \n",
    "\n",
    "Scattershot Boson Sampling (SBS) was motivated by the fact that emitting $n$ photons simultaneously in the input is experimentally very hard to realize for large $n$. What is simpler to build is a random input using Spontaneous Parametric Down-Conversion (SPDC), whose distribution is given by $P(k_i = k)=(1-\\chi^2) \\chi^{2 k}$ where $k_i$ is the number of photon in mode i and $\\chi \\in (-1,1)$ is a given parameter (equation (7) of the [original paper \\[1\\]](https://arxiv.org/abs/1305.4346)). The advantage of SPDC is not only that it's a coherent source of photons but also that it always emits an even number of photons: one that can be used in a boson sampling circuit and one to measure the input.\n",
    "\n",
    "In quantum optics, we model SPDC by 2-mode squeezing gates $\\hat{S}_2$ such that $\\hat{S}_2 |0 \\rangle |0 \\rangle = \\sqrt{(1-\\chi^2)} \\sum_{k=0}^{\\infty} \\chi^k |k \\rangle |k \\rangle$ (equation (3) of the paper). The first qubit will be used to measure the input while the second will be sent to the circuit. \n",
    "\n",
    "In SF, this 2-mode squeezing gate is called S2gate and takes as input a squeezing parameter $r$ related to $\\chi$ by the formula $r=\\tanh(\\chi)$"
   ]
  },
  {
   "cell_type": "code",
   "execution_count": 1,
   "metadata": {},
   "outputs": [
    {
     "name": "stderr",
     "output_type": "stream",
     "text": [
      "/home/artix41/miniconda3/envs/sf/lib/python3.6/importlib/_bootstrap.py:219: RuntimeWarning: numpy.dtype size changed, may indicate binary incompatibility. Expected 96, got 88\n",
      "  return f(*args, **kwds)\n"
     ]
    }
   ],
   "source": [
    "import numpy as np\n",
    "import scipy as sp\n",
    "from math import factorial, tanh\n",
    "import itertools\n",
    "\n",
    "import matplotlib.pyplot as plt\n",
    "%matplotlib inline\n",
    "import matplotlib.path as mpath\n",
    "import matplotlib.lines as mlines\n",
    "import matplotlib.patches as mpatches\n",
    "from matplotlib.collections import PatchCollection\n",
    "\n",
    "import strawberryfields as sf\n",
    "from strawberryfields.ops import *"
   ]
  },
  {
   "cell_type": "code",
   "execution_count": 2,
   "metadata": {
    "collapsed": true
   },
   "outputs": [],
   "source": [
    "colormap = np.array(plt.rcParams['axes.prop_cycle'].by_key()['color'])"
   ]
  },
  {
   "cell_type": "markdown",
   "metadata": {},
   "source": [
    "## Constructing the circuit"
   ]
  },
  {
   "cell_type": "markdown",
   "metadata": {},
   "source": [
    "### Constants"
   ]
  },
  {
   "cell_type": "markdown",
   "metadata": {},
   "source": [
    "Our circuit will depend on a few parameters. The first constants are the squeezing parameter $r \\in [-1,1]$ (already described in introduction) and the cutoff number, which corresponds to the maximum number of photons per mode considered in the computation (used to make the simulation tractable)."
   ]
  },
  {
   "cell_type": "code",
   "execution_count": 3,
   "metadata": {
    "collapsed": true
   },
   "outputs": [],
   "source": [
    "r_squeezing = 0.5 # squeezing parameter for the S2gate (here taken randomly between -1 and 1)\n",
    "cutoff = 7 # max number of photons computed per mode"
   ]
  },
  {
   "cell_type": "markdown",
   "metadata": {},
   "source": [
    "Then comes the unitary matrix, representing the interferometer. We have decided to implement a 4-modes boson sampler, and we therefore need a $4 \\times 4$-unitary matrix. Any kind of such unitary matrix could do well, but for simplicity, we choose to implement it using two rotations: one with angle $\\theta_1$ for the qubits 1 and 2, and another with angle $\\theta_2$ for the qubits 3 and 4. The final matrix has the form: $\\begin{pmatrix} \\cos(\\theta_1) & - \\sin(\\theta_1) & 0 & 0  \\\\ \\sin(\\theta_1) & cos(\\theta_1) & 0 & 0 \\\\ 0 & 0 & \\cos(\\theta_2) & - \\sin(\\theta_2) \\\\ 0 & 0 & \\cos(\\theta_2) & \\sin(\\theta_2) \\end{pmatrix}$ with $\\theta_1, \\theta_2 \\in [0,2\\pi)$."
   ]
  },
  {
   "cell_type": "code",
   "execution_count": 4,
   "metadata": {
    "collapsed": true
   },
   "outputs": [],
   "source": [
    "theta1 = 0.5\n",
    "theta2 = 1\n",
    "\n",
    "U = np.array([[np.cos(theta1), -np.sin(theta1), 0,               0             ],\n",
    "              [np.sin(theta1),  np.cos(theta1), 0,               0             ],\n",
    "              [0,               0,              np.cos(theta2), -np.sin(theta2)],\n",
    "              [0,               0,              np.sin(theta2),  np.cos(theta2)]])"
   ]
  },
  {
   "cell_type": "markdown",
   "metadata": {},
   "source": [
    "### Circuit"
   ]
  },
  {
   "cell_type": "markdown",
   "metadata": {},
   "source": [
    "We instantiate our circuit with 8 qubits, 4 for the input, 4 for the output."
   ]
  },
  {
   "cell_type": "code",
   "execution_count": 5,
   "metadata": {
    "collapsed": true
   },
   "outputs": [],
   "source": [
    "eng, q = sf.Engine(8)"
   ]
  },
  {
   "cell_type": "markdown",
   "metadata": {},
   "source": [
    "We can then declare our circuit. The first four lines are 2-modes squeezing gates, which generate a random number of photons  "
   ]
  },
  {
   "cell_type": "code",
   "execution_count": 6,
   "metadata": {
    "collapsed": true
   },
   "outputs": [],
   "source": [
    "with eng:\n",
    "    S2gate(r_squeezing) | (q[0], q[4])\n",
    "    S2gate(r_squeezing) | (q[1], q[5])\n",
    "    S2gate(r_squeezing) | (q[2], q[6])\n",
    "    S2gate(r_squeezing) | (q[3], q[7])\n",
    "\n",
    "    Interferometer(U) | (q[4], q[5], q[6], q[7])"
   ]
  },
  {
   "cell_type": "markdown",
   "metadata": {},
   "source": [
    "### Running"
   ]
  },
  {
   "cell_type": "markdown",
   "metadata": {},
   "source": [
    "Run the simulation up to 'cutoff' photons per mode"
   ]
  },
  {
   "cell_type": "code",
   "execution_count": 7,
   "metadata": {
    "collapsed": true
   },
   "outputs": [],
   "source": [
    "state = eng.run('fock', cutoff_dim=cutoff)"
   ]
  },
  {
   "cell_type": "markdown",
   "metadata": {},
   "source": [
    "Get the probability associated to each state"
   ]
  },
  {
   "cell_type": "code",
   "execution_count": 8,
   "metadata": {
    "collapsed": true
   },
   "outputs": [],
   "source": [
    "probs = state.all_fock_probs()"
   ]
  },
  {
   "cell_type": "markdown",
   "metadata": {},
   "source": [
    "Reshape 'probs' such that probs $[m_1, \\dots, m_4,n_1, \\dots, n_4]$ gives the probability of the having jointly the input state $(m_1, \\dots, m_4)$ (with $m_i$ the number of photons in input mode $i$) and the output state $(n_1, \\dots, n_4)$ (with $n_i$ the number of photons in output mode $i$)"
   ]
  },
  {
   "cell_type": "code",
   "execution_count": 9,
   "metadata": {
    "collapsed": true
   },
   "outputs": [],
   "source": [
    "probs = probs.reshape(*[cutoff]*8)"
   ]
  },
  {
   "cell_type": "markdown",
   "metadata": {},
   "source": [
    "The sum is not 1 because of the finite cutoff:"
   ]
  },
  {
   "cell_type": "code",
   "execution_count": 10,
   "metadata": {},
   "outputs": [
    {
     "data": {
      "text/plain": [
       "0.9946200380981707"
      ]
     },
     "execution_count": 10,
     "metadata": {},
     "output_type": "execute_result"
    }
   ],
   "source": [
    "np.sum(probs)"
   ]
  },
  {
   "cell_type": "markdown",
   "metadata": {
    "collapsed": true
   },
   "source": [
    "## Analysis"
   ]
  },
  {
   "cell_type": "markdown",
   "metadata": {},
   "source": [
    "The goal of this section is to compare the simulated probability with the theoretical one. "
   ]
  },
  {
   "cell_type": "markdown",
   "metadata": {},
   "source": [
    "### Computation of the theoretical probability"
   ]
  },
  {
   "cell_type": "markdown",
   "metadata": {},
   "source": [
    "To do so, the first step is to compute the theoretical probability $P(\\textrm{input}=(m_1, m_2, m_3, m_4), \\textrm{output}=(n_1, n_2, n_3, n_4))$, where $m_i,n_i \\in \\mathbb{N}$ represent the number of photons respectively in input and output modes $i$.   Using the definition of conditional probability, we can decompose it as:\n",
    "\n",
    "\\\\[\n",
    "P(\\textrm{input}, \\textrm{output}) = P(\\textrm{output} \\mid \\textrm{input}) P(\\textrm{input}) \n",
    "\\\\]\n",
    "\n",
    "The value of $P(\\textrm{output} \\mid \\textrm{input})$ is given in the [Boson Sampling tutorial](https://strawberryfields.readthedocs.io/en/latest/tutorials/tutorial_boson_sampling.html#boson-tutorial):\n",
    "\n",
    "\\\\[\n",
    "P(\\textrm{input}=(m_1, m_2, m_3, m_4) \\mid \\textrm{output}=(n_1, n_2, n_3, n_4)) = \\frac{\\left| \\textrm{Perm}(U_{st}) \\right| ^2}{n_1! n_2! n_3! n_4! m_1! m_2! m_3! m_4!}\n",
    "\\\\]\n",
    "\n",
    "while $P(\\textrm{input})$ depends on the SPDC properties (see introduction) and can be computed in the following way:\n",
    "\n",
    "\n",
    "\\\\[\n",
    "\\begin{equation}\n",
    "\\begin{split}\n",
    "P(\\textrm{input} =(m_1, m_2, m_3, m_4)) &= \\prod_{i=1}^4 P(m_i) \\\\\n",
    " & = \\prod_{i=1}^4 (1-\\chi^2) \\chi^{2m_i} \\\\\n",
    " & = (1-\\chi^2)^4 \\chi^{2 \\sum m_i} \\\\\n",
    " & = (1-\\chi^2)^m \\chi^{2 n}\n",
    "\\end{split}\n",
    "\\end{equation}\n",
    "\\\\]\n",
    "\n",
    "with $m$ the number of modes (here 4) and $n=\\sum m_i$ the total number of photons. The value of $P(m_i)$ is directly taken from the original paper (equation (7)).\n",
    "\n",
    "Using that, we can now perform the computation.\n",
    "\n",
    "First, the permanent of the matrix (code from the [BS tutorial](https://strawberryfields.readthedocs.io/en/latest/tutorials/tutorial_boson_sampling.html#boson-tutorial)): "
   ]
  },
  {
   "cell_type": "code",
   "execution_count": 11,
   "metadata": {
    "collapsed": true
   },
   "outputs": [],
   "source": [
    "def perm(M):\n",
    "    n_output = M.shape[0]\n",
    "    n_input = M.shape[1]\n",
    "    if n_output != n_input: # if non-conservation of photon number\n",
    "        return 0\n",
    "    n = n_input\n",
    "    if n == 0:\n",
    "        return 1\n",
    "    d = np.ones(n)\n",
    "    j =  0\n",
    "    s = 1\n",
    "    f = np.arange(n)\n",
    "    v = M.sum(axis=0)\n",
    "    p = np.prod(v)\n",
    "    while (j < n-1):\n",
    "        v -= 2*d[j]*M[j]\n",
    "        d[j] = -d[j]\n",
    "        s = -s\n",
    "        prod = np.prod(v)\n",
    "        p += s*prod\n",
    "        f[0] = 0\n",
    "        f[j] = f[j+1]\n",
    "        f[j+1] = j+1\n",
    "        j = f[0]    \n",
    "    \n",
    "    return p/2**(n-1)"
   ]
  },
  {
   "cell_type": "markdown",
   "metadata": {},
   "source": [
    "Then the probability of the output given an input. For that, we use the algorithm given in section V of [\\[3\\]](https://arxiv.org/pdf/1212.2240.pdf) to compute the matrix $U_{st}$ (called $U_{I,O}$ in the cited paper). To sum it up, it consists in extracting $m_j$ times the column $j$ of $U$ for every $j$, and $n_i$ times the row $i$ of $U$ for every $i$ (with $m_j$ and $n_i$ still representing the number of photons respectively in input $j$ and output $i$)."
   ]
  },
  {
   "cell_type": "code",
   "execution_count": 12,
   "metadata": {
    "collapsed": true
   },
   "outputs": [],
   "source": [
    "def get_proba_output(U, input, output):\n",
    "    # The two lines below are the extracted row and column indices.\n",
    "    # For instance, for output=[3,2,1,0], we want list_rows=[0,0,0,1,1,2].\n",
    "    # sum(.,[]) is a Python trick to flatten the list\n",
    "    list_rows = sum([[i] * output[i] for i in range(len(output))],[])\n",
    "    list_columns = sum([[i] * input[i] for i in range(len(input))],[])\n",
    "    \n",
    "    U_st = U[:,list_columns][list_rows,:]\n",
    "    perm_squared = np.abs(perm(U_st))**2\n",
    "    denominator = np.prod([factorial(inp) for inp in input]) * np.prod([factorial(out) for out in output])\n",
    "    return perm_squared / denominator"
   ]
  },
  {
   "cell_type": "code",
   "execution_count": 13,
   "metadata": {
    "collapsed": true
   },
   "outputs": [],
   "source": [
    "def get_proba_input(input):\n",
    "    chi = np.tanh(r_squeezing)\n",
    "    n = np.sum(input)\n",
    "    m = len(input)\n",
    "    return (1 - chi**2)**m * chi**(2*n)"
   ]
  },
  {
   "cell_type": "code",
   "execution_count": 14,
   "metadata": {
    "collapsed": true
   },
   "outputs": [],
   "source": [
    "def get_proba(U, result):\n",
    "    input, output = result[0:4], result[4:8]\n",
    "    return get_proba_output(U, input, output) * get_proba_input(input) # P(O,I) = P(O|I) P(I)"
   ]
  },
  {
   "cell_type": "markdown",
   "metadata": {},
   "source": [
    "### Comparison between theory and simulation"
   ]
  },
  {
   "cell_type": "code",
   "execution_count": 15,
   "metadata": {},
   "outputs": [
    {
     "name": "stdout",
     "output_type": "stream",
     "text": [
      "Theory: \t 0.3825422953821255\n",
      "Simulation: \t 0.38254229538212553\n"
     ]
    }
   ],
   "source": [
    "print(\"Theory: \\t\", get_proba(U, [0,0,0,0,0,0,0,0]))\n",
    "print(\"Simulation: \\t\", probs[0,0,0,0,0,0,0,0])"
   ]
  },
  {
   "cell_type": "code",
   "execution_count": 16,
   "metadata": {},
   "outputs": [
    {
     "name": "stdout",
     "output_type": "stream",
     "text": [
      "Theory: \t 0.06291578440230364\n",
      "Simulation: \t 0.06291578440230361\n"
     ]
    }
   ],
   "source": [
    "print(\"Theory: \\t\", get_proba(U, [1,0,0,0,1,0,0,0]))\n",
    "print(\"Simulation: \\t\", probs[1,0,0,0,1,0,0,0])"
   ]
  },
  {
   "cell_type": "code",
   "execution_count": 17,
   "metadata": {},
   "outputs": [
    {
     "name": "stdout",
     "output_type": "stream",
     "text": [
      "Theory: \t 0.018776990012967093\n",
      "Simulation: \t 0.018776990012967086\n"
     ]
    }
   ],
   "source": [
    "print(\"Theory: \\t\", get_proba(U, [1,0,0,0,0,1,0,0]))\n",
    "print(\"Simulation: \\t\", probs[1,0,0,0,0,1,0,0])"
   ]
  },
  {
   "cell_type": "markdown",
   "metadata": {},
   "source": [
    "We see that the results are very similar"
   ]
  },
  {
   "cell_type": "markdown",
   "metadata": {
    "collapsed": true
   },
   "source": [
    "## Visualization"
   ]
  },
  {
   "cell_type": "markdown",
   "metadata": {},
   "source": [
    "To visualize the results and the effect of a scattershot boson sampler, we will draw some examples of sampling."
   ]
  },
  {
   "cell_type": "markdown",
   "metadata": {},
   "source": [
    "### Make the probabilities sum to 1\n",
    "Due to computational issues, the sum of the probability does not equal 1. Since it prevents us from sampling correctly, we choose to add the missing weight to the outcome [0,0,0,0, 0,0,0,0]"
   ]
  },
  {
   "cell_type": "code",
   "execution_count": 18,
   "metadata": {
    "collapsed": true
   },
   "outputs": [],
   "source": [
    "probs[0,0,0,0, 0,0,0,0] += 1 - np.sum(probs)"
   ]
  },
  {
   "cell_type": "code",
   "execution_count": 19,
   "metadata": {},
   "outputs": [
    {
     "data": {
      "text/plain": [
       "1.0"
      ]
     },
     "execution_count": 19,
     "metadata": {},
     "output_type": "execute_result"
    }
   ],
   "source": [
    "np.sum(probs)"
   ]
  },
  {
   "cell_type": "markdown",
   "metadata": {},
   "source": [
    "### Sample"
   ]
  },
  {
   "cell_type": "markdown",
   "metadata": {},
   "source": [
    "Get all possible choices as a list of outcomes $ [ m_1, m_2, m_3, m_4, n_1, n_2, n_3, n_4 ] $"
   ]
  },
  {
   "cell_type": "code",
   "execution_count": 20,
   "metadata": {},
   "outputs": [
    {
     "data": {
      "text/plain": [
       "(0, 0, 0, 0, 0, 0, 0, 0)"
      ]
     },
     "execution_count": 20,
     "metadata": {},
     "output_type": "execute_result"
    }
   ],
   "source": [
    "list_choices = list(itertools.product(*[range(cutoff)]*8))\n",
    "list_choices[0]"
   ]
  },
  {
   "cell_type": "markdown",
   "metadata": {},
   "source": [
    "Get the probability of each choice index"
   ]
  },
  {
   "cell_type": "code",
   "execution_count": 21,
   "metadata": {},
   "outputs": [
    {
     "data": {
      "text/plain": [
       "0.38792225728395485"
      ]
     },
     "execution_count": 21,
     "metadata": {},
     "output_type": "execute_result"
    }
   ],
   "source": [
    "list_probs = [probs[list_choices[i]] for i in range(len(list_choices))]\n",
    "list_probs[0]"
   ]
  },
  {
   "cell_type": "markdown",
   "metadata": {},
   "source": [
    "Sample a choice using this probability distribution"
   ]
  },
  {
   "cell_type": "code",
   "execution_count": 22,
   "metadata": {},
   "outputs": [
    {
     "data": {
      "text/plain": [
       "(2, 0, 1, 0, 2, 0, 0, 1)"
      ]
     },
     "execution_count": 22,
     "metadata": {},
     "output_type": "execute_result"
    }
   ],
   "source": [
    "choice = list_choices[np.random.choice(range(len(list_choices)), p=list_probs)]\n",
    "choice"
   ]
  },
  {
   "cell_type": "markdown",
   "metadata": {},
   "source": [
    "### Visualize"
   ]
  },
  {
   "cell_type": "markdown",
   "metadata": {},
   "source": [
    "#### Constants"
   ]
  },
  {
   "cell_type": "code",
   "execution_count": 23,
   "metadata": {
    "collapsed": true
   },
   "outputs": [],
   "source": [
    "## Colors\n",
    "color_interf = colormap[0]\n",
    "color_lines = \"black\"\n",
    "color_laser = colormap[3]\n",
    "color_photons = \"#F5D76E\"\n",
    "color_spdc = colormap[4]\n",
    "color_meas = colormap[1]\n",
    "\n",
    "color_text_interf = \"white\"\n",
    "color_text_spdc = \"white\"\n",
    "color_text_measure = \"white\"\n",
    "\n",
    "## Sizes\n",
    "unit = 0.05\n",
    "radius_photons = 0.015\n",
    "margin_photons = 0.01\n",
    "margin_input_meas = 1*unit # space between the end of the input measure and the interferometer \n",
    "\n",
    "width_laser = 8*unit\n",
    "width_spdc = 2*unit\n",
    "width_lines_spdc = 1*unit\n",
    "width_line_interf = 8*unit\n",
    "width_measure = 2*unit\n",
    "width_line_input = width_line_interf - margin_input_meas - width_measure\n",
    "width_interf = 8*unit\n",
    "width_line_output = 6*unit\n",
    "\n",
    "height_interf = 20*unit\n",
    "height_spdc = 2*unit\n",
    "\n",
    "## Positions\n",
    "x_begin_laser = -0.5\n",
    "x_begin_spdc = x_begin_laser + width_laser\n",
    "x_end_spdc = x_begin_spdc + width_spdc\n",
    "x_begin_lines_spdc = x_end_spdc\n",
    "x_end_lines_spdc = x_end_spdc + width_lines_spdc\n",
    "x_end_line_input = x_end_lines_spdc + width_line_input\n",
    "x_begin_input_meas = x_end_line_input\n",
    "x_end_input_meas = x_begin_input_meas + width_measure\n",
    "x_begin_interf = x_end_lines_spdc + width_line_interf\n",
    "x_end_interf = x_begin_interf + width_interf\n",
    "x_end_line_output = x_end_interf + width_line_output\n",
    "x_end_output_meas = x_end_line_output + width_measure\n",
    "\n",
    "y_begin_interf = 0\n",
    "sep_lines_interf = height_interf / 5\n",
    "sep_lines_spdc = 2*unit"
   ]
  },
  {
   "cell_type": "markdown",
   "metadata": {},
   "source": [
    "#### Plot"
   ]
  },
  {
   "cell_type": "code",
   "execution_count": 35,
   "metadata": {},
   "outputs": [
    {
     "data": {
      "text/plain": [
       "(-0.5875, 1.3375000000000004, -0.05, 1.05)"
      ]
     },
     "execution_count": 35,
     "metadata": {},
     "output_type": "execute_result"
    },
    {
     "data": {
      "image/png": "[encoded data removed]",
      "text/plain": [
       "<Figure size 1080x864 with 1 Axes>"
      ]
     },
     "metadata": {},
     "output_type": "display_data"
    }
   ],
   "source": [
    "# Sampling\n",
    "\n",
    "choice = list_choices[np.random.choice(range(len(list_choices)), p=list_probs)]\n",
    "\n",
    "# Plot\n",
    "\n",
    "fig, ax = plt.subplots()\n",
    "fig.set_size_inches(15, 12)\n",
    "fig.axis = \"equal\"\n",
    "\n",
    "interf = mpatches.Rectangle((x_begin_interf,0),width_interf, height_interf, \n",
    "                            edgecolor=color_interf,facecolor=color_interf)\n",
    "ax.add_patch(interf)\n",
    "\n",
    "plt.text(x_begin_interf+width_interf/2, y_begin_interf+height_interf/2, 'U',\n",
    "         {'ha': 'center', 'va': 'center'}, size=40, color=color_text_interf)\n",
    "\n",
    "for i_line in range(4):\n",
    "    y_line_interf = y_begin_interf + (i_line+1) * sep_lines_interf \n",
    "    y_line_input = y_line_interf + sep_lines_spdc\n",
    "    y_line_laser = y_line_interf + (y_line_input - y_line_interf) / 2\n",
    "    \n",
    "    # draw laser lines\n",
    "    plt.plot([x_begin_laser,x_begin_spdc], [y_line_laser,y_line_laser], color=color_laser)\n",
    "    \n",
    "    # draw lines for the output of the SPDC\n",
    "    plt.plot([x_begin_lines_spdc,x_end_lines_spdc], [y_line_laser,y_line_interf], color=color_lines)\n",
    "    plt.plot([x_begin_lines_spdc,x_end_lines_spdc], [y_line_laser,y_line_input], color=color_lines)\n",
    "    \n",
    "    # draw lines interferometer lines\n",
    "    plt.plot([x_end_lines_spdc,x_begin_interf], [y_line_interf,y_line_interf], color=color_lines)\n",
    "    plt.plot([x_end_interf, x_end_line_output], [y_line_interf,y_line_interf], color=color_lines)\n",
    "    \n",
    "    # draw lines for the input photons (before measure)\n",
    "    plt.plot([x_end_lines_spdc,x_end_line_input], [y_line_input,y_line_input], color=color_lines)\n",
    "    \n",
    "    # draw the input measures\n",
    "    input_meas = mpatches.Rectangle((x_begin_input_meas, y_line_input-width_measure/2),width_measure,width_measure,\n",
    "                                    edgecolor=color_meas,facecolor=color_meas)\n",
    "    plt.text(x_begin_input_meas+width_measure/2, y_line_input, str(choice[i_line]),\n",
    "             {'ha': 'center', 'va': 'center'}, size=12, color=color_text_measure)\n",
    "    ax.add_patch(input_meas)\n",
    "    \n",
    "    # draw the output measures\n",
    "    input_meas = mpatches.Rectangle((x_end_line_output, y_line_interf-width_measure/2),width_measure,width_measure,\n",
    "                                    edgecolor=color_meas,facecolor=color_meas)\n",
    "    plt.text(x_end_line_output+width_measure/2, y_line_interf, str(choice[4+i_line]),\n",
    "             {'ha': 'center', 'va': 'center'}, size=12, color=color_text_measure)\n",
    "    ax.add_patch(input_meas)\n",
    "    \n",
    "    # draw the SPDC\n",
    "    spdc = mpatches.Rectangle((x_begin_spdc,y_line_interf),width_spdc,height_spdc,\n",
    "                              edgecolor=color_spdc,facecolor=color_spdc, zorder=3)\n",
    "    plt.text(x_begin_spdc+width_spdc/2, y_line_interf+height_spdc/2, 'SPDC',\n",
    "             {'ha': 'center', 'va': 'center'}, size=12, color=color_text_spdc)\n",
    "    ax.add_patch(spdc)\n",
    "\n",
    "    # draw the input photons\n",
    "    for i_photon in range(choice[i_line]):\n",
    "        x_photon = x_end_line_input - margin_photons - radius_photons - i_photon*(radius_photons*2 + margin_photons)\n",
    "        circle = mpatches.Circle([x_photon,y_line_input], radius_photons, color=color_photons, zorder=3)\n",
    "        ax.add_patch(circle)\n",
    "    \n",
    "    # draw the output photons\n",
    "    for i_photon in range(choice[4 + i_line]):\n",
    "        x_photon = x_end_line_output - margin_photons - radius_photons - i_photon*(radius_photons*2 + margin_photons)\n",
    "        circle = mpatches.Circle([x_photon,y_line_interf], radius_photons, color=color_photons, zorder=3)\n",
    "        ax.add_patch(circle)\n",
    "        \n",
    "plt.title(\"Choice: {}\".format(choice))\n",
    "plt.axis('equal')\n",
    "plt.axis('off')"
   ]
  },
  {
   "cell_type": "markdown",
   "metadata": {},
   "source": [
    "This figure represents a exemple of sampling (each time you execute the cell, it samples a new state). \n",
    "\n",
    "At time 0, a laser hits the 4 SPDC, which produce in consequence $n$ pairs of photons. For each pair, one photon is sent to a measuring device (for the input) and the other to the interferometer. This interferometer then outputs those $n$ photons, but in different modes (different lines in the figure), following the probability distribution described above. A measuring device finally captures those output photons.\n",
    "\n",
    "A state consists in both the input photons (produced by the SPDC) and the output ones."
   ]
  },
  {
   "cell_type": "markdown",
   "metadata": {},
   "source": [
    "# References\n",
    "\n",
    "[1] A. P. Lund, A. Laing, S. Rahimi-Keshari, T. Rudolph, J. L O'Brien and T. C. Ralph. Boson Sampling from Gaussian States. *Physical Review Letter,. [doi:10.1103/PhysRevLett.113.100502](https://link.aps.org/doi/10.1103/PhysRevLett.113.100502)*\n",
    "\n",
    "[2] Scott Aaronson. Scattershot Boson Sampling: A new approach to scalable Boson Sampling experiments. [Blog article](https://www.scottaaronson.com/blog/?p=1579)\n",
    "\n",
    "[3] Max Tillmann, Borivoje Dakić, René Heilmann, Stefan Nolte, Alexander Szameit, Philip Walther. Experimental Boson Sampling. *Nature Photonics [doi:10.1038/nphoton.2013.102](https://www.nature.com/articles/nphoton.2013.102)*"
   ]
  }
 ],
 "metadata": {
  "kernelspec": {
   "display_name": "Python [conda env:sf]",
   "language": "python",
   "name": "conda-env-sf-py"
  },
  "language_info": {
   "codemirror_mode": {
    "name": "ipython",
    "version": 3
   },
   "file_extension": ".py",
   "mimetype": "text/x-python",
   "name": "python",
   "nbconvert_exporter": "python",
   "pygments_lexer": "ipython3",
   "version": "3.6.5"
  }
 },
 "nbformat": 4,
 "nbformat_minor": 2
}
