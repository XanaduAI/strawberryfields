{
  "cells": [
    {
      "cell_type": "code",
      "execution_count": null,
      "metadata": {
        "collapsed": false
      },
      "outputs": [],
      "source": [
        "# This cell is added by sphinx-gallery\n# It can be customized to whatever you like\n%matplotlib inline"
      ]
    },
    {
      "cell_type": "markdown",
      "metadata": {},
      "source": [
        "\n\nSampling from GBS\n=================\n\n*Technical details are available in the API documentation:* :doc:`/code/api/strawberryfields.apps.sample`\n\nA GBS device can be programmed to sample from any symmetric matrix $A$. To sample,\nwe must specify the mean number of photons being generated in the device and optionally the form of\ndetection used at the output: threshold detection or photon-number resolving (PNR) detection.\nThreshold detectors are restricted to measuring whether photons have arrived at the detector,\nwhereas PNR detectors are able to count the number of photons. Photon loss can also be specified\nwith the ``loss`` argument.\n\nSampling functionality is provided in the :mod:`~.apps.sample` module.\n\nLet's take a look at both types of sampling methods. We can generate samples from a random\n5-dimensional symmetric matrix:\n\n"
      ]
    },
    {
      "cell_type": "code",
      "execution_count": null,
      "metadata": {
        "collapsed": false
      },
      "outputs": [],
      "source": [
        "from strawberryfields.apps import sample\nimport numpy as np\n\nmodes = 5\nn_mean = 6\nsamples = 5\n\nA = np.random.normal(0, 1, (modes, modes))\nA = A + A.T\n\ns_thresh = sample.sample(A, n_mean, samples, threshold=True)\ns_pnr = sample.sample(A, n_mean, samples, threshold=False)\n\nprint(s_thresh)\nprint(s_pnr)"
      ]
    },
    {
      "cell_type": "markdown",
      "metadata": {},
      "source": [
        "In each case, a sample is a sequence of integers of length five, i.e., ``len(modes) = 5``.\nThreshold samples are ``0``'s and ``1``'s, corresponding to whether or not photons were\ndetected in a mode. A ``1`` here is conventionally called a \"click\". PNR samples are\nnon-negative integers counting the number of photons detected in each mode. For example,\nsuppose a PNR sample is ``[2, 1, 1, 0, 0]``, meaning that 2 photons were detected in mode 0,\n1 photons were detected in modes 1 and 2, and 0 photons were detected in modes 3 and 4. If\nthreshold detectors were used instead, the sample would be: ``[1, 1, 1, 0, 0]``.\n\nA more general :func:`~.apps.sample.gaussian` function allows for sampling from arbitrary pure\nGaussian states.\n\nSampling subgraphs\n------------------\n\nSo when would threshold detection or PNR detection be preferred in GBS? Since threshold samples\ncan be post-processed from PNR samples, we might expect that PNR detection is always the\npreferred choice. However, in practice *simulating* PNR-based GBS is significantly slower,\nand it turns out that threshold samples can provide enough useful information for a range of\napplications.\n\nStrawberry Fields provides tools for solving graph-based problems. In this setting,\nwe typically want to use GBS to sample subgraphs, which are likely to be dense due to the\nprobability distribution of GBS :cite:`arrazola2018using`. In this case, threshold sampling\nis enough, since it lets us select nodes of the subgraph. Let's take a look at this by using a\nsmall fixed graph as an example:\n\n"
      ]
    },
    {
      "cell_type": "code",
      "execution_count": null,
      "metadata": {
        "collapsed": false
      },
      "outputs": [],
      "source": [
        "from strawberryfields.apps import plot\nimport networkx as nx\nimport plotly\n\nadj = np.array(\n    [\n        [0, 1, 0, 0, 1, 1],\n        [1, 0, 1, 0, 1, 1],\n        [0, 1, 0, 1, 1, 0],\n        [0, 0, 1, 0, 1, 0],\n        [1, 1, 1, 1, 0, 1],\n        [1, 1, 0, 0, 1, 0],\n    ]\n)\n\ngraph = nx.Graph(adj)\nplot_graph = plot.graph(graph)\n\nplotly.offline.plot(plot_graph, filename=\"random_graph.html\")"
      ]
    },
    {
      "cell_type": "markdown",
      "metadata": {},
      "source": [
        ".. raw:: html\n    :file: ../../examples_apps/random_graph.html\n\n<div class=\"alert alert-info\"><h4>Note</h4><p>The command ``plotly.offline.plot()`` is used to display plots in the documentation. In\n    practice, you can simply use ``plot_graph.show()`` to view your graph.</p></div>\n\nThis is a 6-node graph with the nodes ``[0, 1, 4, 5]`` fully connected to each other. We expect\nto be able to sample dense subgraphs with high probability.\n\nSamples can be generated from this graph through GBS using the :func:`~.apps.sample.sample`\nfunction:\n\n"
      ]
    },
    {
      "cell_type": "code",
      "execution_count": null,
      "metadata": {
        "collapsed": false
      },
      "outputs": [],
      "source": [
        "n_mean = 4\nsamples = 20\n\ns = sample.sample(adj, n_mean, samples)\n\nprint(s[:5])"
      ]
    },
    {
      "cell_type": "markdown",
      "metadata": {},
      "source": [
        "Each sample in ``s`` is a list of modes with ``1``'s for nodes that have clicked and ``0``'s\nfor nodes that haven't. We want to convert a sample to another representation where the result\nis a list of modes that have clicked. This list of modes can be used to select a subgraph.\nFor example, if ``[0, 1, 0, 1, 1, 0]`` is a sample from GBS then ``[1, 3, 4]`` are\nthe selected nodes of the corresponding subgraph.\n\nHowever, the number of clicks in GBS is a random variable and we are not always guaranteed to\nhave enough clicks in a sample for the resultant subgraph to be of interest. We can filter out\nthe uninteresting samples using the :func:`~.apps.sample.postselect` function:\n\n"
      ]
    },
    {
      "cell_type": "code",
      "execution_count": null,
      "metadata": {
        "collapsed": false
      },
      "outputs": [],
      "source": [
        "min_clicks = 3\nmax_clicks = 4\n\ns = sample.postselect(s, min_clicks, max_clicks)\n\nprint(len(s))\ns.append([0, 1, 0, 1, 1, 0])"
      ]
    },
    {
      "cell_type": "markdown",
      "metadata": {},
      "source": [
        "As expected, we have fewer samples than before. The number of samples that survive this\npostselection is determined by the mean photon number in GBS. We have also added in our example\nsample ``[0, 1, 0, 1, 1, 0]`` to ensure that there is at least one for the following.\n\nLet's convert our postselected samples to subgraphs:\n\n"
      ]
    },
    {
      "cell_type": "code",
      "execution_count": null,
      "metadata": {
        "collapsed": false
      },
      "outputs": [],
      "source": [
        "subgraphs = sample.to_subgraphs(s, graph)\n\nprint(subgraphs)"
      ]
    },
    {
      "cell_type": "markdown",
      "metadata": {},
      "source": [
        "We can take a look at one of the sampled subgraphs:\n\n"
      ]
    },
    {
      "cell_type": "code",
      "execution_count": null,
      "metadata": {
        "collapsed": false
      },
      "outputs": [],
      "source": [
        "plotly.offline.plot(plot.graph(graph, subgraphs[0]), filename=\"subgraph.html\")"
      ]
    },
    {
      "cell_type": "markdown",
      "metadata": {},
      "source": [
        ".. raw:: html\n    :file: ../../examples_apps/subgraph.html\n\nThese sampled subgraphs act as the starting point for some of the applications made available\nin Strawberry Fields, including the maximum clique and dense subgraph identification problems.\n\n<div class=\"alert alert-info\"><h4>Note</h4><p>Simulating GBS can be computationally intensive when using both threshold and PNR\n      detectors. After all, we are using a classical algorithm to simulate a quantum process!\n      To help users get to grips with the applications of Strawberry Fields as quickly as\n      possible, we have provided datasets of pre-calculated GBS samples. These datasets are\n      available in the :mod:`~.apps.data` module.</p></div>\n\n"
      ]
    }
  ],
  "metadata": {
    "kernelspec": {
      "display_name": "Python 3",
      "language": "python",
      "name": "python3"
    },
    "language_info": {
      "codemirror_mode": {
        "name": "ipython",
        "version": 3
      },
      "file_extension": ".py",
      "mimetype": "text/x-python",
      "name": "python",
      "nbconvert_exporter": "python",
      "pygments_lexer": "ipython3",
      "version": "3.6.8"
    }
  },
  "nbformat": 4,
  "nbformat_minor": 0
}