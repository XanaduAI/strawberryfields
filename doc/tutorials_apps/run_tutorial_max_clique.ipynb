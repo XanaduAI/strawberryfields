{
  "cells": [
    {
      "cell_type": "code",
      "execution_count": null,
      "metadata": {
        "collapsed": false
      },
      "outputs": [],
      "source": [
        "# This cell is added by sphinx-gallery\n# It can be customized to whatever you like\n%matplotlib inline"
      ]
    },
    {
      "cell_type": "markdown",
      "metadata": {},
      "source": [
        "\n\nMaximum Clique\n==============\n\n*Technical details are available in the API documentation:* :doc:`/code/api/strawberryfields.apps.clique`\n\nHere we'll explore how to combine GBS samples with local search algorithms to find large cliques\nin graphs. Let's get started!\n\nA clique is a special type of subgraph where all possible connections between nodes are present;\nthey are densest possible subgraphs of their size. The maximum clique problem, or max clique for\nshort, asks the question: given a graph $G$, what is the largest clique in the graph?\nMax clique is `NP-Hard <https://en.wikipedia.org/wiki/NP-hardness>`_, so finding the biggest clique\nbecomes challenging for graphs with many\nnodes. This is why we need clever algorithms to identify large cliques!\n\nTo get started, we'll analyze the 24-node TACE-AS graph used in :cite:`banchi2019molecular`. This\nis the *binding interaction graph* representing the spatial compatibility of atom pairs in a\nprotein-molecule complex. Cliques in this graph correspond to stable docking configurations, which\nare of interest in determining how the molecule interacts with the protein.\n\nThe first step is to import the Strawberry Fields ``apps`` module and external dependencies:\n\n"
      ]
    },
    {
      "cell_type": "code",
      "execution_count": null,
      "metadata": {
        "collapsed": false
      },
      "outputs": [],
      "source": [
        "from strawberryfields.apps import data, plot, sample, clique\nimport numpy as np\nimport networkx as nx\nimport plotly"
      ]
    },
    {
      "cell_type": "markdown",
      "metadata": {},
      "source": [
        "The adjacency matrix of the TACE-AS graph can be loaded from the :mod:`~.apps.data` module and the\ngraph can be visualized using the :mod:`~.apps.plot` module:\n\n"
      ]
    },
    {
      "cell_type": "code",
      "execution_count": null,
      "metadata": {
        "collapsed": false
      },
      "outputs": [],
      "source": [
        "TA = data.TaceAs()\nA = TA.adj\nTA_graph = nx.Graph(A)\nplot_graph = plot.graph(TA_graph)\nplotly.offline.plot(plot_graph, filename=\"TACE-AS.html\")"
      ]
    },
    {
      "cell_type": "markdown",
      "metadata": {},
      "source": [
        ".. raw:: html\n    :file: ../../examples_apps/TACE-AS.html\n\n<div class=\"alert alert-info\"><h4>Note</h4><p>The command ``plotly.offline.plot()`` is used to display plots in the documentation. In\n    practice, you can simply use ``plot_graph.show()`` to view your graph.</p></div>\n\n"
      ]
    },
    {
      "cell_type": "markdown",
      "metadata": {},
      "source": [
        "Can you spot any cliques in the graph? It's not so easy using only your eyes! The TACE-AS graph\nis sufficiently small that all cliques can be found by performing an exhaustive search over\nall subgraphs. For example, below we highlight a small *maximal* clique, i.e., a clique\nnot contained inside another clique:\n\n"
      ]
    },
    {
      "cell_type": "code",
      "execution_count": null,
      "metadata": {
        "collapsed": false
      },
      "outputs": [],
      "source": [
        "maximal_clique = [4, 11, 12, 18]\nmaximal_fig = plot.graph(TA_graph, maximal_clique)\nplotly.offline.plot(maximal_fig, filename=\"maximal_clique.html\")"
      ]
    },
    {
      "cell_type": "markdown",
      "metadata": {},
      "source": [
        ".. raw:: html\n    :file: ../../examples_apps/maximal_clique.html\n\n"
      ]
    },
    {
      "cell_type": "markdown",
      "metadata": {},
      "source": [
        "We'll now use the :mod:`~.apps.clique` module to find larger cliques in the graph. We can make\nuse of the pre-generated samples from the TACE-AS graph in the :mod:`~.apps.data` module and\npost-select samples with a specific number of clicks. Here we'll look at samples with eight\nclicks, of which there are a total of 1,984:\n\n"
      ]
    },
    {
      "cell_type": "code",
      "execution_count": null,
      "metadata": {
        "collapsed": false
      },
      "outputs": [],
      "source": [
        "postselected = sample.postselect(TA, 8, 8)\nsamples = sample.to_subgraphs(postselected, TA_graph)\nprint(len(samples))"
      ]
    },
    {
      "cell_type": "markdown",
      "metadata": {},
      "source": [
        "GBS produces samples that correspond to subgraphs of high density. For fun, let's confirm this\nby comparing the average subgraph density in the GBS samples to uniformly generated samples:\n\n"
      ]
    },
    {
      "cell_type": "code",
      "execution_count": null,
      "metadata": {
        "collapsed": false
      },
      "outputs": [],
      "source": [
        "GBS_dens = []\nu_dens = []\n\nfor s in samples:\n    uniform = list(np.random.choice(24, 8, replace=False))  # generates uniform sample\n    GBS_dens.append(nx.density(TA_graph.subgraph(s)))\n    u_dens.append(nx.density(TA_graph.subgraph(uniform)))\n\nprint(\"GBS mean density = {:.4f}\".format(np.mean(GBS_dens)))\nprint(\"Uniform mean density = {:.4f}\".format(np.mean(u_dens)))"
      ]
    },
    {
      "cell_type": "markdown",
      "metadata": {},
      "source": [
        "Those look like great GBS samples \ud83d\udcaa! To obtain cliques, we shrink the samples by greedily\nremoving nodes with low degree until a clique is found.\n\n"
      ]
    },
    {
      "cell_type": "code",
      "execution_count": null,
      "metadata": {
        "collapsed": false
      },
      "outputs": [],
      "source": [
        "shrunk = [clique.shrink(s, TA_graph) for s in samples]\nprint(clique.is_clique(TA_graph.subgraph(shrunk[0])))"
      ]
    },
    {
      "cell_type": "markdown",
      "metadata": {},
      "source": [
        "Let's take a look at some of these cliques. What are the clique sizes in the first ten samples?\nWhat is the average clique size? How about the largest and smallest clique size?\n\n"
      ]
    },
    {
      "cell_type": "code",
      "execution_count": null,
      "metadata": {
        "collapsed": false
      },
      "outputs": [],
      "source": [
        "clique_sizes = [len(s) for s in shrunk]\nprint(\"First ten clique sizes = \", clique_sizes[:10])\nprint(\"Average clique size = {:.3f}\".format(np.mean(clique_sizes)))\nprint(\"Maximum clique size = \", np.max(clique_sizes))\nprint(\"Minimum clique size = \", np.min(clique_sizes))"
      ]
    },
    {
      "cell_type": "markdown",
      "metadata": {},
      "source": [
        "Even in the first few samples, we've already identified larger cliques than the 4-node clique\nwe studied before. Awesome! Indeed, this simple shrinking strategy gives cliques with average\nsize of roughly five. We can enlarge these cliques by searching for larger cliques in their\nvicinity. We'll do this by taking ten iterations of local search and studying the results.\nNote: this may take a few seconds.\n\n"
      ]
    },
    {
      "cell_type": "code",
      "execution_count": null,
      "metadata": {
        "collapsed": false
      },
      "outputs": [],
      "source": [
        "searched = [clique.search(s, TA_graph, 10) for s in shrunk]\nclique_sizes = [len(s) for s in searched]\nprint(\"First two cliques = \", searched[:2])\nprint(\"Average clique size = {:.3f}\".format(np.mean(clique_sizes)))"
      ]
    },
    {
      "cell_type": "markdown",
      "metadata": {},
      "source": [
        "Wow! Local search is very helpful, we've found cliques with the maximum size of eight for\nessentially all samples \ud83e\udd29.  Let's take a look at the first clique we found\n\n"
      ]
    },
    {
      "cell_type": "code",
      "execution_count": null,
      "metadata": {
        "collapsed": false
      },
      "outputs": [],
      "source": [
        "clique_fig = plot.graph(TA_graph, searched[0])\nplotly.offline.plot(clique_fig, filename=\"maximum_clique.html\")"
      ]
    },
    {
      "cell_type": "markdown",
      "metadata": {},
      "source": [
        ".. raw:: html\n    :file: ../../examples_apps/maximum_clique.html\n\n"
      ]
    },
    {
      "cell_type": "markdown",
      "metadata": {},
      "source": [
        "The TACE-AS graph is relatively small, so finding large cliques is not particularly difficult. A\ntougher challenge is the 300-node ``p_hat300-1`` random graph from the `DIMACS\n<http://iridia.ulb.ac.be/~fmascia/maximum_clique/DIMACS-benchmark>`_ maximum clique\ndataset. In this section, we'll write a short program that uses GBS samples in combination with\nlocal search to identify large cliques in this graph.\n\n"
      ]
    },
    {
      "cell_type": "code",
      "execution_count": null,
      "metadata": {
        "collapsed": false
      },
      "outputs": [],
      "source": [
        "Phat = data.PHat()  # Load data\nphat_graph = nx.Graph(Phat.adj)  # Obtain graph\npostselected = sample.postselect(Phat, 16, 20)  # Post-select samples\nsamples = sample.to_subgraphs(postselected, phat_graph)  # Convert samples into subgraphs\nshrunk = [clique.shrink(s, phat_graph) for s in samples]  # Shrink subgraphs to cliques\nsearched = [clique.search(s, phat_graph, 10) for s in shrunk]  # Perform local search\nclique_sizes = [len(s) for s in searched]\nlargest_clique = searched[np.argmax(clique_sizes)]  # Identify largest clique found\nprint(\"Largest clique found is = \", largest_clique)"
      ]
    },
    {
      "cell_type": "markdown",
      "metadata": {},
      "source": [
        "Let's make a plot to take a closer look at the largest clique we found\n\n"
      ]
    },
    {
      "cell_type": "code",
      "execution_count": null,
      "metadata": {
        "collapsed": false
      },
      "outputs": [],
      "source": [
        "largest_fig = plot.graph(phat_graph, largest_clique)\nplotly.offline.plot(largest_fig, filename=\"largest_clique.html\")"
      ]
    },
    {
      "cell_type": "markdown",
      "metadata": {},
      "source": [
        ".. raw:: html\n    :file: ../../examples_apps/largest_clique.html\n\n"
      ]
    },
    {
      "cell_type": "code",
      "execution_count": null,
      "metadata": {
        "collapsed": false
      },
      "outputs": [],
      "source": [
        "just_largest = plot.subgraph(phat_graph.subgraph(largest_clique))\nplotly.offline.plot(just_largest, filename=\"just_largest.html\")"
      ]
    },
    {
      "cell_type": "markdown",
      "metadata": {},
      "source": [
        ".. raw:: html\n    :file: ../../examples_apps/just_largest.html\n\n"
      ]
    },
    {
      "cell_type": "markdown",
      "metadata": {},
      "source": [
        "The ``p_hat300-1`` graph has several maximum cliques of size eight,\nand we have managed to find them! What other graphs can you analyze using GBS?\n\n"
      ]
    }
  ],
  "metadata": {
    "kernelspec": {
      "display_name": "Python 3",
      "language": "python",
      "name": "python3"
    },
    "language_info": {
      "codemirror_mode": {
        "name": "ipython",
        "version": 3
      },
      "file_extension": ".py",
      "mimetype": "text/x-python",
      "name": "python",
      "nbconvert_exporter": "python",
      "pygments_lexer": "ipython3",
      "version": "3.6.8"
    }
  },
  "nbformat": 4,
  "nbformat_minor": 0
}