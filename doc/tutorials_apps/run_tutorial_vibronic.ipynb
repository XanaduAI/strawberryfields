{
  "cells": [
    {
      "cell_type": "code",
      "execution_count": null,
      "metadata": {
        "collapsed": false
      },
      "outputs": [],
      "source": [
        "# This cell is added by sphinx-gallery\n# It can be customized to whatever you like\n%matplotlib inline"
      ]
    },
    {
      "cell_type": "markdown",
      "metadata": {},
      "source": [
        "\n\nVibronic spectra\n================\n\n*Technical details are available in the API documentation:* :doc:`/code/api/strawberryfields.apps.vibronic`\n\nHere we study how GBS can be used to compute vibronic spectra. So let's start from\nthe beginning: what is a vibronic spectrum? Molecules absorb light at frequencies that depend on\nthe allowed transitions between different electronic states. These electronic transitions\ncan be accompanied by changes in the vibrational energy of the molecules. In this case, the\nabsorption lines that represent the frequencies at which light is more strongly absorbed are\nreferred to as the *vibronic* spectrum. The term *vibronic* refers to the simultaneous vibrational\nand electronic transitions of a molecule upon absorption of light.\n\nIt is possible to determine vibronic spectra by running clever and careful spectroscopy experiments.\nHowever, this can be slow and expensive, in which case it is valuable to predict vibronic spectra\nusing theoretical calculations. To model molecular vibronic transitions with GBS, we need only a few\nrelevant molecular parameters:\n\n#. $\\Omega$: diagonal matrix whose entries are the square-roots of the frequencies of the\n   normal modes of the electronic *initial* state.\n#. $\\Omega'$: diagonal matrix whose entries are the square-roots of the frequencies of the\n   normal modes of the electronic *final* state.\n#. $U_\\text{D}$: Duschinsky matrix.\n#. $\\delta$: displacement vector.\n#. $T$: temperature.\n\nThe Duschinsky matrix and displacement vector encode information regarding how\nvibrational modes are transformed when the molecule changes from the initial to final electronic\nstate. At zero temperature, all initial modes are in the vibrational ground state. At finite\ntemperature, other vibrational states are also populated.\n\nIn the GBS algorithm for computing vibronic spectra :cite:`huh2015boson`, these chemical parameters\nare sufficient to determine the configuration of a GBS device. As opposed to other applications\nthat involve only single-mode squeezing and linear interferometry, in vibronic spectra we\nprepare a Gaussian state using two-mode squeezing, linear interferometry, single-mode squeezing,\nand displacements.\n\nThe function :func:`~.gbs_params` of the :mod:`~.apps.vibronic` module can be\nused to obtain the squeezing, interferometer, and displacement parameters from the input\nchemical parameters listed above. In this page, we study the vibronic spectrum of\n`formic acid <https://en.wikipedia.org/wiki/Formic_acid>`_ \ud83d\udc1c. Its chemical parameters, obtained\nfrom :cite:`huh2015boson`, can be found in the :mod:`~.apps.data` module:\n\n"
      ]
    },
    {
      "cell_type": "code",
      "execution_count": null,
      "metadata": {
        "collapsed": false
      },
      "outputs": [],
      "source": [
        "from strawberryfields.apps import vibronic, data\nimport numpy as np\nformic = data.Formic()\nw = formic.w  # ground state frequencies\nwp = formic.wp  # excited state frequencies\nUd = formic.Ud  # Duschinsky matrix\ndelta = formic.delta  # displacement vector\nT = 0  # temperature"
      ]
    },
    {
      "cell_type": "markdown",
      "metadata": {},
      "source": [
        "We can now map this chemical information to GBS parameters using the function\n:func:`~.gbs_params`:\n\n"
      ]
    },
    {
      "cell_type": "code",
      "execution_count": null,
      "metadata": {
        "collapsed": false
      },
      "outputs": [],
      "source": [
        "t, U1, r, U2, alpha = vibronic.gbs_params(w, wp, Ud, delta, T)"
      ]
    },
    {
      "cell_type": "markdown",
      "metadata": {},
      "source": [
        "Note that since two-mode squeezing operators are involved, if we have $N$ vibrational\nmodes, the Gaussian state prepared is a $2N$-mode Gaussian state and the samples\nare vectors of length $2N$. The first $N$ modes are those of the final electronic\nstate; the remaining $N$ modes are those of the ground state. From above, $t$ is a\nvector of two-mode squeezing parameters, $U_1$ and $U_2$ are the interferometer\nunitaries (we need two interferometers), $r$ is a vector of single-mode squeezing\nparameters, and `alpha` is a vector of displacements.\n\nPhotons detected at the output of the GBS device correspond to a specific transition energy.\nThe GBS algorithm for vibronic spectra works because the programmed device provides samples\nin such a way that the energies that are sampled with high probability are the peaks of the\nvibronic spectrum. The function :func:`~.energies` can be used to compute the energies for\na set of samples. In this case we show the energy of the first five samples:\n\n"
      ]
    },
    {
      "cell_type": "code",
      "execution_count": null,
      "metadata": {
        "collapsed": false
      },
      "outputs": [],
      "source": [
        "e = vibronic.energies(formic, w, wp)\nprint(np.around(e[:5], 4))  # 4 decimal precision"
      ]
    },
    {
      "cell_type": "markdown",
      "metadata": {},
      "source": [
        "Once the GBS parameters have been obtained, it is straightforward to run the GBS algorithm: we\ngenerate many samples, compute their energies, and make a histogram of the observed energies.\nThe :mod:`~.apps.sample` module contains the function :func:`~.vibronic`, which is tailored for\nuse in vibronic spectra applications. Similarly, the :mod:`~.apps.plot` module includes a\n:func:`~.spectrum` function that generates the vibronic spectrum from the GBS samples. Let's see\nhow this is done for just a few samples:\n\n"
      ]
    },
    {
      "cell_type": "code",
      "execution_count": null,
      "metadata": {
        "collapsed": false
      },
      "outputs": [],
      "source": [
        "from strawberryfields.apps import sample, plot\nimport plotly\nnr_samples = 10\ns = sample.vibronic(t, U1, r, U2, alpha, nr_samples)\ne = vibronic.energies(s, w, wp)\nspectrum = plot.spectrum(e, xmin=-1000, xmax=8000)\nplotly.offline.plot(spectrum, filename=\"spectrum.html\")"
      ]
    },
    {
      "cell_type": "markdown",
      "metadata": {},
      "source": [
        ".. raw:: html\n    :file: ../../examples_apps/spectrum.html\n\n<div class=\"alert alert-info\"><h4>Note</h4><p>The command ``plotly.offline.plot()`` is used to display plots in the documentation. In\n    practice, you can simply use ``spectrum.show()`` to generate the figure.</p></div>\n\n"
      ]
    },
    {
      "cell_type": "markdown",
      "metadata": {},
      "source": [
        "The bars in the plot are the histogram of energies. The curve surrounding them is a Lorentzian\nbroadening of the spectrum, which better represents the observations from an actual experiment.\nOf course, 10 samples are not enough to accurately reconstruct the vibronic spectrum. Let's\ninstead use the 20,000 pre-generated samples from the :mod:`~.apps.data` module.\n\n"
      ]
    },
    {
      "cell_type": "code",
      "execution_count": null,
      "metadata": {
        "collapsed": false
      },
      "outputs": [],
      "source": [
        "e = vibronic.energies(formic, w, wp)\nfull_spectrum = plot.spectrum(e, xmin=-1000, xmax=8000)\nplotly.offline.plot(full_spectrum, filename=\"full_spectrum.html\")"
      ]
    },
    {
      "cell_type": "markdown",
      "metadata": {},
      "source": [
        ".. raw:: html\n    :file: ../../examples_apps/full_spectrum.html\n\n"
      ]
    },
    {
      "cell_type": "markdown",
      "metadata": {},
      "source": [
        "We can compare this prediction with an actual experimental spectrum, obtained from Fig. 3 in\nRef. :cite:`huh2015boson`, shown below:\n\n"
      ]
    },
    {
      "cell_type": "markdown",
      "metadata": {},
      "source": [
        "![](../_static/formic_spec.png)\n\n   :width: 740px\n\n"
      ]
    },
    {
      "cell_type": "markdown",
      "metadata": {},
      "source": [
        "The agreement is remarkable! Formic acid is a small molecule, which means that its vibronic\nspectrum can be computed using classical computers. However, for larger molecules, this task\nquickly becomes intractable, for much the same reason that simulating GBS cannot be done\nefficiently with classical devices. Photonic quantum computing therefore holds the potential to\nenable new computational capabilities in this area of quantum chemistry \u269b\ufe0f.\n\n"
      ]
    }
  ],
  "metadata": {
    "kernelspec": {
      "display_name": "Python 3",
      "language": "python",
      "name": "python3"
    },
    "language_info": {
      "codemirror_mode": {
        "name": "ipython",
        "version": 3
      },
      "file_extension": ".py",
      "mimetype": "text/x-python",
      "name": "python",
      "nbconvert_exporter": "python",
      "pygments_lexer": "ipython3",
      "version": "3.6.8"
    }
  },
  "nbformat": 4,
  "nbformat_minor": 0
}