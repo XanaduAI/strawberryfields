{
 "cells": [
  {
   "cell_type": "code",
   "execution_count": 1,
   "id": "98b4e577",
   "metadata": {},
   "outputs": [],
   "source": [
    "import sympy as s"
   ]
  },
  {
   "cell_type": "code",
   "execution_count": 22,
   "id": "f2cdb35d",
   "metadata": {},
   "outputs": [
    {
     "data": {
      "text/latex": [
       "$\\displaystyle \\left[\\begin{matrix}1 & 0\\\\0 & 1\\end{matrix}\\right]$"
      ],
      "text/plain": [
       "Matrix([\n",
       "[1, 0],\n",
       "[0, 1]])"
      ]
     },
     "execution_count": 22,
     "metadata": {},
     "output_type": "execute_result"
    }
   ],
   "source": [
    "theta1, theta2 = s.symbols(r'\\theta_1 \\theta_2', real=True)\n",
    "BS = s.exp(-s.I * s.pi / 4) * s.Matrix([[1,s.I],[s.I,1]]) / s.sqrt(2)\n",
    "middle = s.Matrix([[s.exp(s.I * (theta1)), 0], [0, s.exp(s.I * (theta2))]])\n",
    "\n",
    "sMZ = BS @ middle @ BS\n",
    "s.simplify((sMZ @ sMZ.conjugate().T)) # check unitary"
   ]
  },
  {
   "cell_type": "code",
   "execution_count": 23,
   "id": "14f7aeae",
   "metadata": {},
   "outputs": [
    {
     "data": {
      "text/latex": [
       "$\\displaystyle \\left[\\begin{matrix}\\frac{i \\left(e^{i \\left(\\Sigma - \\delta\\right)} - e^{i \\left(\\Sigma + \\delta\\right)}\\right)}{2} & \\frac{e^{i \\left(\\Sigma - \\delta\\right)}}{2} + \\frac{e^{i \\left(\\Sigma + \\delta\\right)}}{2}\\\\\\frac{e^{i \\left(\\Sigma - \\delta\\right)}}{2} + \\frac{e^{i \\left(\\Sigma + \\delta\\right)}}{2} & \\frac{i \\left(- e^{i \\left(\\Sigma - \\delta\\right)} + e^{i \\left(\\Sigma + \\delta\\right)}\\right)}{2}\\end{matrix}\\right]$"
      ],
      "text/plain": [
       "Matrix([\n",
       "[I*(exp(I*(\\Sigma - \\delta)) - exp(I*(\\Sigma + \\delta)))/2,    exp(I*(\\Sigma - \\delta))/2 + exp(I*(\\Sigma + \\delta))/2],\n",
       "[  exp(I*(\\Sigma - \\delta))/2 + exp(I*(\\Sigma + \\delta))/2, I*(-exp(I*(\\Sigma - \\delta)) + exp(I*(\\Sigma + \\delta)))/2]])"
      ]
     },
     "execution_count": 23,
     "metadata": {},
     "output_type": "execute_result"
    }
   ],
   "source": [
    "sigma, delta = s.symbols(r'\\Sigma \\delta', real=True)\n",
    "theta1_new = sigma + delta\n",
    "theta2_new = sigma - delta\n",
    "sMZp = sMZ.subs(((theta1, theta1_new), (theta2, theta2_new)))\n",
    "sMZp.simplify()\n",
    "sMZp"
   ]
  },
  {
   "cell_type": "code",
   "execution_count": 24,
   "id": "9abd0f61",
   "metadata": {},
   "outputs": [
    {
     "data": {
      "text/latex": [
       "$\\displaystyle \\left[\\begin{matrix}\\sin{\\left(\\delta \\right)} & \\cos{\\left(\\delta \\right)}\\\\\\cos{\\left(\\delta \\right)} & - \\sin{\\left(\\delta \\right)}\\end{matrix}\\right]$"
      ],
      "text/plain": [
       "Matrix([\n",
       "[sin(\\delta),  cos(\\delta)],\n",
       "[cos(\\delta), -sin(\\delta)]])"
      ]
     },
     "execution_count": 24,
     "metadata": {},
     "output_type": "execute_result"
    }
   ],
   "source": [
    "s.simplify(sMZp / (s.exp(s.I * sigma)))"
   ]
  },
  {
   "cell_type": "code",
   "execution_count": null,
   "id": "1486d9be",
   "metadata": {},
   "outputs": [],
   "source": []
  }
 ],
 "metadata": {
  "kernelspec": {
   "display_name": "Python 3",
   "language": "python",
   "name": "python3"
  },
  "language_info": {
   "codemirror_mode": {
    "name": "ipython",
    "version": 3
   },
   "file_extension": ".py",
   "mimetype": "text/x-python",
   "name": "python",
   "nbconvert_exporter": "python",
   "pygments_lexer": "ipython3",
   "version": "3.8.8"
  }
 },
 "nbformat": 4,
 "nbformat_minor": 5
}
