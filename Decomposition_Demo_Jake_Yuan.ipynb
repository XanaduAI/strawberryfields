{
 "cells": [
  {
   "cell_type": "code",
   "execution_count": 23,
   "id": "economic-paste",
   "metadata": {},
   "outputs": [],
   "source": [
    "import numpy as np\n",
    "from scipy.stats import unitary_group\n",
    "from collections import defaultdict\n",
    "\n",
    "import matplotlib.pyplot as plt\n",
    "np.set_printoptions(precision=3, suppress=True, linewidth=150) #print less digits of floats for readability\n",
    "%matplotlib inline\n",
    "%config InlineBackend.figure_format='retina' # makes the plots look nicer"
   ]
  },
  {
   "cell_type": "code",
   "execution_count": 24,
   "id": "42caf42c",
   "metadata": {},
   "outputs": [],
   "source": [
    "def M(n, sigma, delta, m):\n",
    "    r\"\"\"\n",
    "    The Bell M matrix from Eq 1 of the paper\n",
    "    n here represents the starting mode of MZI\n",
    "    \"\"\"\n",
    "    mat = np.identity(m, dtype=np.complex128)\n",
    "    mat[n, n] = np.exp(1j * sigma) * np.sin(delta)\n",
    "    mat[n, n+1] = np.exp(1j * sigma) * np.cos(delta)\n",
    "    mat[n+1, n] = np.exp(1j * sigma) * np.cos(delta)\n",
    "    mat[n+1, n+1] = -np.exp(1j * sigma) * np.sin(delta)\n",
    "    return mat\n",
    "\n",
    "def P(j, phi, m):\n",
    "    mat = np.identity(m, dtype=np.complex128)\n",
    "    mat[j,j] = np.exp(1j * phi)\n",
    "    return mat\n",
    "    \n",
    "def is_unitary(U):\n",
    "    return np.allclose(U @ U.conj().T, np.eye(U.shape[0]))"
   ]
  },
  {
   "cell_type": "code",
   "execution_count": 32,
   "id": "df416d8d",
   "metadata": {},
   "outputs": [],
   "source": [
    "def clements_decompose(U):\n",
    "    V = U.conj()\n",
    "    \n",
    "    m = U.shape[0]\n",
    "        \n",
    "    phases = dict()\n",
    "    phases['m'] = m\n",
    "    phases['phi_ins'] = dict() # mode : phi\n",
    "    phases['deltas'] = dict() # (mode, layer) : delta\n",
    "    phases['sigmas'] = dict() # (mode, layer) : sigma\n",
    "    phases['zetas'] = dict() # mode : zeta\n",
    "    phases['phi_outs'] = dict() # mode : phi\n",
    "        \n",
    "    for j in range(m-1):\n",
    "        #odd case in paper, because we index from 0 not 1\n",
    "        if j % 2 == 0:\n",
    "            x = m - 1\n",
    "            y = j\n",
    "            phi_j = np.angle(V[x, y+1]) - np.angle(V[x, y]) # reversed order from paper\n",
    "            V = V @ P(j, phi_j, m)\n",
    "            phases['phi_ins'][j] = phi_j\n",
    "            for k in range(j+1):\n",
    "                if V[x,y] == 0:\n",
    "                    delta = 0.5 * np.pi\n",
    "                else:\n",
    "                    delta = np.arctan(-V[x,y+1] / V[x,y]).real # flipped from paper\n",
    "                n = j - k\n",
    "                V_temp = V @ M(n, 0, delta, m)\n",
    "                sigma = np.angle(V_temp[x-1, y-1]) - np.angle(V_temp[x-1,y])\n",
    "                V = V @ M(n, sigma, delta, m)\n",
    "                phases['deltas'][n,k] = delta\n",
    "                phases['sigmas'][n,k] = sigma\n",
    "                x -= 1\n",
    "                y -= 1\n",
    "        else:\n",
    "            x = m - j - 1\n",
    "            y = 0\n",
    "            phi_j = np.angle(V[x-1,y]) - np.angle(V[x,y])\n",
    "            V = P(x, phi_j, m) @ V\n",
    "            phases['phi_outs'][x] = phi_j\n",
    "            for k in range(j+1):\n",
    "                if V[x,y] == 0.:\n",
    "                    delta = 0.5 * np.pi \n",
    "                else:\n",
    "                    delta = np.arctan(V[x-1,y] / V[x,y]).real # flipped from paper\n",
    "                V_temp = M(x-1, 0, delta, m) @ V\n",
    "                n = m + k - j - 2\n",
    "                if j != k:\n",
    "                    sigma = (np.angle(V_temp[x+1, y+1]) - np.angle(V_temp[x,y+1]))\n",
    "                else:\n",
    "                    sigma = 0\n",
    "                phases['deltas'][n,m-k-1] = delta\n",
    "                phases['sigmas'][n,m-k-1] = sigma\n",
    "                V = M(n, sigma, delta, m) @ V\n",
    "                x += 1\n",
    "                y += 1\n",
    "\n",
    "    # these next two lines are just to remove a global phase\n",
    "    zeta = - np.angle(V[0,0])\n",
    "    V = V @ P(0, zeta, m)\n",
    "    phases['zetas'][0] = zeta\n",
    "\n",
    "    for j in range(1,m):\n",
    "        zeta = np.angle(V[0,0]) - np.angle(V[j,j])\n",
    "        V = V @ P(j, zeta, m)\n",
    "        phases['zetas'][j] = zeta\n",
    "        \n",
    "    if not np.allclose(V, np.eye(m)):#is_unitary(V):\n",
    "        raise Exception('decomposition failed')\n",
    "    return phases"
   ]
  },
  {
   "cell_type": "code",
   "execution_count": 33,
   "id": "e66a4716",
   "metadata": {},
   "outputs": [],
   "source": [
    "def clements_recompose(phases):\n",
    "    m = phases['m']\n",
    "    U = np.eye(m, dtype=np.complex128)\n",
    "    \n",
    "    #upper left of interferometer\n",
    "    for j in range(0,m-1,2):\n",
    "        phi_j = phases['phi_ins'][j]\n",
    "        U = P(j, phi_j, m) @ U\n",
    "        for k in range(j+1):\n",
    "            n = j - k\n",
    "            delta = phases['deltas'][n,k]\n",
    "            sigma = phases['sigmas'][n,k]\n",
    "            U = M(n, sigma, delta, m) @ U\n",
    "            \n",
    "    #diagonal phases\n",
    "    for j in range(m):\n",
    "        zeta = phases['zetas'][j]\n",
    "        U = P(j, zeta, m) @ U\n",
    "    \n",
    "    #lower right of interferometer\n",
    "    for j in reversed(range(1,m-1,2)):\n",
    "        for k in reversed(range(j+1)):\n",
    "            n = m + k - j - 2\n",
    "            delta = phases['deltas'][n,m-k-1]\n",
    "            sigma = phases['sigmas'][n,m-k-1]\n",
    "            U = M(n, sigma, delta, m) @ U\n",
    "            \n",
    "    for j in range(1,m-1,2):\n",
    "        x = m - j - 1\n",
    "        phi_j = phases['phi_outs'][x]\n",
    "        U = P(x, phi_j, m) @ U\n",
    "    return U"
   ]
  },
  {
   "cell_type": "code",
   "execution_count": 34,
   "id": "8b721a50",
   "metadata": {},
   "outputs": [],
   "source": [
    "def absorb_zeta(phases):\n",
    "    m = phases['m']\n",
    "    new_phases = phases.copy()\n",
    "    del new_phases['zetas']\n",
    "    new_phases['phi_edges'] = defaultdict(float) # (mode, layer) : phi\n",
    "    \n",
    "    if m % 2 == 0:\n",
    "        new_phases['phi_outs'][0] = phases['zetas'][0]\n",
    "        for j in range(1,m):\n",
    "            zeta = phases['zetas'][j]\n",
    "            layer = m - j \n",
    "            for mode in range(j,m-1,2):\n",
    "                new_phases['sigmas'][mode, layer] += zeta\n",
    "            for mode in range(j+1,m-1,2):\n",
    "                new_phases['sigmas'][mode, layer-1] -= zeta\n",
    "            if layer % 2 == 1:\n",
    "                new_phases['phi_edges'][m-1, layer] += zeta\n",
    "            else:\n",
    "                new_phases['phi_edges'][m-1, layer-1] -= zeta\n",
    "    else:\n",
    "        for j in range(m):\n",
    "            zeta = phases['zetas'][j]\n",
    "            layer =  m - j - 1\n",
    "            for mode in range(j,m-1,2):\n",
    "                new_phases['sigmas'][mode, layer] += zeta\n",
    "            for mode in range(j+1,m-1,2):\n",
    "                new_phases['sigmas'][mode, layer-1] -= zeta\n",
    "            if layer % 2 == 0:\n",
    "                new_phases['phi_edges'][m-1, layer] += zeta\n",
    "            else:\n",
    "                new_phases['phi_edges'][m-1, layer-1] -= zeta\n",
    "    return new_phases        "
   ]
  },
  {
   "cell_type": "code",
   "execution_count": 35,
   "id": "5022d9ea",
   "metadata": {},
   "outputs": [],
   "source": [
    "def rectangle_compact_decompose(U):\n",
    "    phases_temp = clements_decompose(U)\n",
    "    return absorb_zeta(phases_temp)\n",
    "\n",
    "def rectangle_compact_compose(phases):\n",
    "    m = phases['m']\n",
    "    U = np.eye(m, dtype=np.complex128)\n",
    "    for j in range(0,m-1,2):\n",
    "        phi = phases['phi_ins'][j]\n",
    "        U = P(j, phi, m) @ U\n",
    "    for layer in range(m):\n",
    "        phi_bottom = phases['phi_edges'][m-1, layer]\n",
    "        if (layer + m + 1) % 2 == 0:\n",
    "            U = P(m-1, phi_bottom, m) @ U\n",
    "        for mode in range(layer % 2, m-1, 2):\n",
    "            delta = phases['deltas'][mode, layer]\n",
    "            sigma = phases['sigmas'][mode, layer]\n",
    "            U = M(mode, sigma, delta, m) @ U \n",
    "    for j, phi_j in phases['phi_outs'].items():\n",
    "        U = P(j, phi_j, m) @ U\n",
    "    return U"
   ]
  },
  {
   "cell_type": "code",
   "execution_count": 42,
   "id": "c3232c9a",
   "metadata": {
    "scrolled": true
   },
   "outputs": [
    {
     "data": {
      "text/plain": [
       "True"
      ]
     },
     "execution_count": 42,
     "metadata": {},
     "output_type": "execute_result"
    }
   ],
   "source": [
    "m = 25\n",
    "U = unitary_group.rvs(m)\n",
    "# U = np.eye(m)\n",
    "phases = rectangle_compact_decompose(U)\n",
    "U_out = rectangle_compact_compose(phases)\n",
    "np.allclose(U, U_out)"
   ]
  },
  {
   "cell_type": "code",
   "execution_count": 107,
   "id": "honey-incidence",
   "metadata": {},
   "outputs": [
    {
     "ename": "KeyError",
     "evalue": "2",
     "output_type": "error",
     "traceback": [
      "\u001b[0;31m---------------------------------------------------------------------------\u001b[0m",
      "\u001b[0;31mKeyError\u001b[0m                                  Traceback (most recent call last)",
      "\u001b[0;32m<ipython-input-107-1019df835b69>\u001b[0m in \u001b[0;36m<module>\u001b[0;34m\u001b[0m\n\u001b[1;32m     15\u001b[0m \u001b[0;34m\u001b[0m\u001b[0m\n\u001b[1;32m     16\u001b[0m     \u001b[0;32mfor\u001b[0m \u001b[0mj\u001b[0m \u001b[0;32min\u001b[0m \u001b[0mrange\u001b[0m\u001b[0;34m(\u001b[0m\u001b[0mm\u001b[0m\u001b[0;34m-\u001b[0m\u001b[0;36m1\u001b[0m\u001b[0;34m)\u001b[0m\u001b[0;34m:\u001b[0m\u001b[0;34m\u001b[0m\u001b[0;34m\u001b[0m\u001b[0m\n\u001b[0;32m---> 17\u001b[0;31m         \u001b[0;32mfor\u001b[0m \u001b[0mk\u001b[0m \u001b[0;32min\u001b[0m \u001b[0mrange\u001b[0m\u001b[0;34m(\u001b[0m\u001b[0mlen\u001b[0m\u001b[0;34m(\u001b[0m\u001b[0mparams_list\u001b[0m\u001b[0;34m[\u001b[0m\u001b[0mj\u001b[0m\u001b[0;34m]\u001b[0m\u001b[0;34m)\u001b[0m\u001b[0;34m)\u001b[0m\u001b[0;34m:\u001b[0m\u001b[0;34m\u001b[0m\u001b[0;34m\u001b[0m\u001b[0m\n\u001b[0m\u001b[1;32m     18\u001b[0m             \u001b[0mdelta\u001b[0m \u001b[0;34m=\u001b[0m \u001b[0mparams_list\u001b[0m\u001b[0;34m[\u001b[0m\u001b[0mj\u001b[0m\u001b[0;34m]\u001b[0m\u001b[0;34m[\u001b[0m\u001b[0mk\u001b[0m\u001b[0;34m]\u001b[0m\u001b[0;34m[\u001b[0m\u001b[0;36m0\u001b[0m\u001b[0;34m]\u001b[0m\u001b[0;34m\u001b[0m\u001b[0;34m\u001b[0m\u001b[0m\n\u001b[1;32m     19\u001b[0m             \u001b[0msigma\u001b[0m \u001b[0;34m=\u001b[0m \u001b[0mparams_list\u001b[0m\u001b[0;34m[\u001b[0m\u001b[0mj\u001b[0m\u001b[0;34m]\u001b[0m\u001b[0;34m[\u001b[0m\u001b[0mk\u001b[0m\u001b[0;34m]\u001b[0m\u001b[0;34m[\u001b[0m\u001b[0;36m1\u001b[0m\u001b[0;34m]\u001b[0m\u001b[0;34m\u001b[0m\u001b[0;34m\u001b[0m\u001b[0m\n",
      "\u001b[0;31mKeyError\u001b[0m: 2"
     ]
    }
   ],
   "source": [
    "import numpy as np\n",
    "from strawberryfields.program import Program\n",
    "from strawberryfields.ops import Rgate,sMZgate\n",
    "from strawberryfields.engine import Engine\n",
    "\n",
    "\n",
    "m=4\n",
    "\n",
    "prog = Program(m)\n",
    "\n",
    "with prog.context as q:\n",
    "    \n",
    "    for i,phi in enumerate(params_list['P_']):\n",
    "        Rgate(phi) | q[i]\n",
    "\n",
    "    for j in range(m-1):\n",
    "        for k in range(len(params_list[j])):\n",
    "            delta = params_list[j][k][0]\n",
    "            sigma = params_list[j][k][1]\n",
    "            theta1 = delta + sigma\n",
    "            theta2 = sigma - delta\n",
    "            sMZgate(theta1, theta2) | (q[j-k], q[j-k+1])\n",
    " \n",
    "    for i,phi in enumerate(params_list['Q_']):\n",
    "        Rgate(phi) | q[m-i-1]\n",
    "        \n",
    "eng = Engine(\"fock\", backend_options={\"cutoff_dim\": 10})\n",
    "result = eng.run(prog)\n",
    "state = result.state"
   ]
  },
  {
   "cell_type": "code",
   "execution_count": null,
   "id": "built-condition",
   "metadata": {},
   "outputs": [],
   "source": []
  },
  {
   "cell_type": "code",
   "execution_count": null,
   "id": "saved-tower",
   "metadata": {},
   "outputs": [],
   "source": []
  },
  {
   "cell_type": "code",
   "execution_count": null,
   "id": "chinese-miniature",
   "metadata": {},
   "outputs": [],
   "source": []
  },
  {
   "cell_type": "markdown",
   "id": "60b3bc78",
   "metadata": {},
   "source": [
    "# Clements"
   ]
  },
  {
   "cell_type": "code",
   "execution_count": 9,
   "id": "comparative-spiritual",
   "metadata": {},
   "outputs": [],
   "source": [
    "from strawberryfields.decomposition_tests import Clement_decomposition,Clement_reconstruction"
   ]
  },
  {
   "cell_type": "code",
   "execution_count": 19,
   "id": "twenty-summit",
   "metadata": {},
   "outputs": [],
   "source": [
    "m=6\n",
    "U = unitary_group.rvs(m)"
   ]
  },
  {
   "cell_type": "code",
   "execution_count": 11,
   "id": "recreational-rolling",
   "metadata": {},
   "outputs": [
    {
     "data": {
      "text/plain": [
       "array([[ 0.063-0.407j,  0.493+0.128j,  0.047+0.115j, -0.258-0.599j,\n",
       "         0.039+0.346j, -0.096+0.018j],\n",
       "       [ 0.335+0.229j,  0.055-0.254j, -0.269-0.35j ,  0.114-0.062j,\n",
       "         0.373+0.445j,  0.468-0.029j],\n",
       "       [-0.046-0.162j, -0.333-0.331j,  0.68 -0.102j,  0.333-0.229j,\n",
       "         0.162+0.166j, -0.126-0.213j],\n",
       "       [-0.47 +0.163j, -0.036-0.458j, -0.458+0.036j,  0.2  -0.396j,\n",
       "        -0.313+0.025j, -0.109-0.151j],\n",
       "       [-0.053-0.031j, -0.105-0.061j,  0.14 +0.19j ,  0.051-0.385j,\n",
       "         0.026-0.425j,  0.605+0.478j],\n",
       "       [-0.577+0.231j,  0.113+0.463j,  0.052+0.218j,  0.216+0.002j,\n",
       "         0.434+0.142j,  0.183-0.218j]])"
      ]
     },
     "execution_count": 11,
     "metadata": {},
     "output_type": "execute_result"
    }
   ],
   "source": [
    "U"
   ]
  },
  {
   "cell_type": "code",
   "execution_count": 12,
   "id": "checked-affect",
   "metadata": {},
   "outputs": [
    {
     "name": "stdout",
     "output_type": "stream",
     "text": [
      "V matrix is unitary: [[ 1.-0.j  0.+0.j -0.-0.j -0.-0.j  0.-0.j  0.+0.j]\n",
      " [-0.-0.j  1.-0.j  0.+0.j  0.+0.j  0.+0.j  0.+0.j]\n",
      " [ 0.+0.j -0.-0.j  1.-0.j -0.+0.j -0.+0.j -0.+0.j]\n",
      " [-0.+0.j  0.-0.j -0.+0.j  1.-0.j  0.+0.j  0.+0.j]\n",
      " [ 0.+0.j  0.+0.j  0.-0.j  0.+0.j  1.-0.j  0.-0.j]\n",
      " [-0.-0.j -0.+0.j  0.+0.j  0.-0.j  0.-0.j  1.-0.j]]\n"
     ]
    }
   ],
   "source": [
    "params_list = Clement_decomposition(U)"
   ]
  },
  {
   "cell_type": "code",
   "execution_count": 13,
   "id": "aboriginal-thomson",
   "metadata": {},
   "outputs": [
    {
     "data": {
      "text/plain": [
       "array([[ 0.063-0.407j,  0.493+0.128j,  0.047+0.115j, -0.258-0.599j,\n",
       "         0.039+0.346j, -0.096+0.018j],\n",
       "       [ 0.335+0.229j,  0.055-0.254j, -0.269-0.35j ,  0.114-0.062j,\n",
       "         0.373+0.445j,  0.468-0.029j],\n",
       "       [-0.046-0.162j, -0.333-0.331j,  0.68 -0.102j,  0.333-0.229j,\n",
       "         0.162+0.166j, -0.126-0.213j],\n",
       "       [-0.47 +0.163j, -0.036-0.458j, -0.458+0.036j,  0.2  -0.396j,\n",
       "        -0.313+0.025j, -0.109-0.151j],\n",
       "       [-0.053-0.031j, -0.105-0.061j,  0.14 +0.19j ,  0.051-0.385j,\n",
       "         0.026-0.425j,  0.605+0.478j],\n",
       "       [-0.577+0.231j,  0.113+0.463j,  0.052+0.218j,  0.216+0.002j,\n",
       "         0.434+0.142j,  0.183-0.218j]])"
      ]
     },
     "execution_count": 13,
     "metadata": {},
     "output_type": "execute_result"
    }
   ],
   "source": [
    "def Clement_reconstruction(m,params_list):\n",
    "    U_Q = np.identity(m, dtype=np.complex128)\n",
    "    U_odd = np.identity(m, dtype=np.complex128)\n",
    "    U_even = np.identity(m, dtype=np.complex128)\n",
    "\n",
    "    for j in range(0,m-1,2):\n",
    "        phi = params_list[\"P_\"][j]\n",
    "        U = P(j, phi, m) @ U\n",
    "#         U_odd =  U_odd @ P(j,phi,m)\n",
    "        for k in range(j+1):#range(len(params_list[j])):\n",
    "            delta = params_list[j][k][0]\n",
    "            sigma = params_list[j][k][1]\n",
    "#             U_odd = U_odd@M(j-k, sigma, delta, m)\n",
    "            U = M(j-k, sigma, delta, m) @ U\n",
    "    for j in range(1,m-1,2):\n",
    "        phi = params_list[\"P_\"][j]\n",
    "        U_even =    P(m-j-1, phi, m) @ U_even\n",
    "        for k in range(len(params_list[j])):\n",
    "            delta = params_list[j][k][0]\n",
    "            sigma = params_list[j][k][1]\n",
    "            U_even = M(m + k - j - 2, sigma, delta, m)@U_even\n",
    "            \n",
    "\n",
    "    for j in range(1,m):\n",
    "        zeta = params_list[\"Q_\"][j-1]\n",
    "        U_Q = P(j, zeta, m) @ U_Q\n",
    "        \n",
    "    phase = P(0, params_list[\"global_zeta\"][0], m)\n",
    "\n",
    "    U_right = U_odd@phase@U_Q\n",
    "    U_left = U_even\n",
    "    return (U_right@U_left).T"
   ]
  },
  {
   "cell_type": "code",
   "execution_count": 18,
   "id": "bound-charleston",
   "metadata": {},
   "outputs": [
    {
     "data": {
      "text/plain": [
       "array([[1., 0., 0., 0.],\n",
       "       [0., 1., 0., 0.],\n",
       "       [0., 0., 1., 0.],\n",
       "       [0., 0., 0., 1.]])"
      ]
     },
     "execution_count": 18,
     "metadata": {},
     "output_type": "execute_result"
    }
   ],
   "source": [
    "import numpy as np\n",
    "from strawberryfields.program import Program\n",
    "from strawberryfields.ops import Rgate,sMZgate, BSgate\n",
    "from strawberryfields.engine import Engine\n",
    "\n",
    "\n",
    "m=2\n",
    "\n",
    "prog = Program(m)\n",
    "eng = Engine('gaussian')\n",
    "\n",
    "with prog.context as q:\n",
    "    \n",
    "    BSgate(0.25*np.pi,0) | (q[0], q[1])\n",
    "\n",
    "result = eng.run(prog)\n",
    "\n",
    "result.state.cov()"
   ]
  },
  {
   "cell_type": "code",
   "execution_count": 285,
   "id": "practical-temperature",
   "metadata": {},
   "outputs": [],
   "source": [
    "import sympy as s"
   ]
  },
  {
   "cell_type": "code",
   "execution_count": 286,
   "id": "fe2b9dac",
   "metadata": {},
   "outputs": [],
   "source": [
    "theta1, theta2 = s.symbols(r'\\theta_1 \\theta_2', real=True)"
   ]
  },
  {
   "cell_type": "code",
   "execution_count": 287,
   "id": "2dda4f2c",
   "metadata": {},
   "outputs": [],
   "source": [
    "BS = s.exp(-s.I * s.pi / 2) * s.Matrix([[1,s.I],[s.I,1]]) / s.sqrt(2)"
   ]
  },
  {
   "cell_type": "code",
   "execution_count": 288,
   "id": "fa80c101",
   "metadata": {},
   "outputs": [],
   "source": [
    "middle = s.Matrix([[s.exp(s.I * (theta2+s.pi)), 0], [0, s.exp(s.I * (theta1))]])"
   ]
  },
  {
   "cell_type": "code",
   "execution_count": 290,
   "id": "82db66f8",
   "metadata": {},
   "outputs": [],
   "source": [
    "sMZ = BS @ middle @ BS"
   ]
  },
  {
   "cell_type": "code",
   "execution_count": 292,
   "id": "35c241df",
   "metadata": {},
   "outputs": [
    {
     "data": {
      "text/latex": [
       "$\\displaystyle \\left[\\begin{matrix}1 & 0\\\\0 & 1\\end{matrix}\\right]$"
      ],
      "text/plain": [
       "Matrix([\n",
       "[1, 0],\n",
       "[0, 1]])"
      ]
     },
     "execution_count": 292,
     "metadata": {},
     "output_type": "execute_result"
    }
   ],
   "source": [
    "s.simplify((sMZ @ sMZ.conjugate().T)) # check unitary"
   ]
  },
  {
   "cell_type": "code",
   "execution_count": 293,
   "id": "30bc534c",
   "metadata": {},
   "outputs": [],
   "source": [
    "sigma, delta = s.symbols(r'\\Sigma \\delta', real=True)"
   ]
  },
  {
   "cell_type": "code",
   "execution_count": 294,
   "id": "6a5916b5",
   "metadata": {},
   "outputs": [],
   "source": [
    "theta1_new = sigma + delta\n",
    "theta2_new = sigma - delta"
   ]
  },
  {
   "cell_type": "code",
   "execution_count": 295,
   "id": "cf2c2d87",
   "metadata": {},
   "outputs": [],
   "source": [
    "sMZp = sMZ.subs(((theta1, theta1_new), (theta2, theta2_new)))"
   ]
  },
  {
   "cell_type": "code",
   "execution_count": 296,
   "id": "341b2b29",
   "metadata": {},
   "outputs": [
    {
     "data": {
      "text/latex": [
       "$\\displaystyle \\left[\\begin{matrix}\\frac{e^{i \\left(\\Sigma + \\delta\\right)}}{2} - \\frac{e^{i \\left(\\Sigma - \\delta + \\pi\\right)}}{2} & - \\frac{i \\left(e^{i \\left(\\Sigma + \\delta\\right)} + e^{i \\left(\\Sigma - \\delta + \\pi\\right)}\\right)}{2}\\\\- \\frac{i \\left(e^{i \\left(\\Sigma + \\delta\\right)} + e^{i \\left(\\Sigma - \\delta + \\pi\\right)}\\right)}{2} & - \\frac{e^{i \\left(\\Sigma + \\delta\\right)}}{2} + \\frac{e^{i \\left(\\Sigma - \\delta + \\pi\\right)}}{2}\\end{matrix}\\right]$"
      ],
      "text/plain": [
       "Matrix([\n",
       "[   exp(I*(\\Sigma + \\delta))/2 - exp(I*(\\Sigma - \\delta + pi))/2, -I*(exp(I*(\\Sigma + \\delta)) + exp(I*(\\Sigma - \\delta + pi)))/2],\n",
       "[-I*(exp(I*(\\Sigma + \\delta)) + exp(I*(\\Sigma - \\delta + pi)))/2,   -exp(I*(\\Sigma + \\delta))/2 + exp(I*(\\Sigma - \\delta + pi))/2]])"
      ]
     },
     "execution_count": 296,
     "metadata": {},
     "output_type": "execute_result"
    }
   ],
   "source": [
    "sMZp.simplify()\n",
    "sMZp"
   ]
  },
  {
   "cell_type": "code",
   "execution_count": 297,
   "id": "8ff90dfc",
   "metadata": {},
   "outputs": [
    {
     "data": {
      "text/latex": [
       "$\\displaystyle \\left[\\begin{matrix}\\cos{\\left(\\delta \\right)} & \\sin{\\left(\\delta \\right)}\\\\\\sin{\\left(\\delta \\right)} & - \\cos{\\left(\\delta \\right)}\\end{matrix}\\right]$"
      ],
      "text/plain": [
       "Matrix([\n",
       "[cos(\\delta),  sin(\\delta)],\n",
       "[sin(\\delta), -cos(\\delta)]])"
      ]
     },
     "execution_count": 297,
     "metadata": {},
     "output_type": "execute_result"
    }
   ],
   "source": [
    "s.simplify(sMZp / (s.exp(s.I * sigma)))"
   ]
  },
  {
   "cell_type": "code",
   "execution_count": null,
   "id": "c3413e70",
   "metadata": {},
   "outputs": [],
   "source": []
  }
 ],
 "metadata": {
  "kernelspec": {
   "display_name": "Python 3",
   "language": "python",
   "name": "python3"
  },
  "language_info": {
   "codemirror_mode": {
    "name": "ipython",
    "version": 3
   },
   "file_extension": ".py",
   "mimetype": "text/x-python",
   "name": "python",
   "nbconvert_exporter": "python",
   "pygments_lexer": "ipython3",
   "version": "3.8.5"
  }
 },
 "nbformat": 4,
 "nbformat_minor": 5
}
