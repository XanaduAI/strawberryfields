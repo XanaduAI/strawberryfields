{
 "cells": [
  {
   "cell_type": "code",
   "execution_count": 2,
   "id": "economic-paste",
   "metadata": {},
   "outputs": [],
   "source": [
    "import numpy as np\n",
    "from scipy.stats import unitary_group\n",
    "\n",
    "import matplotlib.pyplot as plt\n",
    "np.set_printoptions(precision=3, suppress=True, linewidth=150) #print less digits of floats for readability\n",
    "%matplotlib inline\n",
    "%config InlineBackend.figure_format='retina' # makes the plots look nicer"
   ]
  },
  {
   "cell_type": "markdown",
   "id": "wired-heater",
   "metadata": {},
   "source": [
    "Reck decomposition test"
   ]
  },
  {
   "cell_type": "code",
   "execution_count": 3,
   "id": "statewide-kingdom",
   "metadata": {},
   "outputs": [
    {
     "data": {
      "text/plain": [
       "True"
      ]
     },
     "execution_count": 3,
     "metadata": {},
     "output_type": "execute_result"
    }
   ],
   "source": [
    "from strawberryfields.decomposition_tests import reck_decompose,reck_recompose\n",
    "m = 6\n",
    "U = unitary_group.rvs(m)\n",
    "phases = reck_decompose(U)\n",
    "U_out = reck_recompose(phases)\n",
    "np.allclose(U, U_out, atol=1e-14, rtol=1e-14)"
   ]
  },
  {
   "cell_type": "code",
   "execution_count": 11,
   "id": "precious-expansion",
   "metadata": {},
   "outputs": [],
   "source": [
    "import numpy as np\n",
    "from strawberryfields.program import Program\n",
    "from strawberryfields.ops import Rgate,BSgate,sMZgate\n",
    "from strawberryfields.engine import Engine\n",
    "\n",
    "\n",
    "circuit = Program(m)\n",
    "\n",
    "with circuit.context as q:\n",
    "    for j in range(m-1):\n",
    "        phi_j = phases['phi_ins'][j]\n",
    "        Rgate(phi_j) | q[j+1]\n",
    "        for k in range(j+1):\n",
    "            n = j - k\n",
    "            delta = phases['deltas'][n,k]\n",
    "            sigma = phases['sigmas'][n,k]\n",
    "            phi1 = sigma+delta\n",
    "            phi2 = sigma-delta\n",
    "            sMZgate(phi1,phi2) | (q[n],q[n+1])\n",
    "    for j in range(m):\n",
    "        zeta = phases['zetas'][j]\n",
    "        Rgate(zeta) | q[j]"
   ]
  },
  {
   "cell_type": "code",
   "execution_count": 12,
   "id": "widespread-gregory",
   "metadata": {},
   "outputs": [],
   "source": [
    "compiled_circuit = circuit.compile(compiler=\"gaussian_unitary\")\n",
    "commands  = compiled_circuit.circuit\n",
    "S = commands[0].op.p[0] #this is how to get the symplectic transformation from the compiled circuit\n",
    "from thewalrus.symplectic import sympmat\n",
    "omega = sympmat(m)\n",
    "# np.allclose(S @ omega @ S.T, omega) #omega is symplectic\n",
    "U_new = S[:m,:m] + 1j*S[m:,:m] # this is how to get the unitary transformation from the symplectic transmformation\n",
    "# U_new @ U_new.T.conj() #U is unitary"
   ]
  },
  {
   "cell_type": "code",
   "execution_count": 15,
   "id": "adolescent-spectrum",
   "metadata": {},
   "outputs": [
    {
     "data": {
      "text/plain": [
       "True"
      ]
     },
     "execution_count": 15,
     "metadata": {},
     "output_type": "execute_result"
    }
   ],
   "source": [
    "np.allclose(U, U_new, atol=1e-14, rtol=1e-14)"
   ]
  },
  {
   "cell_type": "markdown",
   "id": "initial-albuquerque",
   "metadata": {},
   "source": [
    "Clement decomposition test"
   ]
  },
  {
   "cell_type": "code",
   "execution_count": 16,
   "id": "alien-accuracy",
   "metadata": {},
   "outputs": [
    {
     "data": {
      "text/plain": [
       "True"
      ]
     },
     "execution_count": 16,
     "metadata": {},
     "output_type": "execute_result"
    }
   ],
   "source": [
    "from strawberryfields.decomposition_tests import clement_decompose,clement_recompose\n",
    "m = 7\n",
    "U = unitary_group.rvs(m)\n",
    "phases = clement_decompose(U)\n",
    "U_out = clement_recompose(phases)\n",
    "np.allclose(U, U_out, atol=1e-14, rtol=1e-14)"
   ]
  },
  {
   "cell_type": "code",
   "execution_count": 18,
   "id": "superior-texas",
   "metadata": {},
   "outputs": [],
   "source": [
    "circuit = Program(m)\n",
    "\n",
    "with circuit.context as q:\n",
    "    #upper left of interferometer\n",
    "    for j in range(0,m-1,2):\n",
    "        phi_j = phases['phi_ins'][j]\n",
    "        Rgate(phi_j) | q[j]\n",
    "        for k in range(j+1):\n",
    "            n = j - k\n",
    "            delta = phases['deltas'][n,k]\n",
    "            sigma = phases['sigmas'][n,k]\n",
    "            phi1 = sigma+delta\n",
    "            phi2 = sigma-delta\n",
    "            sMZgate(phi1,phi2) | (q[n],q[n+1])\n",
    "            \n",
    "    #diagonal phases\n",
    "    for j in range(m):\n",
    "        zeta = phases['zetas'][j]\n",
    "        Rgate(zeta) | q[j]\n",
    "    \n",
    "    #lower right of interferometer\n",
    "    for j in reversed(range(1,m-1,2)):\n",
    "        for k in reversed(range(j+1)):\n",
    "            n = m + k - j - 2\n",
    "            delta = phases['deltas'][n,m-k-1]\n",
    "            sigma = phases['sigmas'][n,m-k-1]\n",
    "            phi1 = sigma+delta\n",
    "            phi2 = sigma-delta\n",
    "            sMZgate(phi1,phi2) | (q[n],q[n+1])\n",
    "            \n",
    "    for j in range(1,m-1,2):\n",
    "        x = m - j - 1\n",
    "        phi_j = phases['phi_outs'][x]\n",
    "        Rgate(phi_j) | q[x]"
   ]
  },
  {
   "cell_type": "code",
   "execution_count": 19,
   "id": "ambient-marsh",
   "metadata": {},
   "outputs": [],
   "source": [
    "compiled_circuit = circuit.compile(compiler=\"gaussian_unitary\")\n",
    "commands  = compiled_circuit.circuit\n",
    "S = commands[0].op.p[0] #this is how to get the symplectic transformation from the compiled circuit\n",
    "from thewalrus.symplectic import sympmat\n",
    "omega = sympmat(m)\n",
    "# np.allclose(S @ omega @ S.T, omega) #omega is symplectic\n",
    "U_new = S[:m,:m] + 1j*S[m:,:m] # this is how to get the unitary transformation from the symplectic transmformation\n",
    "# U_new @ U_new.T.conj() #U is unitary"
   ]
  },
  {
   "cell_type": "code",
   "execution_count": 20,
   "id": "upper-party",
   "metadata": {},
   "outputs": [
    {
     "data": {
      "text/plain": [
       "True"
      ]
     },
     "execution_count": 20,
     "metadata": {},
     "output_type": "execute_result"
    }
   ],
   "source": [
    "np.allclose(U, U_new, atol=1e-14, rtol=1e-14)"
   ]
  },
  {
   "cell_type": "markdown",
   "id": "composite-swift",
   "metadata": {},
   "source": [
    "Rectangle decomposition test"
   ]
  },
  {
   "cell_type": "code",
   "execution_count": 23,
   "id": "written-registration",
   "metadata": {},
   "outputs": [
    {
     "data": {
      "text/plain": [
       "True"
      ]
     },
     "execution_count": 23,
     "metadata": {},
     "output_type": "execute_result"
    }
   ],
   "source": [
    "from strawberryfields.decomposition_tests import rectangle_compact_decompose,rectangle_compact_recompose\n",
    "m = 10\n",
    "U = unitary_group.rvs(m)\n",
    "phases = rectangle_compact_decompose(U)\n",
    "U_out = rectangle_compact_recompose(phases)\n",
    "np.allclose(U, U_out, atol=1e-14, rtol=1e-14)"
   ]
  },
  {
   "cell_type": "code",
   "execution_count": 24,
   "id": "simplified-insured",
   "metadata": {},
   "outputs": [],
   "source": [
    "circuit = Program(m)\n",
    "\n",
    "with circuit.context as q:\n",
    "    for j in range(0,m-1,2):\n",
    "        phi = phases['phi_ins'][j]\n",
    "        Rgate(phi) | q[j]\n",
    "    for layer in range(m):\n",
    "        if (layer + m + 1) % 2 == 0:\n",
    "            phi_bottom = phases['phi_edges'][m-1, layer]\n",
    "            Rgate(phi_bottom) | q[m-1]\n",
    "        for mode in range(layer % 2, m-1, 2):\n",
    "            delta = phases['deltas'][mode, layer]\n",
    "            sigma = phases['sigmas'][mode, layer]\n",
    "            phi1 = sigma+delta\n",
    "            phi2 = sigma-delta\n",
    "            sMZgate(phi1,phi2) | (q[mode],q[mode+1])\n",
    "    for j, phi_j in phases['phi_outs'].items():\n",
    "        Rgate(phi_j) | q[j]"
   ]
  },
  {
   "cell_type": "code",
   "execution_count": 25,
   "id": "civil-ireland",
   "metadata": {},
   "outputs": [],
   "source": [
    "compiled_circuit = circuit.compile(compiler=\"gaussian_unitary\")\n",
    "commands  = compiled_circuit.circuit\n",
    "S = commands[0].op.p[0] #this is how to get the symplectic transformation from the compiled circuit\n",
    "from thewalrus.symplectic import sympmat\n",
    "omega = sympmat(m)\n",
    "# np.allclose(S @ omega @ S.T, omega) #omega is symplectic\n",
    "U_new = S[:m,:m] + 1j*S[m:,:m] # this is how to get the unitary transformation from the symplectic transmformation\n",
    "# U_new @ U_new.T.conj() #U is unitary"
   ]
  },
  {
   "cell_type": "code",
   "execution_count": 26,
   "id": "earned-raleigh",
   "metadata": {},
   "outputs": [
    {
     "data": {
      "text/plain": [
       "True"
      ]
     },
     "execution_count": 26,
     "metadata": {},
     "output_type": "execute_result"
    }
   ],
   "source": [
    "np.allclose(U, U_new, atol=1e-14, rtol=1e-14)"
   ]
  },
  {
   "cell_type": "code",
   "execution_count": null,
   "id": "younger-tutorial",
   "metadata": {},
   "outputs": [],
   "source": []
  }
 ],
 "metadata": {
  "kernelspec": {
   "display_name": "Python 3",
   "language": "python",
   "name": "python3"
  },
  "language_info": {
   "codemirror_mode": {
    "name": "ipython",
    "version": 3
   },
   "file_extension": ".py",
   "mimetype": "text/x-python",
   "name": "python",
   "nbconvert_exporter": "python",
   "pygments_lexer": "ipython3",
   "version": "3.8.6"
  }
 },
 "nbformat": 4,
 "nbformat_minor": 5
}
