{
 "cells": [
  {
   "cell_type": "code",
   "execution_count": 1,
   "id": "economic-paste",
   "metadata": {},
   "outputs": [],
   "source": [
    "import numpy as np\n",
    "from scipy.stats import unitary_group\n",
    "\n",
    "import matplotlib.pyplot as plt\n",
    "np.set_printoptions(precision=3, suppress=True, linewidth=150) #print less digits of floats for readability\n",
    "%matplotlib inline\n",
    "%config InlineBackend.figure_format='retina' # makes the plots look nicer"
   ]
  },
  {
   "cell_type": "code",
   "execution_count": 2,
   "id": "boxed-classic",
   "metadata": {},
   "outputs": [],
   "source": [
    "from strawberryfields.decomposition_tests import reck_decompose,reck_recompose,clement_decompose,clement_recompose,rectangle_compact_decompose,rectangle_compact_recompose\n"
   ]
  },
  {
   "cell_type": "code",
   "execution_count": 3,
   "id": "square-walker",
   "metadata": {},
   "outputs": [
    {
     "data": {
      "text/plain": [
       "True"
      ]
     },
     "execution_count": 3,
     "metadata": {},
     "output_type": "execute_result"
    }
   ],
   "source": [
    "m = 5\n",
    "U = unitary_group.rvs(m)\n",
    "phases = reck_decompose(U)\n",
    "U_out = reck_recompose(phases)\n",
    "np.allclose(U, U_out, atol=1e-14, rtol=1e-14)"
   ]
  },
  {
   "cell_type": "code",
   "execution_count": 4,
   "id": "local-brook",
   "metadata": {
    "scrolled": true
   },
   "outputs": [
    {
     "data": {
      "text/plain": [
       "{'m': 5,\n",
       " 'phi_ins': {0: -0.05280320563236862,\n",
       "  1: -0.9397345005638794,\n",
       "  2: 3.4324509311794715,\n",
       "  3: -5.224533914925181},\n",
       " 'deltas': {(0, 0): -0.4610125983411385,\n",
       "  (1, 0): -0.26808542996802814,\n",
       "  (0, 1): -0.7288279186195281,\n",
       "  (2, 0): -0.28969537494497344,\n",
       "  (1, 1): -0.8720959334219888,\n",
       "  (0, 2): -0.3500854811048244,\n",
       "  (3, 0): -0.2362235910868697,\n",
       "  (2, 1): -0.1988032236735464,\n",
       "  (1, 2): -0.7407372269353625,\n",
       "  (0, 3): -0.2952258862928683},\n",
       " 'sigmas': {(0, 0): -2.603862022214159,\n",
       "  (1, 0): -3.8037527882291666,\n",
       "  (0, 1): 1.0261772668256466,\n",
       "  (2, 0): 2.3586614581742977,\n",
       "  (1, 1): 3.063061732245969,\n",
       "  (0, 2): 0.23086946885987736,\n",
       "  (3, 0): 3.0305876068172104,\n",
       "  (2, 1): 2.424815776967848,\n",
       "  (1, 2): -0.23086946885987758,\n",
       "  (0, 3): 1.2188084178810896},\n",
       " 'zetas': {0: -2.3840744005066115,\n",
       "  1: 0.9945394689854282,\n",
       "  2: -1.6108191906703946,\n",
       "  3: 1.4522062012649335,\n",
       "  4: -0.4625121012104346}}"
      ]
     },
     "execution_count": 4,
     "metadata": {},
     "output_type": "execute_result"
    }
   ],
   "source": [
    "phases"
   ]
  },
  {
   "cell_type": "code",
   "execution_count": 7,
   "id": "married-resident",
   "metadata": {},
   "outputs": [],
   "source": [
    "import numpy as np\n",
    "from strawberryfields.program import Program\n",
    "from strawberryfields.ops import Rgate,BSgate\n",
    "from strawberryfields.engine import Engine\n",
    "\n",
    "\n",
    "\n",
    "prog = Program(m)\n",
    "\n",
    "with prog.context as q:\n",
    "    \n",
    "    for j in range(m-1):\n",
    "        phi_j = phases['phi_ins'][j]\n",
    "        Rgate(phi_j) | q[j+1]\n",
    "        for k in range(j+1):\n",
    "            n = j - k\n",
    "            delta = phases['deltas'][n,k]\n",
    "            sigma = phases['sigmas'][n,k]\n",
    "            phi1 = sigma+delta\n",
    "            phi2 = sigma-delta\n",
    "            BSgate(np.pi/4,np.pi/2) | (q[n],q[n+1])\n",
    "            Rgate(phi1) | q[n]\n",
    "            Rgate(phi2) | q[n+1]\n",
    "            BSgate(np.pi/4,np.pi/2) | (q[n],q[n+1])\n",
    "            ####phase -pi/2???\n",
    "    for j in range(m):\n",
    "        zeta = phases['zetas'][j]\n",
    "        Rgate(zeta) | q[j]\n",
    "\n",
    "eng = Engine(\"fock\", backend_options={\"cutoff_dim\": 10})\n",
    "# result = eng.run(prog)\n",
    "# state = result.state"
   ]
  },
  {
   "cell_type": "code",
   "execution_count": 8,
   "id": "growing-score",
   "metadata": {},
   "outputs": [
    {
     "data": {
      "text/plain": [
       "['/Users/yuanyao/Desktop/notebooks/xanadu-Yuan/demo/strawberryfields/circuit_tex/output_2021_May_14_06:20PM.tex',\n",
       " '\\\\documentclass{article}\\n\\\\pagestyle{empty}\\n\\\\usepackage{qcircuit}\\n\\\\begin{document}\\n\\\\Qcircuit {\\n & \\\\qw  & \\\\multigate{1}{BS}  & \\\\gate{R}  & \\\\multigate{1}{BS}  & \\\\qw  & \\\\qw  & \\\\qw  & \\\\multigate{1}{BS}  & \\\\gate{R}  & \\\\multigate{1}{BS}  & \\\\qw  & \\\\qw  & \\\\qw  & \\\\qw  & \\\\qw  & \\\\qw  & \\\\multigate{1}{BS}  & \\\\gate{R}  & \\\\multigate{1}{BS}  & \\\\qw  & \\\\qw  & \\\\qw  & \\\\qw  & \\\\qw  & \\\\qw  & \\\\qw  & \\\\qw  & \\\\qw  & \\\\multigate{1}{BS}  & \\\\gate{R}  & \\\\multigate{1}{BS}  & \\\\gate{R}  & \\\\qw \\\\\\\\\\n & \\\\gate{R}  & \\\\ghost{BS}  & \\\\gate{R}  & \\\\ghost{BS}  & \\\\multigate{1}{BS}  & \\\\gate{R}  & \\\\multigate{1}{BS}  & \\\\ghost{BS}  & \\\\gate{R}  & \\\\ghost{BS}  & \\\\qw  & \\\\qw  & \\\\qw  & \\\\multigate{1}{BS}  & \\\\gate{R}  & \\\\multigate{1}{BS}  & \\\\ghost{BS}  & \\\\gate{R}  & \\\\ghost{BS}  & \\\\qw  & \\\\qw  & \\\\qw  & \\\\qw  & \\\\qw  & \\\\qw  & \\\\multigate{1}{BS}  & \\\\gate{R}  & \\\\multigate{1}{BS}  & \\\\ghost{BS}  & \\\\gate{R}  & \\\\ghost{BS}  & \\\\gate{R}  & \\\\qw \\\\\\\\\\n & \\\\qw  & \\\\qw  & \\\\qw  & \\\\gate{R}  & \\\\ghost{BS}  & \\\\gate{R}  & \\\\ghost{BS}  & \\\\qw  & \\\\qw  & \\\\qw  & \\\\multigate{1}{BS}  & \\\\gate{R}  & \\\\multigate{1}{BS}  & \\\\ghost{BS}  & \\\\gate{R}  & \\\\ghost{BS}  & \\\\qw  & \\\\qw  & \\\\qw  & \\\\qw  & \\\\qw  & \\\\qw  & \\\\multigate{1}{BS}  & \\\\gate{R}  & \\\\multigate{1}{BS}  & \\\\ghost{BS}  & \\\\gate{R}  & \\\\ghost{BS}  & \\\\qw  & \\\\qw  & \\\\qw  & \\\\gate{R}  & \\\\qw \\\\\\\\\\n & \\\\qw  & \\\\qw  & \\\\qw  & \\\\qw  & \\\\qw  & \\\\qw  & \\\\qw  & \\\\qw  & \\\\qw  & \\\\gate{R}  & \\\\ghost{BS}  & \\\\gate{R}  & \\\\ghost{BS}  & \\\\qw  & \\\\qw  & \\\\qw  & \\\\qw  & \\\\qw  & \\\\qw  & \\\\multigate{1}{BS}  & \\\\gate{R}  & \\\\multigate{1}{BS}  & \\\\ghost{BS}  & \\\\gate{R}  & \\\\ghost{BS}  & \\\\qw  & \\\\qw  & \\\\qw  & \\\\qw  & \\\\qw  & \\\\qw  & \\\\gate{R}  & \\\\qw \\\\\\\\\\n & \\\\qw  & \\\\qw  & \\\\qw  & \\\\qw  & \\\\qw  & \\\\qw  & \\\\qw  & \\\\qw  & \\\\qw  & \\\\qw  & \\\\qw  & \\\\qw  & \\\\qw  & \\\\qw  & \\\\qw  & \\\\qw  & \\\\qw  & \\\\qw  & \\\\gate{R}  & \\\\ghost{BS}  & \\\\gate{R}  & \\\\ghost{BS}  & \\\\qw  & \\\\qw  & \\\\qw  & \\\\qw  & \\\\qw  & \\\\qw  & \\\\qw  & \\\\qw  & \\\\qw  & \\\\gate{R}  & \\\\qw \\\\\\\\\\n}\\n\\\\end{document}']"
      ]
     },
     "execution_count": 8,
     "metadata": {},
     "output_type": "execute_result"
    }
   ],
   "source": [
    "prog.draw_circuit()"
   ]
  },
  {
   "cell_type": "code",
   "execution_count": null,
   "id": "normal-singles",
   "metadata": {},
   "outputs": [],
   "source": []
  },
  {
   "cell_type": "code",
   "execution_count": null,
   "id": "expressed-sugar",
   "metadata": {},
   "outputs": [],
   "source": []
  },
  {
   "cell_type": "code",
   "execution_count": 22,
   "id": "naughty-editing",
   "metadata": {},
   "outputs": [],
   "source": [
    "import strawberryfields as sf"
   ]
  },
  {
   "cell_type": "code",
   "execution_count": 24,
   "id": "recovered-english",
   "metadata": {},
   "outputs": [
    {
     "data": {
      "text/plain": [
       "<strawberryfields.ops.BSgate at 0x168768460>"
      ]
     },
     "execution_count": 24,
     "metadata": {},
     "output_type": "execute_result"
    }
   ],
   "source": [
    "sf.ops.BSgate(np.pi/4,0).H"
   ]
  },
  {
   "cell_type": "code",
   "execution_count": null,
   "id": "cultural-astrology",
   "metadata": {},
   "outputs": [],
   "source": []
  },
  {
   "cell_type": "code",
   "execution_count": null,
   "id": "public-secretary",
   "metadata": {},
   "outputs": [],
   "source": []
  },
  {
   "cell_type": "code",
   "execution_count": null,
   "id": "integrated-aquarium",
   "metadata": {},
   "outputs": [],
   "source": []
  },
  {
   "cell_type": "code",
   "execution_count": null,
   "id": "creative-transcript",
   "metadata": {},
   "outputs": [],
   "source": []
  },
  {
   "cell_type": "code",
   "execution_count": null,
   "id": "opening-dining",
   "metadata": {},
   "outputs": [],
   "source": []
  },
  {
   "cell_type": "code",
   "execution_count": null,
   "id": "peaceful-elite",
   "metadata": {},
   "outputs": [],
   "source": []
  },
  {
   "cell_type": "code",
   "execution_count": 44,
   "id": "requested-implementation",
   "metadata": {},
   "outputs": [
    {
     "data": {
      "text/plain": [
       "True"
      ]
     },
     "execution_count": 44,
     "metadata": {},
     "output_type": "execute_result"
    }
   ],
   "source": [
    "m = 12\n",
    "U = unitary_group.rvs(m)\n",
    "phases = clement_decompose(U)\n",
    "U_out = clement_recompose(phases)\n",
    "np.allclose(U, U_out, atol=1e-14, rtol=1e-14)"
   ]
  },
  {
   "cell_type": "code",
   "execution_count": 5,
   "id": "painful-rebound",
   "metadata": {},
   "outputs": [
    {
     "data": {
      "text/plain": [
       "True"
      ]
     },
     "execution_count": 5,
     "metadata": {},
     "output_type": "execute_result"
    }
   ],
   "source": [
    "m = 5\n",
    "U = unitary_group.rvs(m)\n",
    "phases = rectangle_compact_decompose(U)\n",
    "U_out = rectangle_compact_recompose(phases)\n",
    "np.allclose(U, U_out, atol=1e-14, rtol=1e-14)"
   ]
  },
  {
   "cell_type": "code",
   "execution_count": 6,
   "id": "identical-difficulty",
   "metadata": {},
   "outputs": [
    {
     "data": {
      "text/plain": [
       "{'m': 5,\n",
       " 'phi_ins': {0: 2.960601871152557, 2: -1.6715107531897353},\n",
       " 'deltas': {(0, 0): -1.1826787920579578,\n",
       "  (2, 4): 1.3040724346248338,\n",
       "  (3, 3): 0.5222974112768394,\n",
       "  (2, 0): -1.232696887144203,\n",
       "  (1, 1): -0.858541460362257,\n",
       "  (0, 2): -0.41940959311630094,\n",
       "  (0, 4): 0.8247359781891787,\n",
       "  (1, 3): 0.20627067588372291,\n",
       "  (2, 2): 0.44238981442414343,\n",
       "  (3, 1): 0.5610217115633193},\n",
       " 'sigmas': {(0, 0): -2.433435971070339,\n",
       "  (2, 4): 1.3893940124275552,\n",
       "  (3, 3): -0.026389067297590163,\n",
       "  (2, 0): -4.3510226947703785,\n",
       "  (1, 1): 1.1073822367222357,\n",
       "  (0, 2): 4.291445379194071,\n",
       "  (0, 4): 3.289326127084394,\n",
       "  (1, 3): -0.18573990190202982,\n",
       "  (2, 2): -1.1963175020224082,\n",
       "  (3, 1): -2.2730116815454844},\n",
       " 'phi_outs': {3: 1.4536689929039366, 1: 1.2612197324991068},\n",
       " 'phi_edges': defaultdict(float,\n",
       "             {(4, 4): 2.639376181136206,\n",
       "              (4, 2): -0.1837411709004213,\n",
       "              (4, 0): 0.5134764318801284})}"
      ]
     },
     "execution_count": 6,
     "metadata": {},
     "output_type": "execute_result"
    }
   ],
   "source": [
    "phases"
   ]
  },
  {
   "cell_type": "code",
   "execution_count": null,
   "id": "capital-directive",
   "metadata": {},
   "outputs": [],
   "source": []
  },
  {
   "cell_type": "code",
   "execution_count": null,
   "id": "passive-relief",
   "metadata": {},
   "outputs": [],
   "source": []
  },
  {
   "cell_type": "code",
   "execution_count": null,
   "id": "residential-level",
   "metadata": {},
   "outputs": [],
   "source": []
  },
  {
   "cell_type": "code",
   "execution_count": 47,
   "id": "42caf42c",
   "metadata": {},
   "outputs": [],
   "source": [
    "def M(n, sigma, delta, m):\n",
    "    r\"\"\"\n",
    "    The Bell M matrix from Eq 1 of the paper\n",
    "    n here represents the starting mode of MZI\n",
    "    \"\"\"\n",
    "    mat = np.identity(m, dtype=np.complex128)\n",
    "    mat[n, n] = np.exp(1j * sigma) * np.sin(delta)\n",
    "    mat[n, n+1] = np.exp(1j * sigma) * np.cos(delta)\n",
    "    mat[n+1, n] = np.exp(1j * sigma) * np.cos(delta)\n",
    "    mat[n+1, n+1] = -np.exp(1j * sigma) * np.sin(delta)\n",
    "    return mat\n",
    "\n",
    "def P(j, phi, m):\n",
    "    mat = np.identity(m, dtype=np.complex128)\n",
    "    mat[j,j] = np.exp(1j * phi)\n",
    "    return mat\n",
    "    \n",
    "def is_unitary(U):\n",
    "    return np.allclose(U @ U.conj().T, np.eye(U.shape[0]))\n",
    "\n",
    "def check_square(U):\n",
    "    return U.shape[0] == U.shape[1]"
   ]
  },
  {
   "cell_type": "code",
   "execution_count": 12,
   "id": "df416d8d",
   "metadata": {},
   "outputs": [],
   "source": [
    "def clements_decompose(U):\n",
    "    \n",
    "    if not U.shape[0] == U.shape[1]:\n",
    "        raise Exception('Matrix is not square')\n",
    "            \n",
    "    V = U.conj()\n",
    "    \n",
    "    m = U.shape[0]\n",
    "        \n",
    "    phases = dict()\n",
    "    phases['m'] = m\n",
    "    phases['phi_ins'] = dict() # mode : phi\n",
    "    phases['deltas'] = dict() # (mode, layer) : delta\n",
    "    phases['sigmas'] = dict() # (mode, layer) : sigma\n",
    "    phases['zetas'] = dict() # mode : zeta\n",
    "    phases['phi_outs'] = dict() # mode : phi\n",
    "        \n",
    "    for j in range(m-1):\n",
    "        if j % 2 == 0:\n",
    "            x = m - 1\n",
    "            y = j\n",
    "            phi_j = np.angle(V[x, y+1]) - np.angle(V[x, y]) # reversed order from paper\n",
    "            V = V @ P(j, phi_j, m)\n",
    "            phases['phi_ins'][j] = phi_j\n",
    "            for k in range(j+1):\n",
    "                if V[x,y] == 0:\n",
    "                    delta = 0.5 * np.pi\n",
    "                else:\n",
    "                    delta = np.arctan2(-abs(V[x,y+1]), abs(V[x,y]))\n",
    "                n = j - k\n",
    "                V_temp = V @ M(n, 0, delta, m)\n",
    "                sigma = np.angle(V_temp[x-1, y-1]) - np.angle(V_temp[x-1,y])\n",
    "                V = V @ M(n, sigma, delta, m)\n",
    "                phases['deltas'][n,k] = delta\n",
    "                phases['sigmas'][n,k] = sigma\n",
    "                x -= 1\n",
    "                y -= 1\n",
    "        else:\n",
    "            x = m - j - 1\n",
    "            y = 0\n",
    "            phi_j = np.angle(V[x-1,y]) - np.angle(V[x,y])\n",
    "            V = P(x, phi_j, m) @ V\n",
    "            phases['phi_outs'][x] = phi_j\n",
    "            for k in range(j+1):\n",
    "                if V[x,y] == 0.:\n",
    "                    delta = 0.5 * np.pi \n",
    "                else:\n",
    "                    delta = np.arctan2(abs(V[x-1,y]), abs(V[x,y]))\n",
    "                V_temp = M(x-1, 0, delta, m) @ V\n",
    "                n = m + k - j - 2\n",
    "                if j != k:\n",
    "                    sigma = (np.angle(V_temp[x+1, y+1]) - np.angle(V_temp[x,y+1]))\n",
    "                else:\n",
    "                    sigma = 0\n",
    "                phases['deltas'][n,m-k-1] = delta\n",
    "                phases['sigmas'][n,m-k-1] = sigma\n",
    "                V = M(n, sigma, delta, m) @ V\n",
    "                x += 1\n",
    "                y += 1\n",
    "\n",
    "    # these next two lines are just to remove a global phase\n",
    "    zeta = - np.angle(V[0,0])\n",
    "    V = V @ P(0, zeta, m)\n",
    "    phases['zetas'][0] = zeta\n",
    "\n",
    "    for j in range(1,m):\n",
    "        zeta = np.angle(V[0,0]) - np.angle(V[j,j])\n",
    "        V = V @ P(j, zeta, m)\n",
    "        phases['zetas'][j] = zeta\n",
    "        \n",
    "    if not np.allclose(V, np.eye(m)): #is_unitary(V):\n",
    "        raise Exception('decomposition failed')\n",
    "    return phases"
   ]
  },
  {
   "cell_type": "code",
   "execution_count": 13,
   "id": "e66a4716",
   "metadata": {},
   "outputs": [],
   "source": [
    "def clements_recompose(phases):\n",
    "    m = phases['m']\n",
    "    U = np.eye(m, dtype=np.complex128)\n",
    "    \n",
    "    #upper left of interferometer\n",
    "    for j in range(0,m-1,2):\n",
    "        phi_j = phases['phi_ins'][j]\n",
    "        U = P(j, phi_j, m) @ U\n",
    "        for k in range(j+1):\n",
    "            n = j - k\n",
    "            delta = phases['deltas'][n,k]\n",
    "            sigma = phases['sigmas'][n,k]\n",
    "            U = M(n, sigma, delta, m) @ U\n",
    "            \n",
    "    #diagonal phases\n",
    "    for j in range(m):\n",
    "        zeta = phases['zetas'][j]\n",
    "        U = P(j, zeta, m) @ U\n",
    "    \n",
    "    #lower right of interferometer\n",
    "    for j in reversed(range(1,m-1,2)):\n",
    "        for k in reversed(range(j+1)):\n",
    "            n = m + k - j - 2\n",
    "            delta = phases['deltas'][n,m-k-1]\n",
    "            sigma = phases['sigmas'][n,m-k-1]\n",
    "            U = M(n, sigma, delta, m) @ U\n",
    "            \n",
    "    for j in range(1,m-1,2):\n",
    "        x = m - j - 1\n",
    "        phi_j = phases['phi_outs'][x]\n",
    "        U = P(x, phi_j, m) @ U\n",
    "    return U"
   ]
  },
  {
   "cell_type": "code",
   "execution_count": 14,
   "id": "8b721a50",
   "metadata": {},
   "outputs": [],
   "source": [
    "def absorb_zeta(phases):\n",
    "    m = phases['m']\n",
    "    new_phases = phases.copy()\n",
    "    del new_phases['zetas']\n",
    "    new_phases['phi_edges'] = defaultdict(float) # (mode, layer) : phi\n",
    "    \n",
    "    if m % 2 == 0:\n",
    "        new_phases['phi_outs'][0] = phases['zetas'][0]\n",
    "        for j in range(1,m):\n",
    "            zeta = phases['zetas'][j]\n",
    "            layer = m - j \n",
    "            for mode in range(j,m-1,2):\n",
    "                new_phases['sigmas'][mode, layer] += zeta\n",
    "            for mode in range(j+1,m-1,2):\n",
    "                new_phases['sigmas'][mode, layer-1] -= zeta\n",
    "            if layer % 2 == 1:\n",
    "                new_phases['phi_edges'][m-1, layer] += zeta\n",
    "            else:\n",
    "                new_phases['phi_edges'][m-1, layer-1] -= zeta\n",
    "    else:\n",
    "        for j in range(m):\n",
    "            zeta = phases['zetas'][j]\n",
    "            layer =  m - j - 1\n",
    "            for mode in range(j,m-1,2):\n",
    "                new_phases['sigmas'][mode, layer] += zeta\n",
    "            for mode in range(j+1,m-1,2):\n",
    "                new_phases['sigmas'][mode, layer-1] -= zeta\n",
    "            if layer % 2 == 0:\n",
    "                new_phases['phi_edges'][m-1, layer] += zeta\n",
    "            else:\n",
    "                new_phases['phi_edges'][m-1, layer-1] -= zeta\n",
    "    return new_phases        "
   ]
  },
  {
   "cell_type": "code",
   "execution_count": 15,
   "id": "73a4a5e1",
   "metadata": {},
   "outputs": [],
   "source": [
    "def rectangle_compact_decompose(U):\n",
    "    phases_temp = clements_decompose(U)\n",
    "    return absorb_zeta(phases_temp)\n",
    "\n",
    "def rectangle_compact_compose(phases):\n",
    "    m = phases['m']\n",
    "    U = np.eye(m, dtype=np.complex128)\n",
    "    for j in range(0,m-1,2):\n",
    "        phi = phases['phi_ins'][j]\n",
    "        U = P(j, phi, m) @ U\n",
    "    for layer in range(m):\n",
    "        if (layer + m + 1) % 2 == 0:\n",
    "            phi_bottom = phases['phi_edges'][m-1, layer]\n",
    "            U = P(m-1, phi_bottom, m) @ U\n",
    "        for mode in range(layer % 2, m-1, 2):\n",
    "            delta = phases['deltas'][mode, layer]\n",
    "            sigma = phases['sigmas'][mode, layer]\n",
    "            U = M(mode, sigma, delta, m) @ U \n",
    "    for j, phi_j in phases['phi_outs'].items():\n",
    "        U = P(j, phi_j, m) @ U\n",
    "    return U"
   ]
  },
  {
   "cell_type": "code",
   "execution_count": 10,
   "id": "0a4010e6",
   "metadata": {},
   "outputs": [],
   "source": [
    "from thewalrus.random import random_banded_interferometer"
   ]
  },
  {
   "cell_type": "code",
   "execution_count": null,
   "id": "posted-manual",
   "metadata": {},
   "outputs": [],
   "source": []
  },
  {
   "cell_type": "code",
   "execution_count": 51,
   "id": "confirmed-adoption",
   "metadata": {},
   "outputs": [],
   "source": [
    "def Reck_decomposition(U):\n",
    "    r\"\"\"Decomposition of a unitary into the Reck scheme with sMZIs and phase-shifters.\n",
    "\n",
    "    Args:\n",
    "        U (array): unitary matrix\n",
    "\n",
    "    Returns:\n",
    "        dict[]: returns a dictionary contains all parameters\n",
    "            where the keywords:\n",
    "            * ``m``: the length of the matrix\n",
    "            * ``phi_ins``:\n",
    "            * ``deltas``:\n",
    "            * ``sigmas``:\n",
    "            * ``zetas``:\n",
    "            * ``phi_outs``:\n",
    "\n",
    "    \"\"\"\n",
    "\n",
    "    \n",
    "    V = U.conj()\n",
    "    m = U.shape[0]\n",
    "    \n",
    "    phases = dict()\n",
    "    phases['m'] = m\n",
    "    phases['phi_ins'] = dict() # mode : phi\n",
    "    phases['deltas'] = dict() # (mode, layer) : delta\n",
    "    phases['sigmas'] = dict() # (mode, layer) : sigma\n",
    "    phases['zetas'] = dict() # mode : zeta\n",
    "\n",
    "    for j in range(m-1):\n",
    "        x = m - 1\n",
    "        y = j\n",
    "        phi_j = - np.angle(V[x, y+1]) + np.angle(V[x, y])\n",
    "        Pj = P(j+1, phi_j, m)\n",
    "        phases['phi_ins'][j] = phi_j\n",
    "        V = V @ Pj\n",
    "        for k in range(j+1):\n",
    "            n = j - k\n",
    "            delta = np.arctan(-V[x,y+1] / V[x,y]).real\n",
    "            V_temp = V @ M(n, 0, delta, m)\n",
    "            sigma = np.angle(V_temp[x-1, y-1]) - np.angle(V_temp[x-1,y])\n",
    "            phases['deltas'][n,k] = delta\n",
    "            phases['sigmas'][n,k] = sigma\n",
    "            V = V @ M(n, sigma, delta, m)\n",
    "            x -= 1\n",
    "            y -= 1\n",
    "        \n",
    "    # these next two lines are just to remove a global phase\n",
    "    zeta = - np.angle(V[0,0])\n",
    "    phases['zetas'][0] = zeta\n",
    "    V = V @ P(0, zeta, m)\n",
    "\n",
    "    for j in range(1,m):\n",
    "        zeta = np.angle(V[0,0]) - np.angle(V[j,j])\n",
    "        phases['zetas'][j] = zeta\n",
    "        V = V @ P(j, zeta, m)\n",
    "        \n",
    "    if not np.allclose(V, np.eye(m)): #is_unitary(V):\n",
    "        raise Exception('decomposition failed')\n",
    "    return phases\n",
    "    \n",
    "def Reck_reconstruction(phases):\n",
    "    m = phases['m']\n",
    "    U = np.identity(m, dtype=np.complex128)\n",
    "    for j in range(m-1):\n",
    "        phi_j = phases['phi_ins'][j]\n",
    "        U = P(j+1, phi_j, m) @ U\n",
    "        for k in range(j+1):\n",
    "            n = j - k\n",
    "            delta = phases['deltas'][n,k]\n",
    "            sigma = phases['sigmas'][n,k]\n",
    "            U = M(n, sigma, delta, m) @ U\n",
    "    for j in range(m):\n",
    "        zeta = phases['zetas'][j]\n",
    "        U = P(j, zeta, m) @ U\n",
    "    return U"
   ]
  },
  {
   "cell_type": "code",
   "execution_count": 52,
   "id": "partial-pharmacology",
   "metadata": {
    "scrolled": true
   },
   "outputs": [
    {
     "name": "stdout",
     "output_type": "stream",
     "text": [
      "[[-0.336+0.17j   0.203-0.021j  0.254-0.01j  -0.077+0.698j  0.456+0.226j]\n",
      " [-0.492+0.284j -0.254+0.118j  0.183-0.397j  0.122-0.49j   0.127+0.37j ]\n",
      " [ 0.408+0.225j -0.354+0.406j -0.115+0.116j  0.302+0.283j -0.176+0.514j]\n",
      " [-0.165+0.251j  0.571+0.495j  0.174-0.097j  0.097+0.042j -0.508-0.17j ]\n",
      " [-0.409+0.246j  0.122-0.057j -0.491+0.661j  0.228-0.135j  0.059+0.047j]]\n",
      "{'m': 5, 'phi_ins': {0: -3.034065780020868, 1: 0.005928249688905485, 2: -0.6181471678904045, 3: 3.654142599169832}, 'deltas': {(0, 0): -0.27529297589855056, (1, 0): -1.028962364473575, (0, 1): -0.49978239806426744, (2, 0): -0.2692333161335751, (1, 1): -0.12672125031634357, (0, 2): -0.6076601608773623, (3, 0): -0.07551163248935577, (2, 1): -0.5676399172132249, (1, 2): -0.7022312220826377, (0, 3): -0.6546555032870699}, 'sigmas': {(0, 0): 0.3955083031103004, (1, 0): 2.1212179322380256, (0, 1): -0.8799243698622932, (2, 0): 3.064680647727706, (1, 1): -3.6949393931784007, (0, 2): -0.984004309386475, (3, 0): -1.9458210550309396, (2, 1): -2.6923258535253676, (1, 2): 0.984004309386475, (0, 3): 0.41259841385785423}, 'zetas': {0: 0.04692541154904761, 1: 0.8273085752890339, 2: 1.9004600511767746, 3: -1.8346918291382288, 4: -1.036499311967261}}\n",
      "[[-0.336+0.17j   0.203-0.021j  0.254-0.01j  -0.077+0.698j  0.456+0.226j]\n",
      " [-0.492+0.284j -0.254+0.118j  0.183-0.397j  0.122-0.49j   0.127+0.37j ]\n",
      " [ 0.408+0.225j -0.354+0.406j -0.115+0.116j  0.302+0.283j -0.176+0.514j]\n",
      " [-0.165+0.251j  0.571+0.495j  0.174-0.097j  0.097+0.042j -0.508-0.17j ]\n",
      " [-0.409+0.246j  0.122-0.057j -0.491+0.661j  0.228-0.135j  0.059+0.047j]]\n"
     ]
    }
   ],
   "source": [
    "\n",
    "m = 5\n",
    "U = unitary_group.rvs(m)\n",
    "print(U)\n",
    "# U = np.eye(m)\n",
    "# U = random_banded_interferometer(m, w=10)\n",
    "phases = Reck_decomposition(U)\n",
    "print(phases)\n",
    "print(Reck_reconstruction(phases))\n"
   ]
  },
  {
   "cell_type": "code",
   "execution_count": 16,
   "id": "conservative-exemption",
   "metadata": {},
   "outputs": [
    {
     "data": {
      "text/plain": [
       "True"
      ]
     },
     "execution_count": 16,
     "metadata": {},
     "output_type": "execute_result"
    }
   ],
   "source": [
    "m = 30\n",
    "U = unitary_group.rvs(m)\n",
    "# U = np.eye(m)\n",
    "# U = random_banded_interferometer(m, w=10)\n",
    "phases = rectangle_compact_decompose(U)\n",
    "U_out = rectangle_compact_compose(phases)\n",
    "np.allclose(U, U_out, atol=1e-14, rtol=1e-14)"
   ]
  },
  {
   "cell_type": "code",
   "execution_count": 6,
   "id": "saved-blend",
   "metadata": {},
   "outputs": [
    {
     "data": {
      "text/plain": [
       "{'m': 5,\n",
       " 'phi_ins': {0: 4.6385534746361925,\n",
       "  1: -3.693588845265942,\n",
       "  2: 0.03304207013035332,\n",
       "  3: 0.3545860097229374},\n",
       " 'deltas': {(0, 0): -0.08009520984424659,\n",
       "  (1, 0): -1.0470217533420352,\n",
       "  (0, 1): -0.04291424939021244,\n",
       "  (2, 0): -0.2946332070046099,\n",
       "  (1, 1): -0.285966839030365,\n",
       "  (0, 2): -0.6285106888995644,\n",
       "  (3, 0): -0.18544715712929152,\n",
       "  (2, 1): -0.4664875198494969,\n",
       "  (1, 2): -1.021394600994785,\n",
       "  (0, 3): -0.5313833804180761},\n",
       " 'sigmas': {(0, 0): 0.3807872086511557,\n",
       "  (1, 0): 2.483589183257826,\n",
       "  (0, 1): 3.6435585657223353,\n",
       "  (2, 0): 2.3759753601538103,\n",
       "  (1, 1): -0.11630326314341466,\n",
       "  (0, 2): 5.427296807806661,\n",
       "  (3, 0): -2.755930004600666,\n",
       "  (2, 1): 1.9000415052277404,\n",
       "  (1, 2): 0.8558884993729254,\n",
       "  (0, 3): -1.6262656189147018},\n",
       " 'zetas': {0: 0.48198605427898544,\n",
       "  1: -0.9959072714427082,\n",
       "  2: -1.965868235683626,\n",
       "  3: -2.075912524221969,\n",
       "  4: -1.0157029019349657}}"
      ]
     },
     "execution_count": 6,
     "metadata": {},
     "output_type": "execute_result"
    }
   ],
   "source": [
    "phases"
   ]
  },
  {
   "cell_type": "code",
   "execution_count": null,
   "id": "aerial-interview",
   "metadata": {},
   "outputs": [],
   "source": []
  },
  {
   "cell_type": "code",
   "execution_count": 67,
   "id": "807d68c5",
   "metadata": {},
   "outputs": [
    {
     "data": {
      "text/plain": [
       "{'m': 3,\n",
       " 'phi_ins': {0: 0.0},\n",
       " 'deltas': {(0, 0): 1.5707963267948966,\n",
       "  (0, 2): 1.5707963267948966,\n",
       "  (1, 1): 1.5707963267948966},\n",
       " 'sigmas': {(0, 0): 0.0, (0, 2): 0.0, (1, 1): 0.0},\n",
       " 'phi_outs': {1: 0.0},\n",
       " 'phi_edges': defaultdict(float, {(2, 2): 0.0, (2, 0): -3.141592653589793})}"
      ]
     },
     "execution_count": 67,
     "metadata": {},
     "output_type": "execute_result"
    }
   ],
   "source": [
    "phases"
   ]
  },
  {
   "cell_type": "code",
   "execution_count": 107,
   "id": "honey-incidence",
   "metadata": {},
   "outputs": [
    {
     "ename": "KeyError",
     "evalue": "2",
     "output_type": "error",
     "traceback": [
      "\u001b[0;31m---------------------------------------------------------------------------\u001b[0m",
      "\u001b[0;31mKeyError\u001b[0m                                  Traceback (most recent call last)",
      "\u001b[0;32m<ipython-input-107-1019df835b69>\u001b[0m in \u001b[0;36m<module>\u001b[0;34m\u001b[0m\n\u001b[1;32m     15\u001b[0m \u001b[0;34m\u001b[0m\u001b[0m\n\u001b[1;32m     16\u001b[0m     \u001b[0;32mfor\u001b[0m \u001b[0mj\u001b[0m \u001b[0;32min\u001b[0m \u001b[0mrange\u001b[0m\u001b[0;34m(\u001b[0m\u001b[0mm\u001b[0m\u001b[0;34m-\u001b[0m\u001b[0;36m1\u001b[0m\u001b[0;34m)\u001b[0m\u001b[0;34m:\u001b[0m\u001b[0;34m\u001b[0m\u001b[0;34m\u001b[0m\u001b[0m\n\u001b[0;32m---> 17\u001b[0;31m         \u001b[0;32mfor\u001b[0m \u001b[0mk\u001b[0m \u001b[0;32min\u001b[0m \u001b[0mrange\u001b[0m\u001b[0;34m(\u001b[0m\u001b[0mlen\u001b[0m\u001b[0;34m(\u001b[0m\u001b[0mparams_list\u001b[0m\u001b[0;34m[\u001b[0m\u001b[0mj\u001b[0m\u001b[0;34m]\u001b[0m\u001b[0;34m)\u001b[0m\u001b[0;34m)\u001b[0m\u001b[0;34m:\u001b[0m\u001b[0;34m\u001b[0m\u001b[0;34m\u001b[0m\u001b[0m\n\u001b[0m\u001b[1;32m     18\u001b[0m             \u001b[0mdelta\u001b[0m \u001b[0;34m=\u001b[0m \u001b[0mparams_list\u001b[0m\u001b[0;34m[\u001b[0m\u001b[0mj\u001b[0m\u001b[0;34m]\u001b[0m\u001b[0;34m[\u001b[0m\u001b[0mk\u001b[0m\u001b[0;34m]\u001b[0m\u001b[0;34m[\u001b[0m\u001b[0;36m0\u001b[0m\u001b[0;34m]\u001b[0m\u001b[0;34m\u001b[0m\u001b[0;34m\u001b[0m\u001b[0m\n\u001b[1;32m     19\u001b[0m             \u001b[0msigma\u001b[0m \u001b[0;34m=\u001b[0m \u001b[0mparams_list\u001b[0m\u001b[0;34m[\u001b[0m\u001b[0mj\u001b[0m\u001b[0;34m]\u001b[0m\u001b[0;34m[\u001b[0m\u001b[0mk\u001b[0m\u001b[0;34m]\u001b[0m\u001b[0;34m[\u001b[0m\u001b[0;36m1\u001b[0m\u001b[0;34m]\u001b[0m\u001b[0;34m\u001b[0m\u001b[0;34m\u001b[0m\u001b[0m\n",
      "\u001b[0;31mKeyError\u001b[0m: 2"
     ]
    }
   ],
   "source": [
    "import numpy as np\n",
    "from strawberryfields.program import Program\n",
    "from strawberryfields.ops import Rgate,sMZgate\n",
    "from strawberryfields.engine import Engine\n",
    "\n",
    "\n",
    "m=4\n",
    "\n",
    "prog = Program(m)\n",
    "\n",
    "with prog.context as q:\n",
    "    \n",
    "    for i,phi in enumerate(params_list['P_']):\n",
    "        Rgate(phi) | q[i]\n",
    "\n",
    "    for j in range(m-1):\n",
    "        for k in range(len(params_list[j])):\n",
    "            delta = params_list[j][k][0]\n",
    "            sigma = params_list[j][k][1]\n",
    "            theta1 = delta + sigma\n",
    "            theta2 = sigma - delta\n",
    "            sMZgate(theta1, theta2) | (q[j-k], q[j-k+1])\n",
    " \n",
    "    for i,phi in enumerate(params_list['Q_']):\n",
    "        Rgate(phi) | q[m-i-1]\n",
    "        \n",
    "eng = Engine(\"fock\", backend_options={\"cutoff_dim\": 10})\n",
    "result = eng.run(prog)\n",
    "state = result.state"
   ]
  },
  {
   "cell_type": "code",
   "execution_count": null,
   "id": "built-condition",
   "metadata": {},
   "outputs": [],
   "source": []
  },
  {
   "cell_type": "code",
   "execution_count": null,
   "id": "saved-tower",
   "metadata": {},
   "outputs": [],
   "source": []
  },
  {
   "cell_type": "code",
   "execution_count": null,
   "id": "chinese-miniature",
   "metadata": {},
   "outputs": [],
   "source": []
  },
  {
   "cell_type": "markdown",
   "id": "60b3bc78",
   "metadata": {},
   "source": [
    "# Clements"
   ]
  },
  {
   "cell_type": "code",
   "execution_count": 9,
   "id": "comparative-spiritual",
   "metadata": {},
   "outputs": [],
   "source": [
    "from strawberryfields.decomposition_tests import Clement_decomposition,Clement_reconstruction"
   ]
  },
  {
   "cell_type": "code",
   "execution_count": 19,
   "id": "twenty-summit",
   "metadata": {},
   "outputs": [],
   "source": [
    "m=6\n",
    "U = unitary_group.rvs(m)"
   ]
  },
  {
   "cell_type": "code",
   "execution_count": 11,
   "id": "recreational-rolling",
   "metadata": {},
   "outputs": [
    {
     "data": {
      "text/plain": [
       "array([[ 0.063-0.407j,  0.493+0.128j,  0.047+0.115j, -0.258-0.599j,\n",
       "         0.039+0.346j, -0.096+0.018j],\n",
       "       [ 0.335+0.229j,  0.055-0.254j, -0.269-0.35j ,  0.114-0.062j,\n",
       "         0.373+0.445j,  0.468-0.029j],\n",
       "       [-0.046-0.162j, -0.333-0.331j,  0.68 -0.102j,  0.333-0.229j,\n",
       "         0.162+0.166j, -0.126-0.213j],\n",
       "       [-0.47 +0.163j, -0.036-0.458j, -0.458+0.036j,  0.2  -0.396j,\n",
       "        -0.313+0.025j, -0.109-0.151j],\n",
       "       [-0.053-0.031j, -0.105-0.061j,  0.14 +0.19j ,  0.051-0.385j,\n",
       "         0.026-0.425j,  0.605+0.478j],\n",
       "       [-0.577+0.231j,  0.113+0.463j,  0.052+0.218j,  0.216+0.002j,\n",
       "         0.434+0.142j,  0.183-0.218j]])"
      ]
     },
     "execution_count": 11,
     "metadata": {},
     "output_type": "execute_result"
    }
   ],
   "source": [
    "U"
   ]
  },
  {
   "cell_type": "code",
   "execution_count": 12,
   "id": "checked-affect",
   "metadata": {},
   "outputs": [
    {
     "name": "stdout",
     "output_type": "stream",
     "text": [
      "V matrix is unitary: [[ 1.-0.j  0.+0.j -0.-0.j -0.-0.j  0.-0.j  0.+0.j]\n",
      " [-0.-0.j  1.-0.j  0.+0.j  0.+0.j  0.+0.j  0.+0.j]\n",
      " [ 0.+0.j -0.-0.j  1.-0.j -0.+0.j -0.+0.j -0.+0.j]\n",
      " [-0.+0.j  0.-0.j -0.+0.j  1.-0.j  0.+0.j  0.+0.j]\n",
      " [ 0.+0.j  0.+0.j  0.-0.j  0.+0.j  1.-0.j  0.-0.j]\n",
      " [-0.-0.j -0.+0.j  0.+0.j  0.-0.j  0.-0.j  1.-0.j]]\n"
     ]
    }
   ],
   "source": [
    "params_list = Clement_decomposition(U)"
   ]
  },
  {
   "cell_type": "code",
   "execution_count": 13,
   "id": "aboriginal-thomson",
   "metadata": {},
   "outputs": [
    {
     "data": {
      "text/plain": [
       "array([[ 0.063-0.407j,  0.493+0.128j,  0.047+0.115j, -0.258-0.599j,\n",
       "         0.039+0.346j, -0.096+0.018j],\n",
       "       [ 0.335+0.229j,  0.055-0.254j, -0.269-0.35j ,  0.114-0.062j,\n",
       "         0.373+0.445j,  0.468-0.029j],\n",
       "       [-0.046-0.162j, -0.333-0.331j,  0.68 -0.102j,  0.333-0.229j,\n",
       "         0.162+0.166j, -0.126-0.213j],\n",
       "       [-0.47 +0.163j, -0.036-0.458j, -0.458+0.036j,  0.2  -0.396j,\n",
       "        -0.313+0.025j, -0.109-0.151j],\n",
       "       [-0.053-0.031j, -0.105-0.061j,  0.14 +0.19j ,  0.051-0.385j,\n",
       "         0.026-0.425j,  0.605+0.478j],\n",
       "       [-0.577+0.231j,  0.113+0.463j,  0.052+0.218j,  0.216+0.002j,\n",
       "         0.434+0.142j,  0.183-0.218j]])"
      ]
     },
     "execution_count": 13,
     "metadata": {},
     "output_type": "execute_result"
    }
   ],
   "source": [
    "def Clement_reconstruction(m,params_list):\n",
    "    U_Q = np.identity(m, dtype=np.complex128)\n",
    "    U_odd = np.identity(m, dtype=np.complex128)\n",
    "    U_even = np.identity(m, dtype=np.complex128)\n",
    "\n",
    "    for j in range(0,m-1,2):\n",
    "        phi = params_list[\"P_\"][j]\n",
    "        U = P(j, phi, m) @ U\n",
    "#         U_odd =  U_odd @ P(j,phi,m)\n",
    "        for k in range(j+1):#range(len(params_list[j])):\n",
    "            delta = params_list[j][k][0]\n",
    "            sigma = params_list[j][k][1]\n",
    "#             U_odd = U_odd@M(j-k, sigma, delta, m)\n",
    "            U = M(j-k, sigma, delta, m) @ U\n",
    "    for j in range(1,m-1,2):\n",
    "        phi = params_list[\"P_\"][j]\n",
    "        U_even =    P(m-j-1, phi, m) @ U_even\n",
    "        for k in range(len(params_list[j])):\n",
    "            delta = params_list[j][k][0]\n",
    "            sigma = params_list[j][k][1]\n",
    "            U_even = M(m + k - j - 2, sigma, delta, m)@U_even\n",
    "            \n",
    "\n",
    "    for j in range(1,m):\n",
    "        zeta = params_list[\"Q_\"][j-1]\n",
    "        U_Q = P(j, zeta, m) @ U_Q\n",
    "        \n",
    "    phase = P(0, params_list[\"global_zeta\"][0], m)\n",
    "\n",
    "    U_right = U_odd@phase@U_Q\n",
    "    U_left = U_even\n",
    "    return (U_right@U_left).T"
   ]
  },
  {
   "cell_type": "code",
   "execution_count": 18,
   "id": "bound-charleston",
   "metadata": {},
   "outputs": [
    {
     "data": {
      "text/plain": [
       "array([[1., 0., 0., 0.],\n",
       "       [0., 1., 0., 0.],\n",
       "       [0., 0., 1., 0.],\n",
       "       [0., 0., 0., 1.]])"
      ]
     },
     "execution_count": 18,
     "metadata": {},
     "output_type": "execute_result"
    }
   ],
   "source": [
    "import numpy as np\n",
    "from strawberryfields.program import Program\n",
    "from strawberryfields.ops import Rgate,sMZgate, BSgate\n",
    "from strawberryfields.engine import Engine\n",
    "\n",
    "\n",
    "m=2\n",
    "\n",
    "prog = Program(m)\n",
    "eng = Engine('gaussian')\n",
    "\n",
    "with prog.context as q:\n",
    "    \n",
    "    BSgate(0.25*np.pi,0) | (q[0], q[1])\n",
    "\n",
    "result = eng.run(prog)\n",
    "\n",
    "result.state.cov()"
   ]
  },
  {
   "cell_type": "code",
   "execution_count": 7,
   "id": "practical-temperature",
   "metadata": {},
   "outputs": [],
   "source": [
    "import sympy as s"
   ]
  },
  {
   "cell_type": "code",
   "execution_count": 8,
   "id": "fe2b9dac",
   "metadata": {},
   "outputs": [],
   "source": [
    "theta1, theta2 = s.symbols(r'\\theta_1 \\theta_2', real=True)"
   ]
  },
  {
   "cell_type": "code",
   "execution_count": 9,
   "id": "2dda4f2c",
   "metadata": {},
   "outputs": [],
   "source": [
    "BS = s.exp(-s.I * s.pi / 2) * s.Matrix([[1,s.I],[s.I,1]]) / s.sqrt(2)"
   ]
  },
  {
   "cell_type": "code",
   "execution_count": 20,
   "id": "hindu-boost",
   "metadata": {},
   "outputs": [
    {
     "data": {
      "text/latex": [
       "$\\displaystyle \\left[\\begin{matrix}- \\frac{\\sqrt{2} i}{2} & \\frac{\\sqrt{2}}{2}\\\\\\frac{\\sqrt{2}}{2} & - \\frac{\\sqrt{2} i}{2}\\end{matrix}\\right]$"
      ],
      "text/plain": [
       "Matrix([\n",
       "[-sqrt(2)*I/2,    sqrt(2)/2],\n",
       "[   sqrt(2)/2, -sqrt(2)*I/2]])"
      ]
     },
     "execution_count": 20,
     "metadata": {},
     "output_type": "execute_result"
    }
   ],
   "source": [
    "BS"
   ]
  },
  {
   "cell_type": "code",
   "execution_count": 10,
   "id": "fa80c101",
   "metadata": {},
   "outputs": [],
   "source": [
    "middle = s.Matrix([[s.exp(s.I * (theta2+s.pi)), 0], [0, s.exp(s.I * (theta1))]])"
   ]
  },
  {
   "cell_type": "code",
   "execution_count": 21,
   "id": "atomic-acoustic",
   "metadata": {},
   "outputs": [
    {
     "data": {
      "text/latex": [
       "$\\displaystyle \\left[\\begin{matrix}e^{i \\left(\\theta_{2} + \\pi\\right)} & 0\\\\0 & e^{i \\theta_{1}}\\end{matrix}\\right]$"
      ],
      "text/plain": [
       "Matrix([\n",
       "[exp(I*(\\theta_2 + pi)),               0],\n",
       "[                     0, exp(I*\\theta_1)]])"
      ]
     },
     "execution_count": 21,
     "metadata": {},
     "output_type": "execute_result"
    }
   ],
   "source": [
    "middle"
   ]
  },
  {
   "cell_type": "code",
   "execution_count": 11,
   "id": "82db66f8",
   "metadata": {},
   "outputs": [],
   "source": [
    "sMZ = BS @ middle @ BS"
   ]
  },
  {
   "cell_type": "code",
   "execution_count": 12,
   "id": "trying-dating",
   "metadata": {},
   "outputs": [
    {
     "data": {
      "text/latex": [
       "$\\displaystyle \\left[\\begin{matrix}\\frac{e^{i \\theta_{1}}}{2} - \\frac{e^{i \\left(\\theta_{2} + \\pi\\right)}}{2} & - \\frac{i e^{i \\theta_{1}}}{2} - \\frac{i e^{i \\left(\\theta_{2} + \\pi\\right)}}{2}\\\\- \\frac{i e^{i \\theta_{1}}}{2} - \\frac{i e^{i \\left(\\theta_{2} + \\pi\\right)}}{2} & - \\frac{e^{i \\theta_{1}}}{2} + \\frac{e^{i \\left(\\theta_{2} + \\pi\\right)}}{2}\\end{matrix}\\right]$"
      ],
      "text/plain": [
       "Matrix([\n",
       "[     exp(I*\\theta_1)/2 - exp(I*(\\theta_2 + pi))/2, -I*exp(I*\\theta_1)/2 - I*exp(I*(\\theta_2 + pi))/2],\n",
       "[-I*exp(I*\\theta_1)/2 - I*exp(I*(\\theta_2 + pi))/2,     -exp(I*\\theta_1)/2 + exp(I*(\\theta_2 + pi))/2]])"
      ]
     },
     "execution_count": 12,
     "metadata": {},
     "output_type": "execute_result"
    }
   ],
   "source": [
    "sMZ"
   ]
  },
  {
   "cell_type": "code",
   "execution_count": 292,
   "id": "35c241df",
   "metadata": {},
   "outputs": [
    {
     "data": {
      "text/latex": [
       "$\\displaystyle \\left[\\begin{matrix}1 & 0\\\\0 & 1\\end{matrix}\\right]$"
      ],
      "text/plain": [
       "Matrix([\n",
       "[1, 0],\n",
       "[0, 1]])"
      ]
     },
     "execution_count": 292,
     "metadata": {},
     "output_type": "execute_result"
    }
   ],
   "source": [
    "s.simplify((sMZ @ sMZ.conjugate().T)) # check unitary"
   ]
  },
  {
   "cell_type": "code",
   "execution_count": 14,
   "id": "30bc534c",
   "metadata": {},
   "outputs": [],
   "source": [
    "sigma, delta = s.symbols(r'\\Sigma \\delta', real=True)"
   ]
  },
  {
   "cell_type": "code",
   "execution_count": 15,
   "id": "6a5916b5",
   "metadata": {},
   "outputs": [],
   "source": [
    "theta1_new = sigma + delta\n",
    "theta2_new = sigma - delta"
   ]
  },
  {
   "cell_type": "code",
   "execution_count": 16,
   "id": "cf2c2d87",
   "metadata": {},
   "outputs": [],
   "source": [
    "sMZp = sMZ.subs(((theta1, theta1_new), (theta2, theta2_new)))"
   ]
  },
  {
   "cell_type": "code",
   "execution_count": 17,
   "id": "341b2b29",
   "metadata": {},
   "outputs": [
    {
     "data": {
      "text/latex": [
       "$\\displaystyle \\left[\\begin{matrix}\\frac{e^{i \\left(\\Sigma + \\delta\\right)}}{2} - \\frac{e^{i \\left(\\Sigma - \\delta + \\pi\\right)}}{2} & - \\frac{i \\left(e^{i \\left(\\Sigma + \\delta\\right)} + e^{i \\left(\\Sigma - \\delta + \\pi\\right)}\\right)}{2}\\\\- \\frac{i \\left(e^{i \\left(\\Sigma + \\delta\\right)} + e^{i \\left(\\Sigma - \\delta + \\pi\\right)}\\right)}{2} & - \\frac{e^{i \\left(\\Sigma + \\delta\\right)}}{2} + \\frac{e^{i \\left(\\Sigma - \\delta + \\pi\\right)}}{2}\\end{matrix}\\right]$"
      ],
      "text/plain": [
       "Matrix([\n",
       "[   exp(I*(\\Sigma + \\delta))/2 - exp(I*(\\Sigma - \\delta + pi))/2, -I*(exp(I*(\\Sigma + \\delta)) + exp(I*(\\Sigma - \\delta + pi)))/2],\n",
       "[-I*(exp(I*(\\Sigma + \\delta)) + exp(I*(\\Sigma - \\delta + pi)))/2,   -exp(I*(\\Sigma + \\delta))/2 + exp(I*(\\Sigma - \\delta + pi))/2]])"
      ]
     },
     "execution_count": 17,
     "metadata": {},
     "output_type": "execute_result"
    }
   ],
   "source": [
    "sMZp.simplify()\n",
    "sMZp"
   ]
  },
  {
   "cell_type": "code",
   "execution_count": 19,
   "id": "clean-regression",
   "metadata": {},
   "outputs": [
    {
     "data": {
      "text/latex": [
       "$\\displaystyle \\left[\\begin{matrix}\\frac{e^{i \\left(\\Sigma + \\delta\\right)}}{2} - \\frac{e^{i \\left(\\Sigma - \\delta + \\pi\\right)}}{2} & - \\frac{i \\left(e^{i \\left(\\Sigma + \\delta\\right)} + e^{i \\left(\\Sigma - \\delta + \\pi\\right)}\\right)}{2}\\\\- \\frac{i \\left(e^{i \\left(\\Sigma + \\delta\\right)} + e^{i \\left(\\Sigma - \\delta + \\pi\\right)}\\right)}{2} & - \\frac{e^{i \\left(\\Sigma + \\delta\\right)}}{2} + \\frac{e^{i \\left(\\Sigma - \\delta + \\pi\\right)}}{2}\\end{matrix}\\right]$"
      ],
      "text/plain": [
       "Matrix([\n",
       "[   exp(I*(\\Sigma + \\delta))/2 - exp(I*(\\Sigma - \\delta + pi))/2, -I*(exp(I*(\\Sigma + \\delta)) + exp(I*(\\Sigma - \\delta + pi)))/2],\n",
       "[-I*(exp(I*(\\Sigma + \\delta)) + exp(I*(\\Sigma - \\delta + pi)))/2,   -exp(I*(\\Sigma + \\delta))/2 + exp(I*(\\Sigma - \\delta + pi))/2]])"
      ]
     },
     "execution_count": 19,
     "metadata": {},
     "output_type": "execute_result"
    }
   ],
   "source": [
    "s.simplify(sMZp)"
   ]
  },
  {
   "cell_type": "code",
   "execution_count": 18,
   "id": "8ff90dfc",
   "metadata": {},
   "outputs": [
    {
     "data": {
      "text/latex": [
       "$\\displaystyle \\left[\\begin{matrix}\\cos{\\left(\\delta \\right)} & \\sin{\\left(\\delta \\right)}\\\\\\sin{\\left(\\delta \\right)} & - \\cos{\\left(\\delta \\right)}\\end{matrix}\\right]$"
      ],
      "text/plain": [
       "Matrix([\n",
       "[cos(\\delta),  sin(\\delta)],\n",
       "[sin(\\delta), -cos(\\delta)]])"
      ]
     },
     "execution_count": 18,
     "metadata": {},
     "output_type": "execute_result"
    }
   ],
   "source": [
    "s.simplify(sMZp / (s.exp(s.I * sigma)))"
   ]
  },
  {
   "cell_type": "code",
   "execution_count": null,
   "id": "c3413e70",
   "metadata": {},
   "outputs": [],
   "source": []
  }
 ],
 "metadata": {
  "kernelspec": {
   "display_name": "Python 3",
   "language": "python",
   "name": "python3"
  },
  "language_info": {
   "codemirror_mode": {
    "name": "ipython",
    "version": 3
   },
   "file_extension": ".py",
   "mimetype": "text/x-python",
   "name": "python",
   "nbconvert_exporter": "python",
   "pygments_lexer": "ipython3",
   "version": "3.8.6"
  }
 },
 "nbformat": 4,
 "nbformat_minor": 5
}
