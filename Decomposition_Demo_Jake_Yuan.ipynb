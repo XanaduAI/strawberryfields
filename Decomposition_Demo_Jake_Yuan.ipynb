{
 "cells": [
  {
   "cell_type": "code",
   "execution_count": 57,
   "id": "economic-paste",
   "metadata": {},
   "outputs": [],
   "source": [
    "import numpy as np\n",
    "from scipy.stats import unitary_group\n",
    "from collections import defaultdict\n",
    "\n",
    "np.set_printoptions(precision=3, suppress=True) #print less digits of floats for readability"
   ]
  },
  {
   "cell_type": "code",
   "execution_count": 58,
   "id": "b25f56bf",
   "metadata": {},
   "outputs": [],
   "source": [
    "def M(n, sigma, delta, m):\n",
    "    r\"\"\"The Bell M matrix from Eq 1 of the paper\n",
    "    n here represents the starting mode of MZI, and n = k-j\n",
    "    \"\"\"\n",
    "    mat = np.identity(m, dtype=np.complex128)\n",
    "    mat[n, n] = np.exp(1j * sigma) * np.sin(delta)\n",
    "    mat[n, n+1] = np.exp(1j * sigma) * np.cos(delta)\n",
    "    mat[n+1, n] = np.exp(1j * sigma) * np.cos(delta)\n",
    "    mat[n+1, n+1] = -np.exp(1j * sigma) * np.sin(delta)\n",
    "    return mat\n",
    "\n",
    "def P(j, phi, m):\n",
    "    mat = np.identity(m, dtype=np.complex128)\n",
    "    mat[j,j] = np.exp(1j * phi)\n",
    "    return mat\n",
    "    \n",
    "def is_unitary(U):\n",
    "    return np.allclose(U @ U.conj().T, np.eye(U.shape[0]))"
   ]
  },
  {
   "cell_type": "code",
   "execution_count": 69,
   "id": "df416d8d",
   "metadata": {},
   "outputs": [],
   "source": [
    "def Clement_decomposition(U):\n",
    "    V = U.conj()\n",
    "    \n",
    "    m = U.shape[0]\n",
    "        \n",
    "    phases = dict()\n",
    "    phases['phi_ins'] = dict() # mode: phi\n",
    "    phases['deltas'] = dict() # (mode, layer) : delta\n",
    "    phases['sigmas'] = dict() # (mode, layer) : sigma\n",
    "    phases['zetas'] = dict() # mode : zeta\n",
    "    phases['phi_outs'] = dict() # mode : phi\n",
    "        \n",
    "    for j in range(m-1):\n",
    "        #odd case in paper, because we index from 0 not 1\n",
    "        if j % 2 == 0:\n",
    "            x = m - 1\n",
    "            y = j\n",
    "            phi_j = np.angle(V[x, y+1]) - np.angle(V[x, y]) # reversed order from paper\n",
    "            V = V @ P(j, phi_j, m)\n",
    "            phases['phi_ins'][j] = phi_j\n",
    "            for k in range(j+1):\n",
    "                delta = np.arctan(-V[x,y+1] / V[x,y]).real # flipped from paper\n",
    "                n = j - k\n",
    "                V_temp = V @ M(n, 0, delta, m)\n",
    "                sigma = np.angle(V_temp[x-1, y-1]) - np.angle(V_temp[x-1,y])\n",
    "#                 params_list[j].append([delta,sigma])\n",
    "                V = V @ M(n, sigma, delta, m)\n",
    "                phases['deltas'][n,k] = delta\n",
    "                phases['sigmas'][n,k] = sigma\n",
    "                x -= 1\n",
    "                y -= 1\n",
    "        else:\n",
    "            x = m - j - 1\n",
    "            y = 0\n",
    "            phi_j = np.angle(V[x-1,y]) - np.angle(V[x,y])\n",
    "            V = P(x, phi_j, m) @ V\n",
    "            phases['phi_outs'][x] = phi_j\n",
    "            for k in range(j+1):\n",
    "                delta = np.arctan(V[x-1,y] / V[x,y]).real # flipped from paper\n",
    "                V_temp = M(x-1, 0, delta, m) @ V\n",
    "                n = m + k - j - 2\n",
    "                if j != k:\n",
    "                    sigma = (np.angle(V_temp[x+1, y+1]) - np.angle(V_temp[x,y+1]))\n",
    "                else:\n",
    "                    sigma = 0\n",
    "                phases['deltas'][n,m-k] = delta\n",
    "                phases['sigmas'][n,m-k] = sigma\n",
    "                V = M(n, sigma, delta, m) @ V\n",
    "                x += 1\n",
    "                y += 1\n",
    "\n",
    "    # these next two lines are just to remove a global phase\n",
    "    zeta = - np.angle(V[0,0])\n",
    "    params_list[\"global_zeta\"].append(zeta)\n",
    "    V = V @ P(0, zeta, m)\n",
    "    phases['zetas'][0] = zeta\n",
    "\n",
    "    for j in range(1,m):\n",
    "        zeta = np.angle(V[0,0]) - np.angle(V[j,j])\n",
    "        params_list[\"Q_\"].append(zeta)\n",
    "        V = V @ P(j, zeta, m)\n",
    "        phases['zetas'][j] = zeta\n",
    "        \n",
    "    if not np.allclose(V, np.eye(m)):#is_unitary(V):\n",
    "        raise Exception('decomposition failed')\n",
    "    return phases"
   ]
  },
  {
   "cell_type": "code",
   "execution_count": 66,
   "id": "8cab3615",
   "metadata": {},
   "outputs": [],
   "source": [
    "def recompose(phases):\n",
    "    U = np.eye(m, dtype=np.complex128)\n",
    "    #upper left of interferometer\n",
    "    for j in range(0,m-1,2):\n",
    "        phi_j = phases['phi_ins'][j]\n",
    "        U = P(j, phi_j, m) @ U\n",
    "        for k in range(j+1):\n",
    "            n = j - k\n",
    "            delta = phases['deltas'][n,k]\n",
    "            sigma = phases['sigmas'][n,k]\n",
    "            U = M(n, sigma, delta, m) @ U\n",
    "    #diagonal phases\n",
    "    for j in range(m):\n",
    "        zeta = phases['zetas'][j]\n",
    "        U = P(j, zeta, m) @ U\n",
    "        \n",
    "    for j in reversed(range(1,m-1,2)):\n",
    "        for k in reversed(range(j+1)):\n",
    "            n = m + k - j - 2\n",
    "            delta = phases['deltas'][n,m-k]\n",
    "            sigma = phases['sigmas'][n,m-k]\n",
    "            U = M(n, sigma, delta, m) @ U\n",
    "        x = m - j - 1\n",
    "        phi_j = phases['phi_outs'][x]\n",
    "        U = P(x, phi_j, m) @ U\n",
    "    return U"
   ]
  },
  {
   "cell_type": "code",
   "execution_count": 73,
   "id": "5882917c",
   "metadata": {},
   "outputs": [],
   "source": [
    "m = 5\n",
    "U = unitary_group.rvs(m)\n",
    "\n",
    "phases = Clement_decomposition(U)"
   ]
  },
  {
   "cell_type": "code",
   "execution_count": 74,
   "id": "bf9f7fbb",
   "metadata": {},
   "outputs": [
    {
     "data": {
      "text/plain": [
       "{'phi_ins': {0: -1.4288777467600307, 2: 2.5997015122259017},\n",
       " 'deltas': {(0, 0): -1.0247957738071078,\n",
       "  (2, 5): 1.0350747192554206,\n",
       "  (3, 4): 0.9302814707882205,\n",
       "  (2, 0): -0.8670479172440555,\n",
       "  (1, 1): -0.12424644486022512,\n",
       "  (0, 2): -0.9729687412378403,\n",
       "  (0, 5): 0.38394246609301513,\n",
       "  (1, 4): 0.8510434566406593,\n",
       "  (2, 3): 0.2128019043579542,\n",
       "  (3, 2): 0.4585846401222074},\n",
       " 'sigmas': {(0, 0): 2.830261707801153,\n",
       "  (2, 5): -1.0571256508301294,\n",
       "  (3, 4): 0,\n",
       "  (2, 0): -2.1531153870170523,\n",
       "  (1, 1): -2.7373835185090676,\n",
       "  (0, 2): 3.6699701904141966,\n",
       "  (0, 5): -1.621633490942252,\n",
       "  (1, 4): 1.5567134787437074,\n",
       "  (2, 3): -3.036269267786111,\n",
       "  (3, 2): 0},\n",
       " 'zetas': {0: 0.3090006822563056,\n",
       "  1: 1.0687180883870984,\n",
       "  2: 1.3081673568690535,\n",
       "  3: 2.370381130298043,\n",
       "  4: -1.3530361822910844},\n",
       " 'phi_outs': {3: -1.8684708514585138, 1: -1.1377518918062175}}"
      ]
     },
     "execution_count": 74,
     "metadata": {},
     "output_type": "execute_result"
    }
   ],
   "source": [
    "phases"
   ]
  },
  {
   "cell_type": "code",
   "execution_count": 75,
   "id": "a16ba444",
   "metadata": {},
   "outputs": [
    {
     "data": {
      "text/plain": [
       "array([[-0.581-0.089j, -0.004+0.273j,  0.329-0.368j,  0.065-0.212j,\n",
       "        -0.137+0.518j],\n",
       "       [-0.569+0.185j,  0.169+0.255j, -0.141+0.586j, -0.27 +0.257j,\n",
       "        -0.167-0.138j],\n",
       "       [-0.29 +0.135j, -0.418+0.16j ,  0.108+0.049j,  0.584+0.051j,\n",
       "         0.464-0.353j],\n",
       "       [-0.322+0.005j,  0.28 -0.554j, -0.381-0.079j,  0.488-0.115j,\n",
       "        -0.32 -0.074j],\n",
       "       [-0.3  -0.023j, -0.032-0.494j,  0.441-0.183j, -0.451-0.12j ,\n",
       "         0.113-0.454j]])"
      ]
     },
     "execution_count": 75,
     "metadata": {},
     "output_type": "execute_result"
    }
   ],
   "source": [
    "U"
   ]
  },
  {
   "cell_type": "code",
   "execution_count": 78,
   "id": "b986b7d6",
   "metadata": {},
   "outputs": [
    {
     "data": {
      "text/plain": [
       "True"
      ]
     },
     "execution_count": 78,
     "metadata": {},
     "output_type": "execute_result"
    }
   ],
   "source": [
    "U_out = recompose(phases)\n",
    "np.allclose(U, U_out)"
   ]
  },
  {
   "cell_type": "code",
   "execution_count": null,
   "id": "b27a3c15",
   "metadata": {},
   "outputs": [],
   "source": []
  },
  {
   "cell_type": "code",
   "execution_count": 64,
   "id": "honey-incidence",
   "metadata": {},
   "outputs": [
    {
     "ename": "IndexError",
     "evalue": "tuple index out of range",
     "output_type": "error",
     "traceback": [
      "\u001b[0;31m---------------------------------------------------------------------------\u001b[0m",
      "\u001b[0;31mIndexError\u001b[0m                                Traceback (most recent call last)",
      "\u001b[0;32m<ipython-input-64-9a83d23fb3a6>\u001b[0m in \u001b[0;36m<module>\u001b[0;34m\u001b[0m\n\u001b[1;32m     23\u001b[0m \u001b[0;34m\u001b[0m\u001b[0m\n\u001b[1;32m     24\u001b[0m     \u001b[0;32mfor\u001b[0m \u001b[0mi\u001b[0m\u001b[0;34m,\u001b[0m\u001b[0mphi\u001b[0m \u001b[0;32min\u001b[0m \u001b[0menumerate\u001b[0m\u001b[0;34m(\u001b[0m\u001b[0mparams_list\u001b[0m\u001b[0;34m[\u001b[0m\u001b[0;34m'Q_'\u001b[0m\u001b[0;34m]\u001b[0m\u001b[0;34m)\u001b[0m\u001b[0;34m:\u001b[0m\u001b[0;34m\u001b[0m\u001b[0;34m\u001b[0m\u001b[0m\n\u001b[0;32m---> 25\u001b[0;31m         \u001b[0mRgate\u001b[0m\u001b[0;34m(\u001b[0m\u001b[0mphi\u001b[0m\u001b[0;34m)\u001b[0m \u001b[0;34m|\u001b[0m \u001b[0mq\u001b[0m\u001b[0;34m[\u001b[0m\u001b[0mm\u001b[0m\u001b[0;34m-\u001b[0m\u001b[0mi\u001b[0m\u001b[0;34m-\u001b[0m\u001b[0;36m1\u001b[0m\u001b[0;34m]\u001b[0m\u001b[0;34m\u001b[0m\u001b[0;34m\u001b[0m\u001b[0m\n\u001b[0m\u001b[1;32m     26\u001b[0m \u001b[0;34m\u001b[0m\u001b[0m\n\u001b[1;32m     27\u001b[0m \u001b[0meng\u001b[0m \u001b[0;34m=\u001b[0m \u001b[0mEngine\u001b[0m\u001b[0;34m(\u001b[0m\u001b[0;34m'gaussian'\u001b[0m\u001b[0;34m)\u001b[0m\u001b[0;31m#\"fock\", backend_options={\"cutoff_dim\": 10})\u001b[0m\u001b[0;34m\u001b[0m\u001b[0;34m\u001b[0m\u001b[0m\n",
      "\u001b[0;31mIndexError\u001b[0m: tuple index out of range"
     ]
    }
   ],
   "source": [
    "import numpy as np\n",
    "from strawberryfields.program import Program\n",
    "from strawberryfields.ops import Rgate,sMZgate\n",
    "from strawberryfields.engine import Engine\n",
    "\n",
    "\n",
    "m=3\n",
    "\n",
    "prog = Program(m)\n",
    "\n",
    "with prog.context as q:\n",
    "    \n",
    "    for i,phi in enumerate(params_list['P_']):\n",
    "        Rgate(phi) | q[i]\n",
    "\n",
    "    for j in range(m-1):\n",
    "        for k in range(len(params_list[j])):\n",
    "            delta = params_list[j][k][0]\n",
    "            sigma = params_list[j][k][1]\n",
    "            theta1 = delta + sigma\n",
    "            theta2 = sigma - delta\n",
    "            sMZgate(theta1, theta2) | (q[j-k], q[j-k+1])\n",
    " \n",
    "    for i,phi in enumerate(params_list['Q_']):\n",
    "        Rgate(phi) | q[m-i-1]\n",
    "        \n",
    "eng = Engine('gaussian')#\"fock\", backend_options={\"cutoff_dim\": 10})\n",
    "result = eng.run(prog)\n",
    "state = result.state"
   ]
  },
  {
   "cell_type": "code",
   "execution_count": null,
   "id": "built-condition",
   "metadata": {},
   "outputs": [],
   "source": []
  },
  {
   "cell_type": "code",
   "execution_count": null,
   "id": "saved-tower",
   "metadata": {},
   "outputs": [],
   "source": []
  },
  {
   "cell_type": "code",
   "execution_count": null,
   "id": "chinese-miniature",
   "metadata": {},
   "outputs": [],
   "source": []
  },
  {
   "cell_type": "markdown",
   "id": "60b3bc78",
   "metadata": {},
   "source": [
    "# Clements"
   ]
  },
  {
   "cell_type": "code",
   "execution_count": 9,
   "id": "comparative-spiritual",
   "metadata": {},
   "outputs": [],
   "source": [
    "from strawberryfields.decomposition_tests import Clement_decomposition,Clement_reconstruction"
   ]
  },
  {
   "cell_type": "code",
   "execution_count": 19,
   "id": "twenty-summit",
   "metadata": {},
   "outputs": [],
   "source": [
    "m=6\n",
    "U = unitary_group.rvs(m)"
   ]
  },
  {
   "cell_type": "code",
   "execution_count": 11,
   "id": "recreational-rolling",
   "metadata": {},
   "outputs": [
    {
     "data": {
      "text/plain": [
       "array([[ 0.063-0.407j,  0.493+0.128j,  0.047+0.115j, -0.258-0.599j,\n",
       "         0.039+0.346j, -0.096+0.018j],\n",
       "       [ 0.335+0.229j,  0.055-0.254j, -0.269-0.35j ,  0.114-0.062j,\n",
       "         0.373+0.445j,  0.468-0.029j],\n",
       "       [-0.046-0.162j, -0.333-0.331j,  0.68 -0.102j,  0.333-0.229j,\n",
       "         0.162+0.166j, -0.126-0.213j],\n",
       "       [-0.47 +0.163j, -0.036-0.458j, -0.458+0.036j,  0.2  -0.396j,\n",
       "        -0.313+0.025j, -0.109-0.151j],\n",
       "       [-0.053-0.031j, -0.105-0.061j,  0.14 +0.19j ,  0.051-0.385j,\n",
       "         0.026-0.425j,  0.605+0.478j],\n",
       "       [-0.577+0.231j,  0.113+0.463j,  0.052+0.218j,  0.216+0.002j,\n",
       "         0.434+0.142j,  0.183-0.218j]])"
      ]
     },
     "execution_count": 11,
     "metadata": {},
     "output_type": "execute_result"
    }
   ],
   "source": [
    "U"
   ]
  },
  {
   "cell_type": "code",
   "execution_count": 12,
   "id": "checked-affect",
   "metadata": {},
   "outputs": [
    {
     "name": "stdout",
     "output_type": "stream",
     "text": [
      "V matrix is unitary: [[ 1.-0.j  0.+0.j -0.-0.j -0.-0.j  0.-0.j  0.+0.j]\n",
      " [-0.-0.j  1.-0.j  0.+0.j  0.+0.j  0.+0.j  0.+0.j]\n",
      " [ 0.+0.j -0.-0.j  1.-0.j -0.+0.j -0.+0.j -0.+0.j]\n",
      " [-0.+0.j  0.-0.j -0.+0.j  1.-0.j  0.+0.j  0.+0.j]\n",
      " [ 0.+0.j  0.+0.j  0.-0.j  0.+0.j  1.-0.j  0.-0.j]\n",
      " [-0.-0.j -0.+0.j  0.+0.j  0.-0.j  0.-0.j  1.-0.j]]\n"
     ]
    }
   ],
   "source": [
    "params_list = Clement_decomposition(U)"
   ]
  },
  {
   "cell_type": "code",
   "execution_count": 13,
   "id": "aboriginal-thomson",
   "metadata": {},
   "outputs": [
    {
     "data": {
      "text/plain": [
       "array([[ 0.063-0.407j,  0.493+0.128j,  0.047+0.115j, -0.258-0.599j,\n",
       "         0.039+0.346j, -0.096+0.018j],\n",
       "       [ 0.335+0.229j,  0.055-0.254j, -0.269-0.35j ,  0.114-0.062j,\n",
       "         0.373+0.445j,  0.468-0.029j],\n",
       "       [-0.046-0.162j, -0.333-0.331j,  0.68 -0.102j,  0.333-0.229j,\n",
       "         0.162+0.166j, -0.126-0.213j],\n",
       "       [-0.47 +0.163j, -0.036-0.458j, -0.458+0.036j,  0.2  -0.396j,\n",
       "        -0.313+0.025j, -0.109-0.151j],\n",
       "       [-0.053-0.031j, -0.105-0.061j,  0.14 +0.19j ,  0.051-0.385j,\n",
       "         0.026-0.425j,  0.605+0.478j],\n",
       "       [-0.577+0.231j,  0.113+0.463j,  0.052+0.218j,  0.216+0.002j,\n",
       "         0.434+0.142j,  0.183-0.218j]])"
      ]
     },
     "execution_count": 13,
     "metadata": {},
     "output_type": "execute_result"
    }
   ],
   "source": [
    "def Clement_reconstruction(m,params_list):\n",
    "    U_Q = np.identity(m, dtype=np.complex128)\n",
    "    U_odd = np.identity(m, dtype=np.complex128)\n",
    "    U_even = np.identity(m, dtype=np.complex128)\n",
    "\n",
    "    for j in range(0,m-1,2):\n",
    "        phi = params_list[\"P_\"][j]\n",
    "        U = P(j, phi, m) @ U\n",
    "#         U_odd =  U_odd @ P(j,phi,m)\n",
    "        for k in range(j+1):#range(len(params_list[j])):\n",
    "            delta = params_list[j][k][0]\n",
    "            sigma = params_list[j][k][1]\n",
    "#             U_odd = U_odd@M(j-k, sigma, delta, m)\n",
    "            U = M(j-k, sigma, delta, m) @ U\n",
    "    for j in range(1,m-1,2):\n",
    "        phi = params_list[\"P_\"][j]\n",
    "        U_even =    P(m-j-1, phi, m) @ U_even\n",
    "        for k in range(len(params_list[j])):\n",
    "            delta = params_list[j][k][0]\n",
    "            sigma = params_list[j][k][1]\n",
    "            U_even = M(m + k - j - 2, sigma, delta, m)@U_even\n",
    "            \n",
    "\n",
    "    for j in range(1,m):\n",
    "        zeta = params_list[\"Q_\"][j-1]\n",
    "        U_Q = P(j, zeta, m) @ U_Q\n",
    "        \n",
    "    phase = P(0, params_list[\"global_zeta\"][0], m)\n",
    "\n",
    "    U_right = U_odd@phase@U_Q\n",
    "    U_left = U_even\n",
    "    return (U_right@U_left).T"
   ]
  },
  {
   "cell_type": "code",
   "execution_count": 18,
   "id": "bound-charleston",
   "metadata": {},
   "outputs": [
    {
     "data": {
      "text/plain": [
       "array([[1., 0., 0., 0.],\n",
       "       [0., 1., 0., 0.],\n",
       "       [0., 0., 1., 0.],\n",
       "       [0., 0., 0., 1.]])"
      ]
     },
     "execution_count": 18,
     "metadata": {},
     "output_type": "execute_result"
    }
   ],
   "source": [
    "import numpy as np\n",
    "from strawberryfields.program import Program\n",
    "from strawberryfields.ops import Rgate,sMZgate, BSgate\n",
    "from strawberryfields.engine import Engine\n",
    "\n",
    "\n",
    "m=2\n",
    "\n",
    "prog = Program(m)\n",
    "eng = Engine('gaussian')\n",
    "\n",
    "with prog.context as q:\n",
    "    \n",
    "    BSgate(0.25*np.pi,0) | (q[0], q[1])\n",
    "\n",
    "result = eng.run(prog)\n",
    "\n",
    "result.state.cov()"
   ]
  },
  {
   "cell_type": "code",
   "execution_count": 285,
   "id": "practical-temperature",
   "metadata": {},
   "outputs": [],
   "source": [
    "import sympy as s"
   ]
  },
  {
   "cell_type": "code",
   "execution_count": 286,
   "id": "fe2b9dac",
   "metadata": {},
   "outputs": [],
   "source": [
    "theta1, theta2 = s.symbols(r'\\theta_1 \\theta_2', real=True)"
   ]
  },
  {
   "cell_type": "code",
   "execution_count": 287,
   "id": "2dda4f2c",
   "metadata": {},
   "outputs": [],
   "source": [
    "BS = s.exp(-s.I * s.pi / 2) * s.Matrix([[1,s.I],[s.I,1]]) / s.sqrt(2)"
   ]
  },
  {
   "cell_type": "code",
   "execution_count": 288,
   "id": "fa80c101",
   "metadata": {},
   "outputs": [],
   "source": [
    "middle = s.Matrix([[s.exp(s.I * (theta2+s.pi)), 0], [0, s.exp(s.I * (theta1))]])"
   ]
  },
  {
   "cell_type": "code",
   "execution_count": 290,
   "id": "82db66f8",
   "metadata": {},
   "outputs": [],
   "source": [
    "sMZ = BS @ middle @ BS"
   ]
  },
  {
   "cell_type": "code",
   "execution_count": 292,
   "id": "35c241df",
   "metadata": {},
   "outputs": [
    {
     "data": {
      "text/latex": [
       "$\\displaystyle \\left[\\begin{matrix}1 & 0\\\\0 & 1\\end{matrix}\\right]$"
      ],
      "text/plain": [
       "Matrix([\n",
       "[1, 0],\n",
       "[0, 1]])"
      ]
     },
     "execution_count": 292,
     "metadata": {},
     "output_type": "execute_result"
    }
   ],
   "source": [
    "s.simplify((sMZ @ sMZ.conjugate().T)) # check unitary"
   ]
  },
  {
   "cell_type": "code",
   "execution_count": 293,
   "id": "30bc534c",
   "metadata": {},
   "outputs": [],
   "source": [
    "sigma, delta = s.symbols(r'\\Sigma \\delta', real=True)"
   ]
  },
  {
   "cell_type": "code",
   "execution_count": 294,
   "id": "6a5916b5",
   "metadata": {},
   "outputs": [],
   "source": [
    "theta1_new = sigma + delta\n",
    "theta2_new = sigma - delta"
   ]
  },
  {
   "cell_type": "code",
   "execution_count": 295,
   "id": "cf2c2d87",
   "metadata": {},
   "outputs": [],
   "source": [
    "sMZp = sMZ.subs(((theta1, theta1_new), (theta2, theta2_new)))"
   ]
  },
  {
   "cell_type": "code",
   "execution_count": 296,
   "id": "341b2b29",
   "metadata": {},
   "outputs": [
    {
     "data": {
      "text/latex": [
       "$\\displaystyle \\left[\\begin{matrix}\\frac{e^{i \\left(\\Sigma + \\delta\\right)}}{2} - \\frac{e^{i \\left(\\Sigma - \\delta + \\pi\\right)}}{2} & - \\frac{i \\left(e^{i \\left(\\Sigma + \\delta\\right)} + e^{i \\left(\\Sigma - \\delta + \\pi\\right)}\\right)}{2}\\\\- \\frac{i \\left(e^{i \\left(\\Sigma + \\delta\\right)} + e^{i \\left(\\Sigma - \\delta + \\pi\\right)}\\right)}{2} & - \\frac{e^{i \\left(\\Sigma + \\delta\\right)}}{2} + \\frac{e^{i \\left(\\Sigma - \\delta + \\pi\\right)}}{2}\\end{matrix}\\right]$"
      ],
      "text/plain": [
       "Matrix([\n",
       "[   exp(I*(\\Sigma + \\delta))/2 - exp(I*(\\Sigma - \\delta + pi))/2, -I*(exp(I*(\\Sigma + \\delta)) + exp(I*(\\Sigma - \\delta + pi)))/2],\n",
       "[-I*(exp(I*(\\Sigma + \\delta)) + exp(I*(\\Sigma - \\delta + pi)))/2,   -exp(I*(\\Sigma + \\delta))/2 + exp(I*(\\Sigma - \\delta + pi))/2]])"
      ]
     },
     "execution_count": 296,
     "metadata": {},
     "output_type": "execute_result"
    }
   ],
   "source": [
    "sMZp.simplify()\n",
    "sMZp"
   ]
  },
  {
   "cell_type": "code",
   "execution_count": 297,
   "id": "8ff90dfc",
   "metadata": {},
   "outputs": [
    {
     "data": {
      "text/latex": [
       "$\\displaystyle \\left[\\begin{matrix}\\cos{\\left(\\delta \\right)} & \\sin{\\left(\\delta \\right)}\\\\\\sin{\\left(\\delta \\right)} & - \\cos{\\left(\\delta \\right)}\\end{matrix}\\right]$"
      ],
      "text/plain": [
       "Matrix([\n",
       "[cos(\\delta),  sin(\\delta)],\n",
       "[sin(\\delta), -cos(\\delta)]])"
      ]
     },
     "execution_count": 297,
     "metadata": {},
     "output_type": "execute_result"
    }
   ],
   "source": [
    "s.simplify(sMZp / (s.exp(s.I * sigma)))"
   ]
  },
  {
   "cell_type": "code",
   "execution_count": null,
   "id": "c3413e70",
   "metadata": {},
   "outputs": [],
   "source": []
  }
 ],
 "metadata": {
  "kernelspec": {
   "display_name": "Python 3",
   "language": "python",
   "name": "python3"
  },
  "language_info": {
   "codemirror_mode": {
    "name": "ipython",
    "version": 3
   },
   "file_extension": ".py",
   "mimetype": "text/x-python",
   "name": "python",
   "nbconvert_exporter": "python",
   "pygments_lexer": "ipython3",
   "version": "3.8.8"
  }
 },
 "nbformat": 4,
 "nbformat_minor": 5
}
