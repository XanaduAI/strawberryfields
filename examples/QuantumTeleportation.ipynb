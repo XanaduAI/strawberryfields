{
 "cells": [
  {
   "cell_type": "markdown",
   "metadata": {},
   "source": [
    "<script>\n",
    "  jQuery(document).ready(function($) {\n",
    "\n",
    "  $(window).load(function(){\n",
    "    $('#preloader').fadeOut('slow',function(){$(this).remove();});\n",
    "  });\n",
    "\n",
    "  });\n",
    "</script>\n",
    "\n",
    "<style type=\"text/css\">\n",
    "  div#preloader { position: fixed;\n",
    "      left: 0;\n",
    "      top: 0;\n",
    "      z-index: 999;\n",
    "      width: 100%;\n",
    "      height: 100%;\n",
    "      overflow: visible;\n",
    "      background: #fff url('http://preloaders.net/preloaders/720/Moving%20line.gif') no-repeat center center;\n",
    "  }\n",
    "\n",
    "</style>\n",
    "\n",
    "<div id=\"preloader\"></div>"
   ]
  },
  {
   "cell_type": "markdown",
   "metadata": {},
   "source": [
    "<table width=60% >\n",
    "    <tr style=\"background-color: white;\">\n",
    "        <td><img src='https://www.creativedestructionlab.com/wp-content/uploads/2018/05/xanadu.jpg'></td>\n",
    "<!--         <td><img src='https://www.creativedestructionlab.com/wp-content/uploads/2016/10/creative-destruction-lab.png' ></td> -->\n",
    "    </tr>\n",
    "</table>\n",
    "\n",
    "---\n",
    "\n",
    "<img src='https://raw.githubusercontent.com/XanaduAI/strawberryfields/master/doc/_static/strawberry-fields-text.png'>\n",
    "\n",
    "---\n",
    "\n",
    "<br>\n",
    "\n",
    "<center> <h1> Quantum teleportation </h1></center>\n",
    "\n",
    "<div class=\"alert alert-info\">\n",
    "“A trick that quantum magicians use to produce phenomena that cannot be imitated by classical magicians.” - A. Peres\n",
    "</div>\n",
    "\n",
    "To get a feel for how Strawberry Fields works, let's walk through an example of quantum teleportation.\n"
   ]
  },
  {
   "cell_type": "markdown",
   "metadata": {},
   "source": [
    "## Background info\n",
    "Quantum teleportation is the reliable transfer of an unknown quantum state across spatially separated qubits or qumodes, through the use of a classical transmission channel and quantum entanglement. Considered a fundamental quantum information protocol, it has applications ranging from quantum communication to enabling distributed information processing in quantum computation.\n",
    "\n",
    "In general, all quantum teleportation circuits work on the same basic principle. Two distant observers, Alice and Bob, share a maximally entangled quantum state (in discrete variables, any one of the four Bell states; or in CV, a maximally entangled state for a fixed energy), and have access to a classical communication channel. Alice, in possession of an unknown state which she wishes to transport to Bob, makes a joint measurement of the unknown state and her half of the entangled state, by projecting onto the Bell basis. By transmitting the results of her measurement to Bob, Bob is then able to transform his half of the entangled state to an accurate replica of the original unknown state, by performing a conditional phase flip (for qubits) or displacement (for qumodes)."
   ]
  },
  {
   "cell_type": "markdown",
   "metadata": {},
   "source": [
    "## The teleportation circuit\n",
    "\n",
    "<img src='https://strawberryfields.readthedocs.io/en/stable/_images/teleport.svg' width=90%>"
   ]
  },
  {
   "cell_type": "markdown",
   "metadata": {},
   "source": [
    "$$\\newcommand{ket}[1]{\\left|#1\\right\\rangle}$$\n",
    "\n",
    "* Here, qumodes $q_1$ and $q_2$ are initially prepared as highly squeezed vacuum states in momentum and position space respectively. We do this by highly squeezing these two qumodes in the phase space:\n",
    "\n",
    "\\begin{align}\n",
    "&\\ket{0}_x \\approx S(2)\\ket{0}\\\\\n",
    "&\\ket{0}_p \\approx S(-2) \\ket{0}\n",
    "\\end{align}\n",
    "\n",
    "\n",
    "* They are then maximally entangled by a 50-50 beamsplitter. This is a beamsplitter with parameters $\\theta=\\pi/4$, $\\phi=0$.\n",
    "\n",
    "\n",
    "\n",
    "* These two qumodes are now spatially separated, with $\\ket{q_1}$ held by Alice, and $\\ket{q_2}$ held by Bob, with the two connected via the classical communication channels $c_0$ and $c_1$.\n",
    "\n",
    "\n",
    "* To teleport her unknown state $\\ket{\\psi}$ to Bob, Alice now performs a projective measurement of her entire system onto the maximally entangled basis states. This is done by entangling $\\ket{\\psi}$ and $\\ket{q_1}$ via another 50-50 beamsplitter, before performing two homodyne measurements, in the $x$ and $p$ quadratures respectively. The two resulting measurements are referred to as $m_1$ and $m_2$.\n",
    "\n",
    "\n",
    "* The results of these measurements are then transmitted to Bob, who performs both a position displacement (conditional on the $x$ measurement) using a $X$ gate, and a momentum displacement (conditional on the $p$ measurement) using a $Z$ gate, to recover exactly the transmitted state $\\ket{\\psi}$. In particular, Bob has to make the following displacements:\n",
    "\n",
    "\\begin{align}\n",
    "Z\\left(-\\sqrt{2}m_2\\right)X\\left(\\sqrt{2}m_1\\right)\\ket{q_2}\n",
    "\\end{align}"
   ]
  },
  {
   "cell_type": "markdown",
   "metadata": {},
   "source": [
    "## Importing Strawberry Fields"
   ]
  },
  {
   "cell_type": "markdown",
   "metadata": {},
   "source": [
    "We import the Strawberry Fields, as well as all quantum operations, using the following commands:"
   ]
  },
  {
   "cell_type": "code",
   "execution_count": 1,
   "metadata": {},
   "outputs": [],
   "source": [
    "import strawberryfields as sf\n",
    "from strawberryfields.ops import *"
   ]
  },
  {
   "cell_type": "markdown",
   "metadata": {},
   "source": [
    "The first import statement imports Strawberry Fields as sf, allowing us to access the engine and backends. The second import statement imports all available CV gates into the global namespace.\n",
    "\n",
    "In addition, we will also need some utilities from the `utils` subpackage, a module containing Strawberry Fields utilities and extensions. Finally, we import $\\pi$ and the square root from NumPy so that we can pass angle parameters to gates such as beamsplitters, and perform some custom classical processing."
   ]
  },
  {
   "cell_type": "code",
   "execution_count": 2,
   "metadata": {},
   "outputs": [],
   "source": [
    "from strawberryfields.utils import scale\n",
    "from numpy import pi, sqrt"
   ]
  },
  {
   "cell_type": "markdown",
   "metadata": {},
   "source": [
    "\n",
    "<div class=\"alert alert-success\" style=\"border: 0px; border-left: 3px solid #119a68; color: black; background-color: #daf0e9\">\n",
    "<p style=\"color: #119a68;\">**Available CV gates**</p>\n",
    "\n",
    "Check out our <a href=\"https://strawberryfields.readthedocs.io/en/stable/op_conventions.html\">documentation</a> to see the available CV gates, states, measurements, and other operations available in Strawberry Fields.\n",
    "</div>\n"
   ]
  },
  {
   "cell_type": "markdown",
   "metadata": {},
   "source": [
    "## Program initialization\n",
    "\n",
    "In Strawberry Fields, a quantum computation (or quantum circuit) are encapsulatd in a `Program` object, which has the following syntax:\n",
    "\n",
    "    prog = sf.Program(num_subsystems)\n",
    "\n",
    "where\n",
    "\n",
    "* `num_subsystems` (*int*) is the number of modes we want to initialize in our quantum register.\n",
    "\n",
    "This command will create an empty program, ready to be populated with various operations that make up a quantum computation."
   ]
  },
  {
   "cell_type": "code",
   "execution_count": 3,
   "metadata": {},
   "outputs": [],
   "source": [
    "prog = sf.Program(3)"
   ]
  },
  {
   "cell_type": "markdown",
   "metadata": {},
   "source": [
    "## Circuit construction\n",
    "\n",
    "In Strawberry Fields, circuit construction *always* occurs within a `Program` context. Inside this context, operations are applied using the syntax\n",
    "\n",
    "```python3\n",
    "with prog.context as q:\n",
    "    Operation(arguments) | (sequence of qumodes within q)\n",
    "```\n",
    "\n",
    "For example, to apply prepare a squeezed state, followed by a beamsplitter, we can write\n",
    "\n",
    "```python3\n",
    "with prog.context as q:\n",
    "    Squeezed(0.5) | q[0]\n",
    "    BSgate(pi/4, 0) | (q[0], q[1])\n",
    "```\n",
    "\n",
    "Some operations in Strawberry Fields apply to one mode, and some apply to two. Be sure to consult the documentation to double check the operation arguments, and to see how many qumodes they act on.\n",
    "\n",
    "<div class=\"alert alert-info\" style=\"border: 0px; border-left: 3px solid #31708f; color: black; background-color: #d9edf7\">\n",
    "<p style=\"color: #31708f;\">**Exercise**</p>\n",
    "\n",
    "The cell below corresponding to the teleportation circuit is partially complete. Using the above, and referring to the docs, fill in the cell below to finish constructing the teleportation circuit.\n",
    "</div>\n",
    "\n"
   ]
  },
  {
   "cell_type": "code",
   "execution_count": 4,
   "metadata": {},
   "outputs": [],
   "source": [
    "with prog.context as q:\n",
    "    # prepare the initial states\n",
    "    Coherent(1+0.5j) | q[0]  # This is the state we will teleport\n",
    "    Sgate(-2) | q[1]\n",
    "    Sgate(2) | q[2]\n",
    "    \n",
    "    # apply the gates\n",
    "    BSgate(pi/4, 0) | (q[1], q[2])  # a 50-50 beamsplitter\n",
    "    BSgate(pi/4, 0) | (q[0], q[1])  # a 50-50 beamsplitter\n",
    "    \n",
    "    # perform the homodyne measurements\n",
    "    MeasureX | q[0]\n",
    "    MeasureP | q[1]    \n",
    "    \n",
    "    # displacement gates conditioned on the measurements\n",
    "    Xgate(scale(q[0], sqrt(2))) | q[2]\n",
    "    Zgate(scale(q[1], sqrt(2))) | q[2]"
   ]
  },
  {
   "cell_type": "markdown",
   "metadata": {},
   "source": [
    "A couple of things to note:\n",
    "\n",
    "* **Operations must be applied in temporal order.** Different operation orderings can result in the same quantum circuit, providing the operations do not apply sequentially to the same mode.\n",
    "\n",
    "\n",
    "* **Gates are standard Python objects, and can be treated as such.** In this case, since both beamsplitters use the same parameters, a single instance can be created and stored under variable BS.\n",
    "\n",
    "\n",
    "* **The results of measured modes are passed to gates simply by passing the measured mode as an argument.** In order to perform additional classical processing to the measured mode, we can use the basic classical processing functions available in `strawberryfields.utils`; here we used the `scale()` function.\n"
   ]
  },
  {
   "cell_type": "markdown",
   "metadata": {},
   "source": [
    "## Running the engine\n",
    "\n",
    "Once the circuit is constructed, you can execute the program using an `Engine` object. The Engine is responsible for sending the commands from your circuit to be executed on a particular backend. Engines are linked to a particular backend when they are created:\n",
    "\n",
    "```python3\n",
    "    eng = sf.Engine(backend, backend_options)\n",
    "```\n",
    "Here `backend` is a string representing the Strawberry Fields backend we wish to use; we have the choice of two Fock basis backends, the NumPy based (`'fock'`) and Tensorflow (`'tf'`), and one Gaussian representation backend (`'gaussian'`). Additionally, `backend_options` is a dictionary which contains any additional keyword arguments to be passed to the backend. For example, to create an engine linked to the Fock Backend, with a cutoff dimension of 10, we we write\n",
    "\n",
    "```python3\n",
    "    eng = sf.Engine('fock', backend_options={\"cutoff_dim\": 10})\n",
    "```\n",
    "\n",
    "To execute a program on the backend, we simply call `eng.run`:\n",
    "\n",
    "```python3\n",
    "    results = eng.run(prog, run_options)\n",
    "```\n",
    "Here, `prog` is a Strawberry Fields `Program` object (like the one we created above), and `run_options` is a dictionary of keyword arguments which can be used to specify additional options for the returned object. \n",
    "\n",
    "`eng.run()` returns a `Results` object which contains both measurement results and -- for local simulators -- a `State` object which contains the simulated quantum state of the circuit after execution of the program. Depending on backend used, the state returned might be a BaseFockState, which represents the state using the Fock/number basis, or might be a BaseGaussianState, which represents the state using Gaussian representation, as a vector of means and a covariance matrix. Many methods are provided for state manipulation, see [Quantum States API](https://strawberryfields.readthedocs.io/en/stable/code/backend.states.html) for more details.\n",
    "\n",
    "For more details on the technical differences between the backends, see the [Backend API](https://strawberryfields.readthedocs.io/en/stable/code/backend.html) in the documentation.\n",
    "\n",
    "### How do we choose a backend?\n",
    "\n",
    "\n",
    "* **Fock backends** are backends which represent the quantum state and operations via the Fock basis. <br>These can represent all possible continuous-variable states and operations, but also introduce numerical error due to truncation of the Fock space, and can consume more memory.\n",
    "\n",
    "\n",
    "* The **gaussian backend**, due to its ability to represent states and operations as gaussian objects/transforms in the phase space, can be less computationally intensive then the Fock backends. <br>However, it cannot represent non-gaussian operations and states (such as the cubic phase gate, and fock states, amongst others). The only exception to this is fock measurements: the gaussian backend can simulate measurement of Fock states, but it cannot update the state after doing so.</li>\n",
    "\n",
    "In the Fock backends, due to the infinite Hilbert space, we must specify a **cutoff dimension**. For example, choosing `cutoff_dim=5`, a state $|\\psi\\rangle$ has approximation\n",
    "\n",
    "$$|{\\psi}\\rangle = \\sum_{n=0}^\\infty c_n|{n}\\rangle \\approx\\sum_{n=0}^{5-1} c_n|{n}\\rangle$$\n",
    "\n",
    "in our truncated Fock basis - i.e. all information of quantum amplitudes of Fock states $|n\\rangle$, with $n\\geq 5$, is discarded.\n",
    "\n",
    "<div class=\"alert\" style=\"border: 0px; border-left: 3px solid #F0AD4E; color: black; background-color: #FFF1E3\">\n",
    "<p style=\"color: #9B5831;\">**Warning**</p>\n",
    "To avoid significant numerical error when working with the Fock backend, we generally need to ensure that all initial states and gates we apply result in negligible amplitude in the Fock basis for Fock states $|{n}\\rangle, ~~n\\geq \\texttt{cutoff_dim}$.\n",
    "<br><br>\n",
    "\n",
    "For example, to prepare a squeezed vacuum state in the $x$ quadrature with `cutoff_dim=10`, a squeezing factor of $r=1$ provides an acceptable approximation, since $\\left|\\left\\langle{n}\\middle|{\\xi}\\right\\rangle\\right|^2<0.02$ for $n\\geq 10$.\n",
    "</div>\n",
    "\n",
    "<div class=\"alert alert-success\" style=\"border: 0px; border-left: 3px solid #119a68; color: black; background-color: #daf0e9\">\n",
    "<p style=\"color: #119a68;\">**Scaling**</p>\n",
    "As we are performing a classical simualation of a quantum system, we still need to consider how the simulation scales. Using the Fock backends, memory usage and computational time will scale like $\\sim D^N$, where $N$ is the number of modes and $D$ the cutoff dimension.\n",
    "<br><br>\n",
    "Ideally, we would like to choose a cutoff large enough that minimises truncation error, but small enough to reduce classical computational resources!\n",
    "</div>\n",
    "\n",
    "\n",
    "<div class=\"alert alert-info\" style=\"border: 0px; border-left: 3px solid #31708f; color: black; background-color: #d9edf7\">\n",
    "<p style=\"color: #31708f;\">**Exercise**</p>\n",
    "\n",
    "Run the engine using the Gaussian or the Fock backend.\n",
    "\n",
    "</div>"
   ]
  },
  {
   "cell_type": "code",
   "execution_count": 5,
   "metadata": {},
   "outputs": [],
   "source": [
    "eng = sf.Engine('fock', backend_options={\"cutoff_dim\": 15})\n",
    "results = eng.run(prog)\n",
    "state = results.state"
   ]
  },
  {
   "cell_type": "markdown",
   "metadata": {},
   "source": [
    "## Results and visualization\n",
    "Once the engine has been run, we can extract results of measurements and the quantum state from the circuit. Any measurements performed on a mode are stored in the `samples` attribute of the `Results` object returned by the engine:"
   ]
  },
  {
   "cell_type": "code",
   "execution_count": 6,
   "metadata": {},
   "outputs": [
    {
     "data": {
      "text/plain": [
       "1.5429154291542915"
      ]
     },
     "execution_count": 6,
     "metadata": {},
     "output_type": "execute_result"
    }
   ],
   "source": [
    "results.samples[0]"
   ]
  },
  {
   "cell_type": "code",
   "execution_count": 7,
   "metadata": {},
   "outputs": [
    {
     "data": {
      "text/plain": [
       "-2.5587255872558723"
      ]
     },
     "execution_count": 7,
     "metadata": {},
     "output_type": "execute_result"
    }
   ],
   "source": [
    "results.samples[1]"
   ]
  },
  {
   "cell_type": "markdown",
   "metadata": {},
   "source": [
    "The returned `results` object stores the resulting state of the circuit after the engine run within `results.state`. The state object also contains some convenient functions for state manipulation.\n",
    "\n",
    "<div class=\"alert alert-info\" style=\"border: 0px; border-left: 3px solid #31708f; color: black; background-color: #d9edf7\">\n",
    "<p style=\"color: #31708f;\">**Exercise**</p>\n",
    "\n",
    "Print the state object below to see some info about the state.\n",
    "\n",
    "</div>"
   ]
  },
  {
   "cell_type": "code",
   "execution_count": 8,
   "metadata": {},
   "outputs": [
    {
     "name": "stdout",
     "output_type": "stream",
     "text": [
      "<FockState: num_modes=3, cutoff=15, pure=False, hbar=2>\n"
     ]
    }
   ],
   "source": [
    "print(state)"
   ]
  },
  {
   "cell_type": "markdown",
   "metadata": {},
   "source": [
    "The actual state representation can also be returned; in the Fock backends, the state vector in the truncated Fock basis is available via `state.ket()`, while the density matrix is given by `state.dm()`. In the Gaussian backend, the vector of means and covariance matrix are accessible via `state.means()` and `state.cov()` respectively."
   ]
  },
  {
   "cell_type": "markdown",
   "metadata": {},
   "source": [
    "### Fock backend example\n",
    "To return the density matrix representing the Fock state, we can use the method state.dm(). In this case, the density matrix has dimension"
   ]
  },
  {
   "cell_type": "code",
   "execution_count": 9,
   "metadata": {},
   "outputs": [
    {
     "data": {
      "text/plain": [
       "(15, 15, 15, 15, 15, 15)"
      ]
     },
     "execution_count": 9,
     "metadata": {},
     "output_type": "execute_result"
    }
   ],
   "source": [
    "state.dm().shape"
   ]
  },
  {
   "cell_type": "markdown",
   "metadata": {},
   "source": [
    "Here, we use the convention that every pair of consecutive dimensions corresponds to a subsystem; i.e.,\n",
    "\n",
    "$$\\rho_{\\underbrace{ij}_{q[0]}\\underbrace{kl}_{q[1]}\\underbrace{mn}_{q[2]}}$$\n",
    "\n",
    "Thus we can calculate the reduced density matrix for mode `q[2]`, $\\rho_2$:"
   ]
  },
  {
   "cell_type": "code",
   "execution_count": 10,
   "metadata": {},
   "outputs": [
    {
     "data": {
      "text/plain": [
       "(15, 15)"
      ]
     },
     "execution_count": 10,
     "metadata": {},
     "output_type": "execute_result"
    }
   ],
   "source": [
    "import numpy as np\n",
    "rho2 = np.einsum('kkllij->ij', state.dm())\n",
    "rho2.shape"
   ]
  },
  {
   "cell_type": "markdown",
   "metadata": {},
   "source": [
    "<div class=\"alert alert-success\" style=\"border: 0px; border-left: 3px solid #119a68; color: black; background-color: #daf0e9\">\n",
    "<p style=\"color: #119a68;\">**Note**</p>\n",
    "The Fock state also provides the method `reduced_dm()` for extracting the reduced density matrix automatically.\n",
    "</div>"
   ]
  },
  {
   "cell_type": "code",
   "execution_count": 11,
   "metadata": {},
   "outputs": [
    {
     "data": {
      "text/plain": [
       "array([[ 3.97509440e-01+7.80625564e-18j,  3.09261536e-01-1.69764298e-01j,\n",
       "         1.76226624e-01-9.89415763e-02j,  1.57684377e-01-1.06593446e-01j,\n",
       "         6.92509105e-02-9.71046698e-02j,  3.50702779e-02-8.35268673e-02j,\n",
       "         4.22298889e-03-4.31654588e-02j, -1.00429332e-03-4.83879790e-02j,\n",
       "        -8.19486437e-03-1.85604701e-02j, -7.96094113e-03-2.63628309e-02j,\n",
       "        -6.59716117e-03-1.06155097e-02j, -8.68276607e-03-1.55811703e-02j,\n",
       "        -1.97168200e-03-1.28390201e-02j, -6.66967170e-04-5.97618111e-03j,\n",
       "        -8.21885332e-03-1.04782503e-02j],\n",
       "       [ 3.09261536e-01+1.69764298e-01j,  3.13106060e-01+1.73472348e-17j,\n",
       "         1.79358919e-01-1.71526686e-03j,  1.68200972e-01-1.55872409e-02j,\n",
       "         9.53475446e-02-4.59722594e-02j,  6.29564118e-02-5.00062744e-02j,\n",
       "         2.17201429e-02-3.17791279e-02j,  1.98837089e-02-3.80746526e-02j,\n",
       "         1.55102944e-03-1.79397875e-02j,  5.06517430e-03-2.39101068e-02j,\n",
       "        -5.99013817e-04-1.10762936e-02j, -1.00926210e-04-1.58302665e-02j,\n",
       "         3.94919382e-03-1.08307774e-02j,  2.03334769e-03-4.93429832e-03j,\n",
       "        -1.91930635e-03-1.16620819e-02j],\n",
       "       [ 1.76226624e-01+9.89415763e-02j,  1.79358919e-01+1.71526686e-03j,\n",
       "         1.02752927e-01+1.73472348e-18j,  9.64372292e-02-8.00751389e-03j,\n",
       "         5.48705038e-02-2.58123023e-02j,  3.63377448e-02-2.83005838e-02j,\n",
       "         1.26162076e-02-1.80852910e-02j,  1.15987175e-02-2.17016646e-02j,\n",
       "         9.86766231e-04-1.02680877e-02j,  3.03250727e-03-1.36688596e-02j,\n",
       "        -2.82459150e-04-6.34819881e-03j,  2.89075066e-05-9.06872452e-03j,\n",
       "         2.32158014e-03-6.18264180e-03j,  1.19180920e-03-2.81541239e-03j,\n",
       "        -1.03556325e-03-6.69099325e-03j],\n",
       "       [ 1.57684377e-01+1.06593446e-01j,  1.68200972e-01+1.55872409e-02j,\n",
       "         9.64372292e-02+8.00751389e-03j,  9.11337491e-02+2.23345648e-17j,\n",
       "         5.35094414e-02-1.99497052e-02j,  3.63097077e-02-2.37292987e-02j,\n",
       "         1.32501366e-02-1.59905021e-02j,  1.25770097e-02-1.94638885e-02j,\n",
       "         1.72630465e-03-9.56006228e-03j,  3.91132588e-03-1.25923820e-02j,\n",
       "         2.29615964e-04-5.98001943e-03j,  7.33854497e-04-8.50906358e-03j,\n",
       "         2.66069643e-03-5.62170614e-03j,  1.33795927e-03-2.54948593e-03j,\n",
       "        -4.50484776e-04-6.36043329e-03j],\n",
       "       [ 6.92509105e-02+9.71046698e-02j,  9.53475446e-02+4.59722594e-02j,\n",
       "         5.48705038e-02+2.58123023e-02j,  5.35094414e-02+1.99497052e-02j,\n",
       "         3.57853275e-02-4.33680869e-19j,  2.65138296e-02-5.98432041e-03j,\n",
       "         1.12802691e-02-6.48833744e-03j,  1.16453851e-02-8.67509756e-03j,\n",
       "         3.10635768e-03-5.23531983e-03j,  5.05309148e-03-6.53744123e-03j,\n",
       "         1.44388054e-03-3.46092125e-03j,  2.29356804e-03-4.83547603e-03j,\n",
       "         2.79285953e-03-2.71835899e-03j,  1.34368384e-03-1.20405093e-03j,\n",
       "         1.12783224e-03-3.83316032e-03j],\n",
       "       [ 3.50702779e-02+8.35268673e-02j,  6.29564118e-02+5.00062744e-02j,\n",
       "         3.63377448e-02+2.83005838e-02j,  3.63097077e-02+2.37292987e-02j,\n",
       "         2.65138296e-02+5.98432041e-03j,  2.06452002e-02-1.51788304e-18j,\n",
       "         9.44273661e-03-2.92091580e-03j,  1.00789442e-02-4.48005800e-03j,\n",
       "         3.17703588e-03-3.35944775e-03j,  4.83714867e-03-3.99865794e-03j,\n",
       "         1.64855454e-03-2.32278529e-03j,  2.50796391e-03-3.19911956e-03j,\n",
       "         2.52385374e-03-1.54702344e-03j,  1.19690481e-03-6.67395499e-04j,\n",
       "         1.47663903e-03-2.65143445e-03j],\n",
       "       [ 4.22298889e-03+4.31654588e-02j,  2.17201429e-02+3.17791279e-02j,\n",
       "         1.26162076e-02+1.80852910e-02j,  1.32501366e-02+1.59905021e-02j,\n",
       "         1.12802691e-02+6.48833744e-03j,  9.44273661e-03+2.92091580e-03j,\n",
       "         4.73219068e-03+6.31547765e-18j,  5.24377029e-03-6.23111440e-04j,\n",
       "         1.92841807e-03-1.08705781e-03j,  2.77815974e-03-1.14454544e-03j,\n",
       "         1.08265003e-03-8.29159348e-04j,  1.59971331e-03-1.10838799e-03j,\n",
       "         1.37323984e-03-3.50501355e-04j,  6.41866529e-04-1.35914484e-04j,\n",
       "         1.05051683e-03-1.00380034e-03j],\n",
       "       [-1.00429332e-03+4.83879790e-02j,  1.98837089e-02+3.80746526e-02j,\n",
       "         1.15987175e-02+2.17016646e-02j,  1.25770097e-02+1.94638885e-02j,\n",
       "         1.16453851e-02+8.67509756e-03j,  1.00789442e-02+4.48005800e-03j,\n",
       "         5.24377029e-03+6.23111440e-04j,  5.89270311e-03-1.08420217e-17j,\n",
       "         2.28003060e-03-9.50651056e-04j,  3.22920438e-03-9.02463693e-04j,\n",
       "         1.30887091e-03-7.76238699e-04j,  1.91859944e-03-1.01756939e-03j,\n",
       "         1.56784800e-03-2.07571335e-04j,  7.29152890e-04-6.60898887e-05j,\n",
       "         1.29625977e-03-9.73990618e-04j],\n",
       "       [-8.19486437e-03+1.85604701e-02j,  1.55102944e-03+1.79397875e-02j,\n",
       "         9.86766231e-04+1.02680877e-02j,  1.72630465e-03+9.56006228e-03j,\n",
       "         3.10635768e-03+5.23531983e-03j,  3.17703588e-03+3.35944775e-03j,\n",
       "         1.92841807e-03+1.08705781e-03j,  2.28003060e-03+9.50651056e-04j,\n",
       "         1.03556497e-03+6.99310401e-18j,  1.39504956e-03+1.71772055e-04j,\n",
       "         6.31662209e-04-8.91897078e-05j,  9.06514163e-04-8.42008745e-05j,\n",
       "         6.40125464e-04+1.72621518e-04j,  2.92789113e-04+9.20601268e-05j,\n",
       "         6.58685339e-04-1.67739265e-04j],\n",
       "       [-7.96094113e-03+2.63628309e-02j,  5.06517430e-03+2.39101068e-02j,\n",
       "         3.03250727e-03+1.36688596e-02j,  3.91132588e-03+1.25923820e-02j,\n",
       "         5.05309148e-03+6.53744123e-03j,  4.83714867e-03+3.99865794e-03j,\n",
       "         2.77815974e-03+1.14454544e-03j,  3.22920438e-03+9.02463693e-04j,\n",
       "         1.39504956e-03-1.71772055e-04j,  1.90781742e-03+2.55871713e-17j,\n",
       "         8.36142402e-04-2.24926474e-04j,  1.20723359e-03-2.63796285e-04j,\n",
       "         8.90970938e-04+1.26365713e-04j,  4.09697788e-04+7.54520027e-05j,\n",
       "         8.59517068e-04-3.35226017e-04j],\n",
       "       [-6.59716117e-03+1.06155097e-02j, -5.99013817e-04+1.10762936e-02j,\n",
       "        -2.82459150e-04+6.34819881e-03j,  2.29615964e-04+5.98001943e-03j,\n",
       "         1.44388054e-03+3.46092125e-03j,  1.64855454e-03+2.32278529e-03j,\n",
       "         1.08265003e-03+8.29159348e-04j,  1.30887091e-03+7.76238699e-04j,\n",
       "         6.31662209e-04+8.91897078e-05j,  8.36142402e-04+2.24926474e-04j,\n",
       "         3.92975777e-04+1.77809156e-17j,  5.60197191e-04+2.67151010e-05j,\n",
       "         3.75589182e-04+1.60425562e-04j,  1.70663364e-04+8.13707306e-05j,\n",
       "         4.16224248e-04-4.55853597e-05j],\n",
       "       [-8.68276607e-03+1.55811703e-02j, -1.00926210e-04+1.58302665e-02j,\n",
       "         2.89075066e-05+9.06872452e-03j,  7.33854497e-04+8.50906358e-03j,\n",
       "         2.29356804e-03+4.83547603e-03j,  2.50796391e-03+3.19911956e-03j,\n",
       "         1.59971331e-03+1.10838799e-03j,  1.91859944e-03+1.01756939e-03j,\n",
       "         9.06514163e-04+8.42008745e-05j,  1.20723359e-03+2.63796285e-04j,\n",
       "         5.60197191e-04-2.67151010e-05j,  8.00391800e-04+0.00000000e+00j,\n",
       "         5.46318126e-04+2.03157678e-04j,  2.48816773e-04+1.04394133e-04j,\n",
       "         5.90239528e-04-9.32786839e-05j],\n",
       "       [-1.97168200e-03+1.28390201e-02j,  3.94919382e-03+1.08307774e-02j,\n",
       "         2.32158014e-03+6.18264180e-03j,  2.66069643e-03+5.62170614e-03j,\n",
       "         2.79285953e-03+2.71835899e-03j,  2.52385374e-03+1.54702344e-03j,\n",
       "         1.37323984e-03+3.50501355e-04j,  1.56784800e-03+2.07571335e-04j,\n",
       "         6.40125464e-04-1.72621518e-04j,  8.90970938e-04-1.26365713e-04j,\n",
       "         3.75589182e-04-1.60425562e-04j,  5.46318126e-04-2.03157678e-04j,\n",
       "         4.24462790e-04-6.93889390e-18j,  1.96330825e-04+8.10024505e-06j,\n",
       "         3.79199627e-04-2.13484855e-04j],\n",
       "       [-6.66967170e-04+5.97618111e-03j,  2.03334769e-03+4.93429832e-03j,\n",
       "         1.19180920e-03+2.81541239e-03j,  1.33795927e-03+2.54948593e-03j,\n",
       "         1.34368384e-03+1.20405093e-03j,  1.19690481e-03+6.67395499e-04j,\n",
       "         6.41866529e-04+1.35914484e-04j,  7.29152890e-04+6.60898887e-05j,\n",
       "         2.92789113e-04-9.20601268e-05j,  4.09697788e-04-7.54520027e-05j,\n",
       "         1.70663364e-04-8.13707306e-05j,  2.48816773e-04-1.04394133e-04j,\n",
       "         1.96330825e-04-8.10024505e-06j,  9.09653514e-05-1.31730564e-17j,\n",
       "         1.71320779e-04-1.05981652e-04j],\n",
       "       [-8.21885332e-03+1.04782503e-02j, -1.91930635e-03+1.16620819e-02j,\n",
       "        -1.03556325e-03+6.69099325e-03j, -4.50484776e-04+6.36043329e-03j,\n",
       "         1.12783224e-03+3.83316032e-03j,  1.47663903e-03+2.65143445e-03j,\n",
       "         1.05051683e-03+1.00380034e-03j,  1.29625977e-03+9.73990618e-04j,\n",
       "         6.58685339e-04+1.67739265e-04j,  8.59517068e-04+3.35226017e-04j,\n",
       "         4.16224248e-04+4.55853597e-05j,  5.90239528e-04+9.32786839e-05j,\n",
       "         3.79199627e-04+2.13484855e-04j,  1.71320779e-04+1.05981652e-04j,\n",
       "         4.46136021e-04-1.08420217e-17j]])"
      ]
     },
     "execution_count": 11,
     "metadata": {},
     "output_type": "execute_result"
    }
   ],
   "source": [
    "state.reduced_dm([2])"
   ]
  },
  {
   "cell_type": "markdown",
   "metadata": {},
   "source": [
    "The diagonal values of the reduced density matrix contain the marginal Fock state probabilities $\\left|\\left\\langle{i}\\mid{\\rho_2}\\right\\rangle\\right|^2,~~ 0\\leq i< cutoff$:"
   ]
  },
  {
   "cell_type": "code",
   "execution_count": 12,
   "metadata": {},
   "outputs": [
    {
     "data": {
      "text/plain": [
       "array([3.97509440e-01, 3.13106060e-01, 1.02752927e-01, 9.11337491e-02,\n",
       "       3.57853275e-02, 2.06452002e-02, 4.73219068e-03, 5.89270311e-03,\n",
       "       1.03556497e-03, 1.90781742e-03, 3.92975777e-04, 8.00391800e-04,\n",
       "       4.24462790e-04, 9.09653514e-05, 4.46136021e-04])"
      ]
     },
     "execution_count": 12,
     "metadata": {},
     "output_type": "execute_result"
    }
   ],
   "source": [
    "np.real_if_close(np.diag(state.reduced_dm([2])))"
   ]
  },
  {
   "cell_type": "markdown",
   "metadata": {},
   "source": [
    "This can also be returned via the state method `all_fock_probs`."
   ]
  },
  {
   "cell_type": "markdown",
   "metadata": {},
   "source": [
    "### Plotting the Wigner function"
   ]
  },
  {
   "cell_type": "markdown",
   "metadata": {},
   "source": [
    "<div class=\"alert alert-info\" style=\"border: 0px; border-left: 3px solid #31708f; color: black; background-color: #d9edf7\">\n",
    "<p style=\"color: #31708f;\">**Exercise**</p>\n",
    "\n",
    "Using the `state.wigner` function, plot the wigner function of the input state and the resulting teleported state.\n",
    "\n",
    "</div>"
   ]
  },
  {
   "cell_type": "code",
   "execution_count": 13,
   "metadata": {},
   "outputs": [],
   "source": [
    "import matplotlib.pyplot as plt"
   ]
  },
  {
   "cell_type": "code",
   "execution_count": 14,
   "metadata": {},
   "outputs": [],
   "source": [
    "x = np.arange(-5, 5, 0.1)\n",
    "p = np.arange(-5, 5, 0.1)"
   ]
  },
  {
   "cell_type": "code",
   "execution_count": 15,
   "metadata": {},
   "outputs": [],
   "source": [
    "W = state.wigner(2, x, p)"
   ]
  },
  {
   "cell_type": "code",
   "execution_count": 16,
   "metadata": {},
   "outputs": [
    {
     "data": {
      "text/plain": [
       "(100, 100)"
      ]
     },
     "execution_count": 16,
     "metadata": {},
     "output_type": "execute_result"
    }
   ],
   "source": [
    "W.shape"
   ]
  },
  {
   "cell_type": "code",
   "execution_count": 17,
   "metadata": {},
   "outputs": [
    {
     "data": {
      "text/plain": [
       "<matplotlib.contour.QuadContourSet at 0x7f392ce0ed68>"
      ]
     },
     "execution_count": 17,
     "metadata": {},
     "output_type": "execute_result"
    },
    {
     "data": {
      "image/png": "[encoded data removed]",
      "text/plain": [
       "<Figure size 432x288 with 1 Axes>"
      ]
     },
     "metadata": {
      "needs_background": "light"
     },
     "output_type": "display_data"
    }
   ],
   "source": [
    "X, P = np.meshgrid(x, p)\n",
    "plt.contourf(X, P, W)"
   ]
  },
  {
   "cell_type": "markdown",
   "metadata": {},
   "source": [
    "<div class=\"alert alert-info\" style=\"border: 0px; border-left: 3px solid #31708f; color: black; background-color: #d9edf7\">\n",
    "<p style=\"color: #31708f;\">**Exercise**</p>\n",
    "\n",
    "Repeat this notebook, but using the `'gaussian'` backend instead. How does the teleportation fidelity compare to the fock backend?\n",
    "\n",
    "</div>"
   ]
  },
  {
   "cell_type": "code",
   "execution_count": null,
   "metadata": {},
   "outputs": [],
   "source": []
  }
 ],
 "metadata": {
  "kernelspec": {
   "display_name": "Python (tensorflow1.3)",
   "language": "python",
   "name": "tensorflow1.3"
  },
  "language_info": {
   "codemirror_mode": {
    "name": "ipython",
    "version": 3
   },
   "file_extension": ".py",
   "mimetype": "text/x-python",
   "name": "python",
   "nbconvert_exporter": "python",
   "pygments_lexer": "ipython3",
   "version": "3.6.8"
  },
  "toc": {
   "nav_menu": {},
   "number_sections": true,
   "sideBar": true,
   "skip_h1_title": false,
   "toc_cell": false,
   "toc_position": {},
   "toc_section_display": "block",
   "toc_window_display": false
  }
 },
 "nbformat": 4,
 "nbformat_minor": 2
}
