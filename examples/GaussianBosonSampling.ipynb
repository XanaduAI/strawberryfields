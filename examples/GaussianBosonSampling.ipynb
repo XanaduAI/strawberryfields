{
 "cells": [
  {
   "cell_type": "markdown",
   "metadata": {},
   "source": [
    "<table width=60%>\n",
    "    <tr style=\"background-color: white;\">\n",
    "        <td><img src='https://www.creativedestructionlab.com/wp-content/uploads/2018/05/xanadu.jpg'></td>></td>\n",
    "    </tr>\n",
    "</table>\n",
    "\n",
    "---\n",
    "\n",
    "<img src='https://raw.githubusercontent.com/XanaduAI/strawberryfields/master/doc/_static/strawberry-fields-text.png'>\n",
    "\n",
    "---\n",
    "\n",
    "<br>\n",
    "\n",
    "<center> <h1> Gaussian boson sampling tutorial </h1></center>\n",
    "\n",
    "To get a feel for how Strawberry Fields works, let's try coding a quantum program, Gaussian boson sampling."
   ]
  },
  {
   "cell_type": "markdown",
   "metadata": {},
   "source": [
    "## Background information: Gaussian states\n",
    "\n",
    "A Gaussian state is one that can be described by a [Gaussian function](https://en.wikipedia.org/wiki/Gaussian_function) in the phase space. For example, for a single mode Gaussian state, squeezed in the $x$ quadrature by squeezing operator $S(r)$, could be described by the following [Wigner quasiprobability distribution](Wigner quasiprobability distribution):\n",
    "\n",
    "$$W(x,p) = \\frac{2}{\\pi}e^{-2\\sigma^2(x-\\bar{x})^2 - 2(p-\\bar{p})^2/\\sigma^2}$$\n",
    "\n",
    "where $\\sigma$ represents the **squeezing**, and $\\bar{x}$ and $\\bar{p}$ are the mean **displacement**, respectively. For multimode states containing $N$ modes, this can be generalised; Gaussian states are uniquely defined by a [multivariate Gaussian function](https://en.wikipedia.org/wiki/Multivariate_normal_distribution), defined in terms of the **vector of means** ${\\mu}$ and a **covariance matrix** $\\sigma$.\n",
    "\n",
    "### The position and momentum basis\n",
    "\n",
    "For example, consider a single mode in the position and momentum quadrature basis (the default for Strawberry Fields). Assuming a Gaussian state with displacement $\\alpha = \\bar{x}+i\\bar{p}$ and squeezing $\\xi = r e^{i\\phi}$ in the phase space, it has a vector of means and a covariance matrix given by:\n",
    "\n",
    "$$ \\mu = (\\bar{x},\\bar{p}),~~~~~~\\sigma = SS\\dagger=R(\\phi/2)\\begin{bmatrix}e^{-2r} & 0 \\\\0 & e^{2r} \\\\\\end{bmatrix}R(\\phi/2)^T$$\n",
    "\n",
    "where $S$ is the squeezing operator, and $R(\\phi)$ is the standard two-dimensional rotation matrix. For multiple modes, in Strawberry Fields we use the convention \n",
    "\n",
    "$$ \\mu = (\\bar{x}_1,\\bar{x}_2,\\dots,\\bar{x}_N,\\bar{p}_1,\\bar{p}_2,\\dots,\\bar{p}_N)$$\n",
    "\n",
    "and therefore, considering $\\phi=0$ for convenience, the multimode covariance matrix is simply\n",
    "\n",
    "$$\\sigma = \\text{diag}(e^{-2r_1},\\dots,e^{-2r_N},e^{2r_1},\\dots,e^{2r_N})\\in\\mathbb{C}^{2N\\times 2N}$$\n",
    "\n",
    "If a continuous-variable state *cannot* be represented in the above form (for example, a single photon Fock state or a cat state), then it is non-Gaussian.\n",
    "\n",
    "### The annihilation and creation operator basis\n",
    "\n",
    "If we are instead working in the creation and annihilation operator basis, we can use the transformation of the single mode squeezing operator\n",
    "\n",
    "$$ S(\\xi) \\left[\\begin{matrix}\\hat{a}\\\\\\hat{a}^\\dagger\\end{matrix}\\right] = \\left[\\begin{matrix}\\cosh(r)&-e^{i\\phi}\\sinh(r)\\\\-e^{-i\\phi}\\sinh(r)&\\cosh(r)\\end{matrix}\\right] \\left[\\begin{matrix}\\hat{a}\\\\\\hat{a}^\\dagger\\end{matrix}\\right]$$\n",
    "\n",
    "resulting in\n",
    "\n",
    "$$\\sigma = SS^\\dagger = \\left[\\begin{matrix}\\cosh(2r)&-e^{i\\phi}\\sinh(2r)\\\\-e^{-i\\phi}\\sinh(2r)&\\cosh(2r)\\end{matrix}\\right]$$\n",
    "\n",
    "For multiple Gaussian states with non-zero squeezing, the covariance matrix in this basis simply generalises to\n",
    "\n",
    "$$\\sigma = \\text{diag}(S_1S_1^\\dagger,\\dots,S_NS_N^\\dagger)\\in\\mathbb{C}^{2N\\times 2N}$$"
   ]
  },
  {
   "cell_type": "markdown",
   "metadata": {},
   "source": [
    "## Introduction to Gaussian boson sampling\n",
    "\n",
    "<div class=\"alert alert-info\">\n",
    "“If you need to wait exponential time for your single photon sources to emit simultaneously, then there would seem to be no advantage over classical computation. This is the reason why so far, boson sampling has only been demonstrated with 3-4 photons. When faced with these problems, until recently, all we could do was shrug our shoulders.” - [Scott Aaronson](https://www.scottaaronson.com/blog/?p=1579)\n",
    "</div>\n",
    "\n",
    "While [boson sampling](https://en.wikipedia.org/wiki/Boson_sampling) allows the experimental implementation of a quantum sampling problem that it countably hard classically, one of the main issues it has in experimental setups is one of **scalability**, due to its dependence on an array of simultaneously emitting single photon sources.\n",
    "\n",
    "Currently, most physical implementations of boson sampling make use of a process known as [Spontaneous Parametric Down-Conversion](http://en.wikipedia.org/wiki/Spontaneous_parametric_down-conversion) to generate the single photon source inputs. Unfortunately, this method is non-deterministic - as the number of modes in the apparatus increases, the average time required until every photon source emits a simultaneous photon increases *exponentially*.\n",
    "\n",
    "In order to simulate a *deterministic* single photon source array, several variations on boson sampling have been proposed; the most well known being scattershot boson sampling ([Lund, 2014](https://link.aps.org/doi/10.1103/PhysRevLett.113.100502)). However, a recent boson sampling variation by [Hamilton et al.](https://link.aps.org/doi/10.1103/PhysRevLett.119.170501) negates the need for single photon Fock states altogether, by showing that **incident Gaussian states** - in this case, single mode squeezed states - can produce problems in the same computational complexity class as boson sampling. Even more significantly, this negates the scalability problem with single photon sources, as single mode squeezed states can be easily simultaneously generated experimentally.\n",
    "\n",
    "Aside from changing the input states from single photon Fock states to Gaussian states, the Gaussian boson sampling scheme appears quite similar to that of boson sampling:\n",
    "\n",
    "1. $N$ single mode squeezed states $\\left|{\\xi_i}\\right\\rangle$, with squeezing parameters $\\xi_i=r_ie^{i\\phi_i}$, enter an $N$ mode linear interferometer with unitary $U$.\n",
    "   <br>\n",
    "  \n",
    "2. The output of the interferometer is denoted $\\left|{\\psi'}\\right\\rangle$. Each output mode is then measured in the Fock basis, $\\bigotimes_i n_i\\left|{n_i}\\middle\\rangle\\middle\\langle{n_i}\\right|$.\n",
    "\n",
    "Without loss of generality, we can absorb the squeezing parameter $\\phi$ into the interferometer, and set $\\phi=0$ for convenience. The covariance matrix **in the creation and annihilation operator basis** at the output of the interferometer is then given by:\n",
    "\n",
    "$$\\sigma_{out} = \\frac{1}{2} \\left[ \\begin{matrix}U&0\\\\0&U^*\\end{matrix} \\right]\\sigma_{in} \\left[ \\begin{matrix}U^\\dagger&0\\\\0&U^T\\end{matrix} \\right]$$\n",
    "\n",
    "Using phase space methods, [Hamilton et al.](https://link.aps.org/doi/10.1103/PhysRevLett.119.170501) showed that the probability of measuring a Fock state is given by\n",
    "\n",
    "$$\\left|\\left\\langle{n_1,n_2,\\dots,n_N}\\middle|{\\psi'}\\right\\rangle\\right|^2 = \\frac{\\left|\\text{Haf}[(U\\bigoplus_i\\tanh(r_i)U^T)]_{st}\\right|^2}{n_1!n_2!\\cdots n_N!\\sqrt{|\\sigma_{out}+I/2|}},$$\n",
    "\n",
    "i.e. the sampled single photon probability distribution is proportional to the **Hafnian** of a submatrix of $U\\bigoplus_i\\tanh(r_i)U^T$, dependent upon the output covariance matrix.\n",
    "\n",
    "<div class=\"alert alert-success\" style=\"border: 0px; border-left: 3px solid #119a68; color: black; background-color: #daf0e9\">\n",
    "\n",
    "<p style=\"color: #119a68;\">**The Hafnian**</p>\n",
    "\n",
    "The Hafnian of a matrix is defined by\n",
    "<br><br>\n",
    "$$\\text{Haf}(A) = \\frac{1}{n!2^n}\\sum_{\\sigma=S_{2N}}\\prod_{i=1}^N A_{\\sigma(2i-1)\\sigma(2i)}$$\n",
    "<br>\n",
    "\n",
    "$S_{2N}$ is the set of all permutations of $2N$ elements. In graph theory, the Hafnian calculates the number of perfect <a href=\"https://en.wikipedia.org/wiki/Matching_(graph_theory)\">matchings</a> in an **arbitrary graph** with adjacency matrix $A$.\n",
    "<br>\n",
    "\n",
    "Compare this to the permanent, which calculates the number of perfect matchings on a *bipartite* graph - the Hafnian turns out to be a generalisation of the permanent, with the relationship\n",
    "\n",
    "$$\\begin{align}\n",
    "\\text{Per(A)} = \\text{Haf}\\left(\\left[\\begin{matrix}\n",
    "0&A\\\\\n",
    "A^T&0\n",
    "\\end{matrix}\\right]\\right)\n",
    "\\end{align}$$\n",
    "\n",
    "As any algorithm that could calculate (or even approximate) the Hafnian could also calculate the permanent - a #P problem - it follows that calculating or approximating the Hafnian must also be a classically hard problem.\n",
    "</div>\n",
    "\n",
    "### Equally squeezed input states\n",
    "\n",
    "In the case where all the input states are squeezed equally with squeezing factor $\\xi=r$ (i.e. so $\\phi=0$), we can simplify the denominator into a much nicer form. It can be easily seen that, due to the unitarity of $U$,\n",
    "\n",
    "$$\\left[ \\begin{matrix}U&0\\\\0&U^*\\end{matrix} \\right] \\left[ \\begin{matrix}U^\\dagger&0\\\\0&U^T\\end{matrix} \\right] = \\left[ \\begin{matrix}UU^\\dagger&0\\\\0&U^*U^T\\end{matrix} \\right] =I$$\n",
    "\n",
    "Thus, we have \n",
    "\n",
    "$$\\begin{align}\n",
    "\\sigma_{out} +\\frac{1}{2}I &= \\sigma_{out} + \\frac{1}{2} \\left[ \\begin{matrix}U&0\\\\0&U^*\\end{matrix} \\right] \\left[ \\begin{matrix}U^\\dagger&0\\\\0&U^T\\end{matrix} \\right] = \\left[ \\begin{matrix}U&0\\\\0&U^*\\end{matrix} \\right] \\frac{1}{2} \\left(\\sigma_{in}+I\\right) \\left[ \\begin{matrix}U^\\dagger&0\\\\0&U^T\\end{matrix} \\right]\n",
    "\\end{align}$$\n",
    "\n",
    "where we have subtituted in the expression for $\\sigma_{out}$. Taking the determinants of both sides, the two block diagonal matrices containing $U$ are unitary, and thus have determinant 1, resulting in\n",
    "\n",
    "$$\\left|\\sigma_{out} +\\frac{1}{2}I\\right| =\\left|\\frac{1}{2}\\left(\\sigma_{in}+I\\right)\\right|=\\left|\\frac{1}{2}\\left(SS^\\dagger+I\\right)\\right| $$\n",
    "\n",
    "By expanding out the right hand side, and using various trig identities, it is easy to see that this simply reduces to $\\cosh^{2N}(r)$ where $N$ is the number of modes; thus the Gaussian boson sampling problem in the case of equally squeezed input modes reduces to\n",
    "\n",
    "$$\\left|\\left\\langle{n_1,n_2,\\dots,n_N}\\middle|{\\psi'}\\right\\rangle\\right|^2 = \\frac{\\left|\\text{Haf}[(UU^T\\tanh(r))]_{st}\\right|^2}{n_1!n_2!\\cdots n_N!\\cosh^N(r)},$$"
   ]
  },
  {
   "cell_type": "markdown",
   "metadata": {},
   "source": [
    "## The Gaussian boson sampling circuit\n",
    "The multimode linear interferometer can be decomposed into two-mode beamsplitters (`BSgate`) and single-mode phase shifters (`Rgate`) (<a href=\"https://doi.org/10.1103/physrevlett.73.58\">Reck, 1994</a>), allowing for an almost trivial translation into a continuous-variable quantum circuit.\n",
    "\n",
    "For example, in the case of a 4 mode interferometer, with arbitrary $4\\times 4$ unitary $U$, the continuous-variable quantum circuit for Gaussian boson sampling is given by\n",
    "\n",
    "<img src=\"https://s3.amazonaws.com/xanadu-img/gaussian_boson_sampling.svg\" width=70%/>\n",
    "\n",
    "In the above,\n",
    "\n",
    "* the single mode squeeze states all apply identical squeezing $\\xi=r$,\n",
    "* the detectors perform Fock state measurements (i.e. measuring the photon number of each mode),\n",
    "* the parameters of the beamsplitters and the rotation gates determines the unitary $U$.\n",
    "\n",
    "For $N$ input modes, we must have a minimum of $N$ columns in the beamsplitter array ([Clements, 2016](https://arxiv.org/abs/1603.08788))."
   ]
  },
  {
   "cell_type": "markdown",
   "metadata": {},
   "source": [
    "## Simulating boson sampling in Strawberry Fields\n",
    "\n"
   ]
  },
  {
   "cell_type": "code",
   "execution_count": 1,
   "metadata": {},
   "outputs": [],
   "source": [
    "import strawberryfields as sf\n",
    "from strawberryfields.ops import *\n",
    "from strawberryfields.utils import random_interferometer"
   ]
  },
  {
   "cell_type": "markdown",
   "metadata": {},
   "source": [
    "Strawberry Fields makes this easy; there is an `Interferometer` quantum operation, and a utility function that allows us to generate the matrix representing a random interferometer."
   ]
  },
  {
   "cell_type": "code",
   "execution_count": 2,
   "metadata": {},
   "outputs": [],
   "source": [
    "U = random_interferometer(4)"
   ]
  },
  {
   "cell_type": "markdown",
   "metadata": {},
   "source": [
    "The lack of Fock states and non-linear operations means we can use the Gaussian backend to simulate Gaussian boson sampling. In this example program, we are using input states with squeezing parameter $\\xi=1$, and the randomly chosen interferometer generated above."
   ]
  },
  {
   "cell_type": "code",
   "execution_count": 3,
   "metadata": {},
   "outputs": [
    {
     "name": "stderr",
     "output_type": "stream",
     "text": [
      "/home/xanadu-laptop/nathan-dev/strawberryfields/strawberryfields/backends/gaussianbackend/backend.py:200: UserWarning: Cannot simulate non-Gaussian states. Conditional state after Fock measurement has not been updated.\n"
     ]
    }
   ],
   "source": [
    "eng = sf.Engine('gaussian')\n",
    "gbs = sf.Program(4)\n",
    "\n",
    "with gbs.context as q:\n",
    "    # prepare the input squeezed states\n",
    "    S = Sgate(1)\n",
    "    All(S) | q\n",
    "\n",
    "    # interferometer\n",
    "    Interferometer(U) | q\n",
    "    MeasureFock() | q\n",
    "    \n",
    "results = eng.run(gbs, shots=10)\n",
    "state = results.state\n",
    "\n",
    "# Note: Running this cell will generate a warning. This is just the Gaussian backend of Strawberryfields telling us \n",
    "# that, although it can carry out the MeasureFock operation, it will not update the state of the circuit after doing so,\n",
    "# since the resulting state would be non-Gaussian. For this notebook, the warning can be safely ignored."
   ]
  },
  {
   "cell_type": "markdown",
   "metadata": {},
   "source": [
    "We can see the decomposed beamsplitters and rotation gates, by calling `eng.print_applied()`:"
   ]
  },
  {
   "cell_type": "code",
   "execution_count": 4,
   "metadata": {},
   "outputs": [
    {
     "name": "stdout",
     "output_type": "stream",
     "text": [
      "Run 0:\n",
      "Sgate(1, 0) | (q[0])\n",
      "Sgate(1, 0) | (q[1])\n",
      "Sgate(1, 0) | (q[2])\n",
      "Sgate(1, 0) | (q[3])\n",
      "Rgate(-2.799) | (q[0])\n",
      "BSgate(1.216, 0) | (q[0], q[1])\n",
      "Rgate(-0.8845) | (q[2])\n",
      "BSgate(1.207, 0) | (q[2], q[3])\n",
      "Rgate(2.402) | (q[1])\n",
      "BSgate(1.39, 0) | (q[1], q[2])\n",
      "Rgate(0.915) | (q[0])\n",
      "BSgate(1.077, 0) | (q[0], q[1])\n",
      "Rgate(-0.09233) | (q[0])\n",
      "Rgate(-2.13) | (q[1])\n",
      "Rgate(-2.676) | (q[2])\n",
      "Rgate(1.016) | (q[3])\n",
      "BSgate(-0.9855, 0) | (q[2], q[3])\n",
      "Rgate(-2.281) | (q[2])\n",
      "BSgate(-1.259, 0) | (q[1], q[2])\n",
      "Rgate(-1.454) | (q[1])\n",
      "MeasureFock() | (q[0], q[1], q[2], q[3])\n"
     ]
    }
   ],
   "source": [
    "eng.print_applied()"
   ]
  },
  {
   "cell_type": "markdown",
   "metadata": {},
   "source": [
    "<div class=\"alert alert-success\" style=\"border: 0px; border-left: 3px solid #119a68; color: black; background-color: #daf0e9\">\n",
    "<p style=\"color: #119a68;\">**Available decompositions**</p>\n",
    "\n",
    "Check out our <a href=\"https://strawberryfields.readthedocs.io/en/stable/conventions/decompositions.html\">documentation</a> to see the available CV decompositions available in Strawberry Fields.\n",
    "</div>\n"
   ]
  },
  {
   "cell_type": "markdown",
   "metadata": {},
   "source": [
    "We can also see some of the measurement samples from this circuit within `results.samples`. These correspond to independent runs of the Gaussian Boson Sampling circuit. "
   ]
  },
  {
   "cell_type": "code",
   "execution_count": 5,
   "metadata": {},
   "outputs": [
    {
     "data": {
      "text/plain": [
       "array([[4, 0, 1, 1],\n",
       "       [1, 0, 1, 0],\n",
       "       [0, 0, 0, 2],\n",
       "       [3, 2, 1, 0],\n",
       "       [0, 0, 0, 0],\n",
       "       [3, 0, 1, 0],\n",
       "       [0, 0, 1, 1],\n",
       "       [3, 1, 3, 3],\n",
       "       [2, 0, 0, 0],\n",
       "       [1, 0, 1, 0]])"
      ]
     },
     "execution_count": 5,
     "metadata": {},
     "output_type": "execute_result"
    }
   ],
   "source": [
    "results.samples"
   ]
  },
  {
   "cell_type": "markdown",
   "metadata": {},
   "source": [
    "## Analysis\n",
    "\n",
    "Let's now verify the Gaussian boson sampling result, by comparing the output Fock state probabilities to the Hafnian, using the relationship\n",
    "\n",
    "$$\\left|\\left\\langle{n_1,n_2,\\dots,n_N}\\middle|{\\psi'}\\right\\rangle\\right|^2 = \\frac{\\left|\\text{Haf}[(UU^T\\tanh(r))]_{st}\\right|^2}{n_1!n_2!\\cdots n_N!\\cosh^N(r)}$$"
   ]
  },
  {
   "cell_type": "markdown",
   "metadata": {},
   "source": [
    "### Calculating the Hafnian\n",
    "\n",
    "For the right hand side numerator, we first calculate the submatrix $[(UU^T\\tanh(r))]_{st}$:"
   ]
  },
  {
   "cell_type": "code",
   "execution_count": 6,
   "metadata": {},
   "outputs": [],
   "source": [
    "import numpy as np\n",
    "B = (np.dot(U, U.T) * np.tanh(1))"
   ]
  },
  {
   "cell_type": "markdown",
   "metadata": {},
   "source": [
    "In Gaussian boson sampling, we determine the submatrix by taking the rows and columns corresponding to the measured Fock state. For example, to calculate the submatrix in the case of the output measurement $\\left|{1,1,0,0}\\right\\rangle$,"
   ]
  },
  {
   "cell_type": "code",
   "execution_count": 7,
   "metadata": {},
   "outputs": [
    {
     "data": {
      "text/plain": [
       "array([[0.43885299+0.01392287j, 0.22013497+0.07261871j],\n",
       "       [0.22013497+0.07261871j, 0.53378299-0.2791162j ]])"
      ]
     },
     "execution_count": 7,
     "metadata": {},
     "output_type": "execute_result"
    }
   ],
   "source": [
    "B[:,[0,1]][[0,1]]"
   ]
  },
  {
   "cell_type": "markdown",
   "metadata": {},
   "source": [
    "To calculate the Hafnian in Python, we can use the direct definition\n",
    "\n",
    "$$\\text{Haf}(A) = \\frac{1}{n!2^n} \\sum_{\\sigma \\in S_{2n}} \\prod_{j=1}^n A_{\\sigma(2j - 1), \\sigma(2j)}$$\n",
    "\n",
    "Notice that this function counts each term in the definition multiple times, and renormalizes to remove the multiple counts by dividing by a factor $\\frac{1}{n!2^n}$. **This function is extremely slow!**"
   ]
  },
  {
   "cell_type": "code",
   "execution_count": 8,
   "metadata": {},
   "outputs": [],
   "source": [
    "from itertools import permutations\n",
    "from scipy.special import factorial\n",
    "\n",
    "def Haf(M):\n",
    "    n = len(M)\n",
    "    m = int(n/2)\n",
    "    haf = 0.0\n",
    "    for i in permutations(range(n)):\n",
    "        prod = 1.0\n",
    "        for j in range(m):\n",
    "            prod *= M[i[2 * j], i[2 * j + 1]]\n",
    "        haf += prod\n",
    "    return haf / (factorial(m) * (2 ** m))"
   ]
  },
  {
   "cell_type": "markdown",
   "metadata": {},
   "source": [
    "## Comparing to the SF result"
   ]
  },
  {
   "cell_type": "markdown",
   "metadata": {},
   "source": [
    "In Strawberry Fields, both Fock and Gaussian states have the method `fock_prob()`, which returns the probability of measuring that particular Fock state.\n",
    "\n",
    "#### Let's compare the case of measuring at the output state $\\left|0,1,0,1\\right\\rangle$:"
   ]
  },
  {
   "cell_type": "code",
   "execution_count": 9,
   "metadata": {},
   "outputs": [
    {
     "data": {
      "text/plain": [
       "0.0009224360729077028"
      ]
     },
     "execution_count": 9,
     "metadata": {},
     "output_type": "execute_result"
    }
   ],
   "source": [
    "B = (np.dot(U, U.T) * np.tanh(1))[:, [1, 3]][[1, 3]]\n",
    "np.abs(Haf(B)) ** 2 / np.cosh(1) ** 4"
   ]
  },
  {
   "cell_type": "code",
   "execution_count": 10,
   "metadata": {},
   "outputs": [
    {
     "data": {
      "text/plain": [
       "0.0009224360729077002"
      ]
     },
     "execution_count": 10,
     "metadata": {},
     "output_type": "execute_result"
    }
   ],
   "source": [
    "state.fock_prob([0, 1, 0, 1])"
   ]
  },
  {
   "cell_type": "markdown",
   "metadata": {},
   "source": [
    "#### For the measurement result $\\left|2,0,0,0\\right\\rangle$:"
   ]
  },
  {
   "cell_type": "code",
   "execution_count": 11,
   "metadata": {},
   "outputs": [
    {
     "data": {
      "text/plain": [
       "0.017001629749795567"
      ]
     },
     "execution_count": 11,
     "metadata": {},
     "output_type": "execute_result"
    }
   ],
   "source": [
    "B = (np.dot(U, U.T) * np.tanh(1))[:, [0, 0]][[0, 0]]\n",
    "np.abs(Haf(B)) ** 2 / (2 * np.cosh(1) ** 4)"
   ]
  },
  {
   "cell_type": "code",
   "execution_count": 12,
   "metadata": {},
   "outputs": [
    {
     "data": {
      "text/plain": [
       "0.01700162974979562"
      ]
     },
     "execution_count": 12,
     "metadata": {},
     "output_type": "execute_result"
    }
   ],
   "source": [
    "state.fock_prob([2, 0, 0, 0])"
   ]
  },
  {
   "cell_type": "markdown",
   "metadata": {},
   "source": [
    "#### For the measurement result $\\left|1,1,0,0\\right\\rangle$:"
   ]
  },
  {
   "cell_type": "code",
   "execution_count": 13,
   "metadata": {},
   "outputs": [
    {
     "data": {
      "text/plain": [
       "0.009477322372946798"
      ]
     },
     "execution_count": 13,
     "metadata": {},
     "output_type": "execute_result"
    }
   ],
   "source": [
    "B = (np.dot(U, U.T) * np.tanh(1))[:, [0, 1]][[0, 1]]\n",
    "np.abs(Haf(B)) ** 2 / np.cosh(1) ** 4"
   ]
  },
  {
   "cell_type": "code",
   "execution_count": 14,
   "metadata": {},
   "outputs": [
    {
     "data": {
      "text/plain": [
       "0.009477322372946843"
      ]
     },
     "execution_count": 14,
     "metadata": {},
     "output_type": "execute_result"
    }
   ],
   "source": [
    "state.fock_prob([1, 1, 0, 0])"
   ]
  },
  {
   "cell_type": "markdown",
   "metadata": {},
   "source": [
    "#### For the measurement result $\\left|1,1,1,1\\right\\rangle$, this corresponds to the full matrix $B$:"
   ]
  },
  {
   "cell_type": "code",
   "execution_count": 15,
   "metadata": {},
   "outputs": [
    {
     "data": {
      "text/plain": [
       "0.0001148968931042585"
      ]
     },
     "execution_count": 15,
     "metadata": {},
     "output_type": "execute_result"
    }
   ],
   "source": [
    "B = (np.dot(U,U.T) * np.tanh(1))\n",
    "np.abs(Haf(B)) ** 2 / np.cosh(1) ** 4"
   ]
  },
  {
   "cell_type": "code",
   "execution_count": 16,
   "metadata": {},
   "outputs": [
    {
     "data": {
      "text/plain": [
       "0.00011489689310425989"
      ]
     },
     "execution_count": 16,
     "metadata": {},
     "output_type": "execute_result"
    }
   ],
   "source": [
    "state.fock_prob([1, 1, 1, 1])"
   ]
  },
  {
   "cell_type": "markdown",
   "metadata": {},
   "source": [
    "#### For the measurement result $\\left|0,0,0,0\\right\\rangle$, this corresponds to a **null** submatrix, which has a Hafnian of 1:"
   ]
  },
  {
   "cell_type": "code",
   "execution_count": 17,
   "metadata": {},
   "outputs": [
    {
     "data": {
      "text/plain": [
       "0.1763784476141347"
      ]
     },
     "execution_count": 17,
     "metadata": {},
     "output_type": "execute_result"
    }
   ],
   "source": [
    "1 / np.cosh(1) ** 4"
   ]
  },
  {
   "cell_type": "code",
   "execution_count": 18,
   "metadata": {
    "scrolled": false
   },
   "outputs": [
    {
     "data": {
      "text/plain": [
       "0.17637844761413488"
      ]
     },
     "execution_count": 18,
     "metadata": {},
     "output_type": "execute_result"
    }
   ],
   "source": [
    "state.fock_prob([0, 0, 0, 0])"
   ]
  },
  {
   "cell_type": "markdown",
   "metadata": {},
   "source": [
    "As you can see, like in the boson sampling tutorial, they agree with almost negligable difference.\n",
    "\n",
    "<div class=\"alert alert-success\" style=\"border: 0px; border-left: 3px solid #119a68; color: black; background-color: #daf0e9\">\n",
    "<p style=\"color: #119a68;\">**Exercises**</p>\n",
    "\n",
    "Repeat this notebook with \n",
    "<ol>\n",
    "    <li> A higher value for <tt>shots</tt> in <tt>eng.run()</tt>, and compare the relative probabilties of events with the expected values.</li>\n",
    "    <li> A Fock backend such as NumPy, instead of the Gaussian backend</li>\n",
    "    <li> Different beamsplitter and rotation parameters</li>\n",
    "    <li> Input states with *differing* squeezed values $r_i$. You will need to modify the code to take into account the fact that the output covariance matrix determinant must now be calculated!\n",
    "</ol>\n",
    "</div>"
   ]
  },
  {
   "cell_type": "code",
   "execution_count": null,
   "metadata": {},
   "outputs": [],
   "source": []
  }
 ],
 "metadata": {
  "kernelspec": {
   "display_name": "Python (tensorflow1.3)",
   "language": "python",
   "name": "tensorflow1.3"
  },
  "language_info": {
   "codemirror_mode": {
    "name": "ipython",
    "version": 3
   },
   "file_extension": ".py",
   "mimetype": "text/x-python",
   "name": "python",
   "nbconvert_exporter": "python",
   "pygments_lexer": "ipython3",
   "version": "3.6.8"
  },
  "toc": {
   "nav_menu": {},
   "number_sections": true,
   "sideBar": true,
   "skip_h1_title": false,
   "toc_cell": false,
   "toc_position": {},
   "toc_section_display": "block",
   "toc_window_display": false
  }
 },
 "nbformat": 4,
 "nbformat_minor": 2
}