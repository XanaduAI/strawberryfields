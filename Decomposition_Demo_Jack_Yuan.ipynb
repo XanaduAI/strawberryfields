{
 "cells": [
  {
   "cell_type": "code",
   "execution_count": 1,
   "id": "economic-paste",
   "metadata": {},
   "outputs": [],
   "source": [
    "import numpy as np\n",
    "from scipy.stats import unitary_group\n",
    "\n",
    "np.set_printoptions(precision=3, suppress=True) #print less digits of floats for readability"
   ]
  },
  {
   "cell_type": "code",
   "execution_count": 2,
   "id": "perceived-dairy",
   "metadata": {},
   "outputs": [],
   "source": [
    "from strawberryfields.decomposition_tests import Reck_decomposition,Reck_reconstruction"
   ]
  },
  {
   "cell_type": "code",
   "execution_count": 3,
   "id": "aerial-shield",
   "metadata": {},
   "outputs": [],
   "source": [
    "m=3\n",
    "U = unitary_group.rvs(m)"
   ]
  },
  {
   "cell_type": "code",
   "execution_count": 4,
   "id": "human-invasion",
   "metadata": {},
   "outputs": [
    {
     "data": {
      "text/plain": [
       "array([[ 0.139+0.586j,  0.14 -0.255j,  0.739+0.079j],\n",
       "       [ 0.082+0.219j, -0.888-0.152j, -0.11 +0.348j],\n",
       "       [-0.657+0.388j, -0.224+0.23j , -0.002-0.561j]])"
      ]
     },
     "execution_count": 4,
     "metadata": {},
     "output_type": "execute_result"
    }
   ],
   "source": [
    "U"
   ]
  },
  {
   "cell_type": "code",
   "execution_count": 5,
   "id": "written-elder",
   "metadata": {},
   "outputs": [
    {
     "name": "stdout",
     "output_type": "stream",
     "text": [
      "V matrix is unitary: [[ 1.+0.j -0.-0.j  0.-0.j]\n",
      " [ 0.+0.j  1.+0.j -0.-0.j]\n",
      " [ 0.+0.j -0.-0.j  1.+0.j]]\n"
     ]
    }
   ],
   "source": [
    "params_list = Reck_decomposition(U)"
   ]
  },
  {
   "cell_type": "markdown",
   "id": "fifth-diesel",
   "metadata": {},
   "source": [
    "Reconstruction"
   ]
  },
  {
   "cell_type": "code",
   "execution_count": 6,
   "id": "processed-screen",
   "metadata": {},
   "outputs": [
    {
     "data": {
      "text/plain": [
       "array([[ 0.139+0.586j,  0.14 -0.255j,  0.739+0.079j],\n",
       "       [ 0.082+0.219j, -0.888-0.152j, -0.11 +0.348j],\n",
       "       [-0.657+0.388j, -0.224+0.23j , -0.002-0.561j]])"
      ]
     },
     "execution_count": 6,
     "metadata": {},
     "output_type": "execute_result"
    }
   ],
   "source": [
    "Reck_reconstruction(m,params_list)"
   ]
  },
  {
   "cell_type": "markdown",
   "id": "invalid-adjustment",
   "metadata": {},
   "source": [
    "Reconstruction of Reck Scheme in SF"
   ]
  },
  {
   "cell_type": "code",
   "execution_count": 7,
   "id": "honey-incidence",
   "metadata": {},
   "outputs": [
    {
     "ename": "CircuitError",
     "evalue": "The operation sMZgate cannot be used with the compiler 'fock'.",
     "output_type": "error",
     "traceback": [
      "\u001b[0;31m---------------------------------------------------------------------------\u001b[0m",
      "\u001b[0;31mCircuitError\u001b[0m                              Traceback (most recent call last)",
      "\u001b[0;32m<ipython-input-7-c3ea2df909a5>\u001b[0m in \u001b[0;36m<module>\u001b[0;34m\u001b[0m\n\u001b[1;32m     26\u001b[0m \u001b[0;34m\u001b[0m\u001b[0m\n\u001b[1;32m     27\u001b[0m \u001b[0meng\u001b[0m \u001b[0;34m=\u001b[0m \u001b[0mEngine\u001b[0m\u001b[0;34m(\u001b[0m\u001b[0;34m\"fock\"\u001b[0m\u001b[0;34m,\u001b[0m \u001b[0mbackend_options\u001b[0m\u001b[0;34m=\u001b[0m\u001b[0;34m{\u001b[0m\u001b[0;34m\"cutoff_dim\"\u001b[0m\u001b[0;34m:\u001b[0m \u001b[0;36m10\u001b[0m\u001b[0;34m}\u001b[0m\u001b[0;34m)\u001b[0m\u001b[0;34m\u001b[0m\u001b[0;34m\u001b[0m\u001b[0m\n\u001b[0;32m---> 28\u001b[0;31m \u001b[0mresult\u001b[0m \u001b[0;34m=\u001b[0m \u001b[0meng\u001b[0m\u001b[0;34m.\u001b[0m\u001b[0mrun\u001b[0m\u001b[0;34m(\u001b[0m\u001b[0mprog\u001b[0m\u001b[0;34m)\u001b[0m\u001b[0;34m\u001b[0m\u001b[0;34m\u001b[0m\u001b[0m\n\u001b[0m\u001b[1;32m     29\u001b[0m \u001b[0mstate\u001b[0m \u001b[0;34m=\u001b[0m \u001b[0mresult\u001b[0m\u001b[0;34m.\u001b[0m\u001b[0mstate\u001b[0m\u001b[0;34m\u001b[0m\u001b[0;34m\u001b[0m\u001b[0m\n",
      "\u001b[0;32m~/Desktop/notebooks/xanadu-Yuan/demo/strawberryfields/strawberryfields/engine.py\u001b[0m in \u001b[0;36mrun\u001b[0;34m(self, program, args, compile_options, **kwargs)\u001b[0m\n\u001b[1;32m    492\u001b[0m                     )\n\u001b[1;32m    493\u001b[0m \u001b[0;34m\u001b[0m\u001b[0m\n\u001b[0;32m--> 494\u001b[0;31m         result = super()._run(\n\u001b[0m\u001b[1;32m    495\u001b[0m             \u001b[0mprogram\u001b[0m\u001b[0;34m,\u001b[0m \u001b[0margs\u001b[0m\u001b[0;34m=\u001b[0m\u001b[0margs\u001b[0m\u001b[0;34m,\u001b[0m \u001b[0mcompile_options\u001b[0m\u001b[0;34m=\u001b[0m\u001b[0mcompile_options\u001b[0m\u001b[0;34m,\u001b[0m \u001b[0;34m**\u001b[0m\u001b[0meng_run_options\u001b[0m\u001b[0;34m\u001b[0m\u001b[0;34m\u001b[0m\u001b[0m\n\u001b[1;32m    496\u001b[0m         )\n",
      "\u001b[0;32m~/Desktop/notebooks/xanadu-Yuan/demo/strawberryfields/strawberryfields/engine.py\u001b[0m in \u001b[0;36m_run\u001b[0;34m(self, program, args, compile_options, **kwargs)\u001b[0m\n\u001b[1;32m    272\u001b[0m             \u001b[0mtarget\u001b[0m \u001b[0;34m=\u001b[0m \u001b[0mself\u001b[0m\u001b[0;34m.\u001b[0m\u001b[0mbackend\u001b[0m\u001b[0;34m.\u001b[0m\u001b[0mcompiler\u001b[0m\u001b[0;34m\u001b[0m\u001b[0;34m\u001b[0m\u001b[0m\n\u001b[1;32m    273\u001b[0m             \u001b[0;32mif\u001b[0m \u001b[0mtarget\u001b[0m \u001b[0;32mis\u001b[0m \u001b[0;32mnot\u001b[0m \u001b[0;32mNone\u001b[0m\u001b[0;34m:\u001b[0m\u001b[0;34m\u001b[0m\u001b[0;34m\u001b[0m\u001b[0m\n\u001b[0;32m--> 274\u001b[0;31m                 \u001b[0mp\u001b[0m \u001b[0;34m=\u001b[0m \u001b[0mp\u001b[0m\u001b[0;34m.\u001b[0m\u001b[0mcompile\u001b[0m\u001b[0;34m(\u001b[0m\u001b[0mcompiler\u001b[0m\u001b[0;34m=\u001b[0m\u001b[0mtarget\u001b[0m\u001b[0;34m,\u001b[0m \u001b[0;34m**\u001b[0m\u001b[0mcompile_options\u001b[0m\u001b[0;34m)\u001b[0m\u001b[0;34m\u001b[0m\u001b[0;34m\u001b[0m\u001b[0m\n\u001b[0m\u001b[1;32m    275\u001b[0m             \u001b[0mp\u001b[0m\u001b[0;34m.\u001b[0m\u001b[0mlock\u001b[0m\u001b[0;34m(\u001b[0m\u001b[0;34m)\u001b[0m\u001b[0;34m\u001b[0m\u001b[0;34m\u001b[0m\u001b[0m\n\u001b[1;32m    276\u001b[0m \u001b[0;34m\u001b[0m\u001b[0m\n",
      "\u001b[0;32m~/Desktop/notebooks/xanadu-Yuan/demo/strawberryfields/strawberryfields/program.py\u001b[0m in \u001b[0;36mcompile\u001b[0;34m(self, device, compiler, **kwargs)\u001b[0m\n\u001b[1;32m    656\u001b[0m             \u001b[0mtarget\u001b[0m \u001b[0;34m=\u001b[0m \u001b[0mcompiler\u001b[0m\u001b[0;34m.\u001b[0m\u001b[0mshort_name\u001b[0m\u001b[0;34m\u001b[0m\u001b[0;34m\u001b[0m\u001b[0m\n\u001b[1;32m    657\u001b[0m \u001b[0;34m\u001b[0m\u001b[0m\n\u001b[0;32m--> 658\u001b[0;31m         \u001b[0mseq\u001b[0m \u001b[0;34m=\u001b[0m \u001b[0mcompiler\u001b[0m\u001b[0;34m.\u001b[0m\u001b[0mdecompose\u001b[0m\u001b[0;34m(\u001b[0m\u001b[0mself\u001b[0m\u001b[0;34m.\u001b[0m\u001b[0mcircuit\u001b[0m\u001b[0;34m)\u001b[0m\u001b[0;34m\u001b[0m\u001b[0;34m\u001b[0m\u001b[0m\n\u001b[0m\u001b[1;32m    659\u001b[0m \u001b[0;34m\u001b[0m\u001b[0m\n\u001b[1;32m    660\u001b[0m         \u001b[0;32mif\u001b[0m \u001b[0mkwargs\u001b[0m\u001b[0;34m.\u001b[0m\u001b[0mget\u001b[0m\u001b[0;34m(\u001b[0m\u001b[0;34m\"warn_connected\"\u001b[0m\u001b[0;34m,\u001b[0m \u001b[0;32mTrue\u001b[0m\u001b[0;34m)\u001b[0m\u001b[0;34m:\u001b[0m\u001b[0;34m\u001b[0m\u001b[0;34m\u001b[0m\u001b[0m\n",
      "\u001b[0;32m~/Desktop/notebooks/xanadu-Yuan/demo/strawberryfields/strawberryfields/compilers/compiler.py\u001b[0m in \u001b[0;36mdecompose\u001b[0;34m(self, seq)\u001b[0m\n\u001b[1;32m    236\u001b[0m \u001b[0;34m\u001b[0m\u001b[0m\n\u001b[1;32m    237\u001b[0m             \u001b[0;32melse\u001b[0m\u001b[0;34m:\u001b[0m\u001b[0;34m\u001b[0m\u001b[0;34m\u001b[0m\u001b[0m\n\u001b[0;32m--> 238\u001b[0;31m                 raise pu.CircuitError(\n\u001b[0m\u001b[1;32m    239\u001b[0m                     \"The operation {} cannot be used with the compiler '{}'.\".format(\n\u001b[1;32m    240\u001b[0m                         \u001b[0mcmd\u001b[0m\u001b[0;34m.\u001b[0m\u001b[0mop\u001b[0m\u001b[0;34m.\u001b[0m\u001b[0m__class__\u001b[0m\u001b[0;34m.\u001b[0m\u001b[0m__name__\u001b[0m\u001b[0;34m,\u001b[0m \u001b[0mself\u001b[0m\u001b[0;34m.\u001b[0m\u001b[0mshort_name\u001b[0m\u001b[0;34m\u001b[0m\u001b[0;34m\u001b[0m\u001b[0m\n",
      "\u001b[0;31mCircuitError\u001b[0m: The operation sMZgate cannot be used with the compiler 'fock'."
     ]
    }
   ],
   "source": [
    "import numpy as np\n",
    "from strawberryfields.program import Program\n",
    "from strawberryfields.ops import Rgate,sMZgate\n",
    "from strawberryfields.engine import Engine\n",
    "\n",
    "\n",
    "m=3\n",
    "\n",
    "prog = Program(m)\n",
    "\n",
    "with prog.context as q:\n",
    "    \n",
    "    for i,phi in enumerate(params_list['P_']):\n",
    "        Rgate(phi) | q[i+1]\n",
    "\n",
    "    for j in range(m-1):\n",
    "        for k in range(len(params_list[j])):\n",
    "            delta = params_list[j][k][0]\n",
    "            sigma = params_list[j][k][1]\n",
    "            theta1 = delta + sigma\n",
    "            theta2 = sigma - delta\n",
    "            sMZgate(theta1, theta2) | (q[j-k], q[j-k+1])\n",
    " \n",
    "    for i,phi in enumerate(params_list['Q_']):\n",
    "        Rgate(phi) | q[m-i-1]\n",
    "        \n",
    "eng = Engine(\"fock\", backend_options={\"cutoff_dim\": 10})\n",
    "result = eng.run(prog)\n",
    "state = result.state"
   ]
  },
  {
   "cell_type": "code",
   "execution_count": null,
   "id": "built-condition",
   "metadata": {},
   "outputs": [],
   "source": []
  },
  {
   "cell_type": "code",
   "execution_count": null,
   "id": "saved-tower",
   "metadata": {},
   "outputs": [],
   "source": []
  },
  {
   "cell_type": "code",
   "execution_count": null,
   "id": "chinese-miniature",
   "metadata": {},
   "outputs": [],
   "source": []
  },
  {
   "cell_type": "markdown",
   "id": "60b3bc78",
   "metadata": {},
   "source": [
    "# Clements"
   ]
  },
  {
   "cell_type": "code",
   "execution_count": 8,
   "id": "comparative-spiritual",
   "metadata": {},
   "outputs": [],
   "source": [
    "from strawberryfields.decomposition_tests import Clement_decomposition,Clement_reconstruction"
   ]
  },
  {
   "cell_type": "code",
   "execution_count": 14,
   "id": "twenty-summit",
   "metadata": {},
   "outputs": [],
   "source": [
    "m=6\n",
    "U = unitary_group.rvs(m)"
   ]
  },
  {
   "cell_type": "code",
   "execution_count": 15,
   "id": "recreational-rolling",
   "metadata": {},
   "outputs": [
    {
     "data": {
      "text/plain": [
       "array([[-0.018-0.016j, -0.172-0.415j, -0.585-0.319j,  0.378-0.304j,\n",
       "         0.022-0.118j,  0.273-0.172j],\n",
       "       [ 0.483+0.518j,  0.486+0.047j, -0.141+0.218j,  0.049-0.11j ,\n",
       "         0.382-0.028j,  0.051-0.169j],\n",
       "       [-0.216+0.136j,  0.416-0.156j, -0.297+0.066j, -0.296+0.368j,\n",
       "        -0.543-0.289j,  0.076-0.192j],\n",
       "       [-0.15 -0.016j, -0.165-0.282j, -0.136-0.171j, -0.437+0.387j,\n",
       "         0.564+0.17j , -0.174-0.325j],\n",
       "       [ 0.065-0.175j,  0.283+0.205j, -0.251-0.337j,  0.101-0.159j,\n",
       "        -0.131+0.169j, -0.755-0.121j],\n",
       "       [-0.303-0.532j,  0.343+0.124j, -0.064+0.41j ,  0.372+0.113j,\n",
       "         0.242+0.094j,  0.149-0.281j]])"
      ]
     },
     "execution_count": 15,
     "metadata": {},
     "output_type": "execute_result"
    }
   ],
   "source": [
    "U"
   ]
  },
  {
   "cell_type": "code",
   "execution_count": 16,
   "id": "checked-affect",
   "metadata": {},
   "outputs": [
    {
     "name": "stdout",
     "output_type": "stream",
     "text": [
      "V matrix is unitary: [[ 1.+0.j  0.+0.j -0.+0.j  0.-0.j  0.-0.j  0.+0.j]\n",
      " [-0.+0.j  1.+0.j -0.+0.j  0.+0.j -0.+0.j  0.+0.j]\n",
      " [-0.+0.j  0.-0.j  1.+0.j  0.+0.j  0.-0.j -0.+0.j]\n",
      " [ 0.+0.j  0.+0.j -0.-0.j  1.-0.j  0.+0.j  0.-0.j]\n",
      " [-0.+0.j -0.-0.j -0.+0.j  0.+0.j  1.-0.j  0.+0.j]\n",
      " [ 0.+0.j -0.+0.j -0.-0.j  0.+0.j -0.+0.j  1.-0.j]]\n"
     ]
    }
   ],
   "source": [
    "params_list = Clement_decomposition(U)"
   ]
  },
  {
   "cell_type": "code",
   "execution_count": 17,
   "id": "aboriginal-thomson",
   "metadata": {},
   "outputs": [
    {
     "data": {
      "text/plain": [
       "array([[-0.018-0.016j, -0.172-0.415j, -0.585-0.319j,  0.378-0.304j,\n",
       "         0.022-0.118j,  0.273-0.172j],\n",
       "       [ 0.483+0.518j,  0.486+0.047j, -0.141+0.218j,  0.049-0.11j ,\n",
       "         0.382-0.028j,  0.051-0.169j],\n",
       "       [-0.216+0.136j,  0.416-0.156j, -0.297+0.066j, -0.296+0.368j,\n",
       "        -0.543-0.289j,  0.076-0.192j],\n",
       "       [-0.15 -0.016j, -0.165-0.282j, -0.136-0.171j, -0.437+0.387j,\n",
       "         0.564+0.17j , -0.174-0.325j],\n",
       "       [ 0.065-0.175j,  0.283+0.205j, -0.251-0.337j,  0.101-0.159j,\n",
       "        -0.131+0.169j, -0.755-0.121j],\n",
       "       [-0.303-0.532j,  0.343+0.124j, -0.064+0.41j ,  0.372+0.113j,\n",
       "         0.242+0.094j,  0.149-0.281j]])"
      ]
     },
     "execution_count": 17,
     "metadata": {},
     "output_type": "execute_result"
    }
   ],
   "source": [
    "Clement_reconstruction(m,params_list)"
   ]
  },
  {
   "cell_type": "code",
   "execution_count": null,
   "id": "bound-charleston",
   "metadata": {},
   "outputs": [],
   "source": []
  },
  {
   "cell_type": "code",
   "execution_count": null,
   "id": "practical-temperature",
   "metadata": {},
   "outputs": [],
   "source": []
  }
 ],
 "metadata": {
  "kernelspec": {
   "display_name": "Python 3",
   "language": "python",
   "name": "python3"
  },
  "language_info": {
   "codemirror_mode": {
    "name": "ipython",
    "version": 3
   },
   "file_extension": ".py",
   "mimetype": "text/x-python",
   "name": "python",
   "nbconvert_exporter": "python",
   "pygments_lexer": "ipython3",
   "version": "3.8.6"
  }
 },
 "nbformat": 4,
 "nbformat_minor": 5
}
