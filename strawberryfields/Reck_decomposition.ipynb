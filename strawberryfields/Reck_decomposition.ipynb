{
 "cells": [
  {
   "cell_type": "code",
   "execution_count": 2,
   "id": "economic-paste",
   "metadata": {},
   "outputs": [],
   "source": [
    "import numpy as np"
   ]
  },
  {
   "cell_type": "code",
   "execution_count": 106,
   "id": "centered-warner",
   "metadata": {},
   "outputs": [],
   "source": [
    "m=5\n",
    "V = np.random.random((5,5)) + 1j*np.random.random((5,5))"
   ]
  },
  {
   "cell_type": "code",
   "execution_count": 138,
   "id": "accredited-debate",
   "metadata": {
    "scrolled": true
   },
   "outputs": [
    {
     "name": "stdout",
     "output_type": "stream",
     "text": [
      "j= 0 k= 0 , 4 0\n",
      "j= 1 k= 0 , 4 1\n",
      "j= 1 k= 1 , 3 0\n"
     ]
    }
   ],
   "source": [
    "# j=1 to m-1 -------  j = 0 to m-2\n",
    "for j in range(0,2):\n",
    "    P = np.eye(5,dtype=np.complex128)\n",
    "    x = m-1;\n",
    "    y = j;\n",
    "\n",
    "    theta = np.angle(V[x,y])-np.angle(V[x,y+1])\n",
    "    P[j-1,j-1] = np.exp(theta)\n",
    "    V = V@P\n",
    "\n",
    "    for k in range(j+1):\n",
    "        print(\"j=\",j,\"k=\",k,\",\",x,y)\n",
    "        delta = np.arctan(-V[x,y+1]/V[x,y])\n",
    "        if k==j : \n",
    "            sigma = 0 #doesnt matter with the result\n",
    "        else:\n",
    "            sigma = np.arctan(V[x-1,y]/V[x-1,y-1]) #Working on this factor\n",
    "        M = np.eye(5,dtype=np.complex128)\n",
    "        if j ==k:\n",
    "            M[0,0] = np.exp(1j*sigma)*np.sin(delta)\n",
    "            M[0,1] = np.exp(1j*sigma)*np.cos(delta)\n",
    "            M[1,0] = np.exp(1j*sigma)*np.cos(delta)\n",
    "            M[1,1] = -np.exp(1j*sigma)*np.sin(delta)\n",
    "        elif j==k+1:\n",
    "            M[1,1] = np.exp(1j*sigma)*np.sin(delta)\n",
    "            M[1,2] = np.exp(1j*sigma)*np.cos(delta)\n",
    "            M[2,1] = np.exp(1j*sigma)*np.cos(delta)\n",
    "            M[2,2] = -np.exp(1j*sigma)*np.sin(delta)\n",
    "\n",
    "        V=V@M\n",
    "        x = x-1\n",
    "        y = y-1"
   ]
  },
  {
   "cell_type": "code",
   "execution_count": 139,
   "id": "distinguished-swing",
   "metadata": {},
   "outputs": [
    {
     "data": {
      "text/plain": [
       "array([[-4.59345093e+02-6.01742344e+01j, -3.15397227e+02+7.99456291e+02j,\n",
       "        -6.29908206e+02-3.79114293e+02j,  1.35447689e+01-1.89974302e+00j,\n",
       "        -6.92116081e+00+2.50335739e+01j],\n",
       "       [-2.82300286e+02+2.99384875e+02j,  3.82834889e+02+5.87176253e+02j,\n",
       "        -5.49938247e+02+2.39774392e+02j,  5.17011613e+00-1.00592964e+01j,\n",
       "         1.33120120e+01+1.64956617e+01j],\n",
       "       [-3.29807872e+02+2.17024035e+02j,  1.08259188e+02+5.34367898e+02j,\n",
       "        -4.67256098e+02+1.54354544e+01j,  6.60661984e+00-6.09545485e+00j,\n",
       "         4.80751215e+00+1.59535502e+01j],\n",
       "       [-5.12495766e+02-2.61400402e+02j, -6.29100398e+02+8.65749731e+02j,\n",
       "        -6.41110692e+02-6.53004064e+02j,  1.68911463e+01+2.07912400e+00j,\n",
       "        -1.60804679e+01+2.79295216e+01j],\n",
       "       [ 7.06188120e-17+8.41546894e-16j, -2.13895291e+02-2.36422941e+01j,\n",
       "         4.89494604e+01-1.76643353e+02j,  1.09781932e+00+2.75646765e+00j,\n",
       "        -6.45910502e+00+2.83316348e-01j]])"
      ]
     },
     "execution_count": 139,
     "metadata": {},
     "output_type": "execute_result"
    }
   ],
   "source": [
    "V"
   ]
  },
  {
   "cell_type": "code",
   "execution_count": null,
   "id": "growing-interview",
   "metadata": {},
   "outputs": [],
   "source": []
  }
 ],
 "metadata": {
  "kernelspec": {
   "display_name": "tf24",
   "language": "python",
   "name": "tf24"
  },
  "language_info": {
   "codemirror_mode": {
    "name": "ipython",
    "version": 3
   },
   "file_extension": ".py",
   "mimetype": "text/x-python",
   "name": "python",
   "nbconvert_exporter": "python",
   "pygments_lexer": "ipython3",
   "version": "3.8.6"
  }
 },
 "nbformat": 4,
 "nbformat_minor": 5
}
