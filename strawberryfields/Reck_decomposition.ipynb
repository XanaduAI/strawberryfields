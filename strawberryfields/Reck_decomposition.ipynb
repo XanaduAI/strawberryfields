{
 "cells": [
  {
   "cell_type": "code",
   "execution_count": 1,
   "id": "economic-paste",
   "metadata": {},
   "outputs": [],
   "source": [
    "import numpy as np\n",
    "from scipy.stats import unitary_group\n",
    "\n",
    "np.set_printoptions(precision=3, suppress=True) #print less digits of floats for readability"
   ]
  },
  {
   "cell_type": "code",
   "execution_count": 2,
   "id": "6bfc390f",
   "metadata": {},
   "outputs": [],
   "source": [
    "def M(n, sigma, delta, m):\n",
    "    r\"\"\"The Bell M matrix from Eq 1 of the paper\n",
    "    n here represents the starting mode of MZI, and n = k-j\n",
    "    \"\"\"\n",
    "    mat = np.identity(m, dtype=np.complex128)\n",
    "    mat[n, n] = np.exp(1j * sigma) * np.sin(delta)\n",
    "    mat[n, n+1] = np.exp(1j * sigma) * np.cos(delta)\n",
    "    mat[n+1, n] = np.exp(1j * sigma) * np.cos(delta)\n",
    "    mat[n+1, n+1] = -np.exp(1j * sigma) * np.sin(delta)\n",
    "    return mat\n",
    "\n",
    "def P(j, phi, m):\n",
    "    mat = np.identity(m, dtype=np.complex128)\n",
    "    mat[j,j] = np.exp(1j * phi)\n",
    "    return mat"
   ]
  },
  {
   "cell_type": "code",
   "execution_count": 3,
   "id": "2628c22e",
   "metadata": {},
   "outputs": [],
   "source": [
    "def is_unitary(U):\n",
    "    return np.allclose(U @ U.conj().T, np.eye(U.shape[0]))"
   ]
  },
  {
   "cell_type": "markdown",
   "id": "c18e9268",
   "metadata": {},
   "source": [
    "# Reck"
   ]
  },
  {
   "cell_type": "code",
   "execution_count": 4,
   "id": "ee3e8c98",
   "metadata": {},
   "outputs": [
    {
     "data": {
      "text/plain": [
       "array([[ 1.-0.j,  0.-0.j,  0.-0.j],\n",
       "       [ 0.-0.j,  1.+0.j, -0.+0.j],\n",
       "       [-0.-0.j, -0.-0.j,  1.+0.j]])"
      ]
     },
     "execution_count": 4,
     "metadata": {},
     "output_type": "execute_result"
    }
   ],
   "source": [
    "m = 3\n",
    "# V = np.random.random((5,5)) + 1j*np.random.random((5,5))\n",
    "U = unitary_group.rvs(m)\n",
    "\n",
    "V = U.conj()\n",
    "\n",
    "#{\"P\":[P1,...Pj],\n",
    "#\"Q\":[Q1,...Qj],\n",
    "#\"j=0\":[[delta_0,sigma_0],],\n",
    "#\"j=1\":[[delta_0,sigma_0],[delta_1,sigma_1]]}\n",
    "#...\n",
    "params_list = {}\n",
    "params_list[\"P_\"] = []\n",
    "params_list[\"Q_\"] = []\n",
    "params_list[\"global_zeta\"] = []\n",
    "for j in range(m-1):\n",
    "    params_list[j] = []\n",
    "\n",
    "for j in range(m-1):\n",
    "    x = m - 1\n",
    "    y = j\n",
    "    phi_j = np.angle(V[x, y+1]) - np.angle(V[x, y])\n",
    "    Pj = P(j, phi_j, m)\n",
    "    params_list[\"P_\"].append(phi_j)\n",
    "    V = V @ Pj\n",
    "    for k in range(j+1):\n",
    "        delta = np.arctan(-V[x,y+1] / V[x,y]).real\n",
    "        V_temp = V @ M(j-k, 0, delta, m)\n",
    "        sigma = np.angle(V_temp[x-1, y-1]) - np.angle(V_temp[x-1,y])\n",
    "        params_list[j].append([delta,sigma])\n",
    "        n = j - k\n",
    "        V = V @ M(n, sigma, delta, m)\n",
    "        x -= 1\n",
    "        y -= 1\n",
    "    \n",
    "# these next two lines are just to remove a global phase\n",
    "zeta = - np.angle(V[0,0])\n",
    "params_list[\"global_zeta\"].append(zeta)\n",
    "V = V @ P(0, zeta, m)\n",
    "\n",
    "for j in range(1,m):\n",
    "    zeta = np.angle(V[0,0]) - np.angle(V[j,j])\n",
    "    params_list[\"Q_\"].append(zeta)\n",
    "    V = V @ P(j, zeta, m)\n",
    "        \n",
    "V"
   ]
  },
  {
   "cell_type": "code",
   "execution_count": 5,
   "id": "framed-jerusalem",
   "metadata": {},
   "outputs": [
    {
     "data": {
      "text/plain": [
       "array([[ 0.16 -0.587j,  0.214+0.139j, -0.093-0.746j],\n",
       "       [ 0.079-0.505j,  0.608-0.133j,  0.264+0.531j],\n",
       "       [ 0.088+0.601j,  0.708-0.216j, -0.041-0.287j]])"
      ]
     },
     "execution_count": 5,
     "metadata": {},
     "output_type": "execute_result"
    }
   ],
   "source": [
    "U"
   ]
  },
  {
   "cell_type": "code",
   "execution_count": 6,
   "id": "parallel-sewing",
   "metadata": {},
   "outputs": [
    {
     "data": {
      "text/plain": [
       "{'P_': [1.722616693096885, 2.630069289716681],\n",
       " 'Q_': [1.7024788878126325, -1.711358631452937],\n",
       " 'global_zeta': [-1.102068019724063],\n",
       " 0: [[-0.88367238675396, -1.2152233898683094]],\n",
       " 1: [[-0.29375918658722144, 0.0], [-0.6680457530081882, -0.5933474395526792]]}"
      ]
     },
     "execution_count": 6,
     "metadata": {},
     "output_type": "execute_result"
    }
   ],
   "source": [
    "params_list"
   ]
  },
  {
   "cell_type": "code",
   "execution_count": 11,
   "id": "processed-screen",
   "metadata": {},
   "outputs": [
    {
     "data": {
      "text/plain": [
       "array([[ 0.16 -0.587j,  0.214+0.139j, -0.093-0.746j],\n",
       "       [ 0.079-0.505j,  0.608-0.133j,  0.264+0.531j],\n",
       "       [ 0.088+0.601j,  0.708-0.216j, -0.041-0.287j]])"
      ]
     },
     "execution_count": 11,
     "metadata": {},
     "output_type": "execute_result"
    }
   ],
   "source": [
    "#P(j,phi,m)\n",
    "#M(n, sigma, delta, m)\n",
    "m=3\n",
    "U = np.identity(m, dtype=np.complex128)\n",
    "for j in range(m-1):\n",
    "    phi = params_list[\"P_\"][j]\n",
    "    U = P(j,phi,m) @ U\n",
    "    for k in range(len(params_list[j])):\n",
    "        delta = params_list[j][k][0]\n",
    "        sigma = params_list[j][k][1]\n",
    "        U = M(j-k, sigma, delta, m) @ U\n",
    "U = P(0, params_list[\"global_zeta\"][0], m) @ U\n",
    "for j in range(1,m):\n",
    "    zeta = params_list[\"Q_\"][j-1]\n",
    "    U = P(j, zeta, m) @ U\n",
    "    \n",
    "U"
   ]
  },
  {
   "cell_type": "code",
   "execution_count": 12,
   "id": "colonial-sacramento",
   "metadata": {},
   "outputs": [
    {
     "data": {
      "text/plain": [
       "{'P_': [1.722616693096885, 2.630069289716681],\n",
       " 'Q_': [1.7024788878126325, -1.711358631452937],\n",
       " 'global_zeta': [-1.102068019724063],\n",
       " 0: [[-0.88367238675396, -1.2152233898683094]],\n",
       " 1: [[-0.29375918658722144, 0.0], [-0.6680457530081882, -0.5933474395526792]]}"
      ]
     },
     "execution_count": 12,
     "metadata": {},
     "output_type": "execute_result"
    }
   ],
   "source": [
    "params_list"
   ]
  },
  {
   "cell_type": "code",
   "execution_count": 13,
   "id": "interesting-marriage",
   "metadata": {},
   "outputs": [
    {
     "data": {
      "text/plain": [
       "array([[ 0.16 -0.587j,  0.214+0.139j, -0.093-0.746j],\n",
       "       [ 0.079-0.505j,  0.608-0.133j,  0.264+0.531j],\n",
       "       [ 0.088+0.601j,  0.708-0.216j, -0.041-0.287j]])"
      ]
     },
     "execution_count": 13,
     "metadata": {},
     "output_type": "execute_result"
    }
   ],
   "source": [
    "m=3\n",
    "U = np.identity(m, dtype=np.complex128)\n",
    "for j in range(m-1):\n",
    "    phi = params_list[\"P_\"][j]\n",
    "    U = P(j,phi,m) @ U\n",
    "    for k in range(len(params_list[j])):\n",
    "        delta = params_list[j][k][0]\n",
    "        sigma = params_list[j][k][1]\n",
    "        U = M(j-k, sigma, delta, m) @ U\n",
    "U = P(0, params_list[\"global_zeta\"][0], m) @ U\n",
    "for j in range(1,m):\n",
    "    zeta = params_list[\"Q_\"][j-1]\n",
    "    U = P(j, zeta, m) @ U\n",
    "    \n",
    "U"
   ]
  },
  {
   "cell_type": "markdown",
   "id": "invalid-adjustment",
   "metadata": {},
   "source": [
    "Reconstruction of Reck Scheme in SF (We don't have sMZI....)"
   ]
  },
  {
   "cell_type": "code",
   "execution_count": 19,
   "id": "honey-incidence",
   "metadata": {},
   "outputs": [
    {
     "ename": "ImportError",
     "evalue": "attempted relative import with no known parent package",
     "output_type": "error",
     "traceback": [
      "\u001b[0;31m---------------------------------------------------------------------------\u001b[0m",
      "\u001b[0;31mImportError\u001b[0m                               Traceback (most recent call last)",
      "\u001b[0;32m<ipython-input-19-aad15bc60563>\u001b[0m in \u001b[0;36m<module>\u001b[0;34m\u001b[0m\n\u001b[1;32m      1\u001b[0m \u001b[0;32mimport\u001b[0m \u001b[0mnumpy\u001b[0m \u001b[0;32mas\u001b[0m \u001b[0mnp\u001b[0m\u001b[0;34m\u001b[0m\u001b[0;34m\u001b[0m\u001b[0m\n\u001b[0;32m----> 2\u001b[0;31m \u001b[0;32mfrom\u001b[0m \u001b[0;34m.\u001b[0m\u001b[0mprogram\u001b[0m \u001b[0;32mimport\u001b[0m \u001b[0mProgram\u001b[0m\u001b[0;34m\u001b[0m\u001b[0;34m\u001b[0m\u001b[0m\n\u001b[0m\u001b[1;32m      3\u001b[0m \u001b[0;32mfrom\u001b[0m \u001b[0mstrawberryfields\u001b[0m\u001b[0;34m.\u001b[0m\u001b[0mops\u001b[0m \u001b[0;32mimport\u001b[0m \u001b[0;34m*\u001b[0m\u001b[0;34m\u001b[0m\u001b[0;34m\u001b[0m\u001b[0m\n\u001b[1;32m      4\u001b[0m \u001b[0;32mfrom\u001b[0m \u001b[0;34m.\u001b[0m\u001b[0mstrawberryfields\u001b[0m\u001b[0;34m.\u001b[0m\u001b[0mops\u001b[0m \u001b[0;32mimport\u001b[0m \u001b[0msMZgate\u001b[0m\u001b[0;34m\u001b[0m\u001b[0;34m\u001b[0m\u001b[0m\n\u001b[1;32m      5\u001b[0m \u001b[0;34m\u001b[0m\u001b[0m\n",
      "\u001b[0;31mImportError\u001b[0m: attempted relative import with no known parent package"
     ]
    }
   ],
   "source": [
    "import numpy as np\n",
    "from .program import Program\n",
    "from strawberryfields.ops import *\n",
    "from .strawberryfields.ops import sMZgate\n",
    "\n",
    "m=3\n",
    "\n",
    "prog = sf.Program(m)\n",
    "\n",
    "with prog.context as q:\n",
    "\n",
    "    for i,phi in enumerate(params_list['P_']):\n",
    "        Rgate(phi) | q[i+1]\n",
    "\n",
    "    for j in range(m-1):\n",
    "        for k in range(len(params_list[j])):\n",
    "            delta = params_list[j][k][0]\n",
    "            sigma = params_list[j][k][1]\n",
    "            theta1 = delta + sigma\n",
    "            theta2 = sigma - delta\n",
    "            sMZgate(theta1, theta2) | (q[j-k], q[j-k+1])\n",
    " \n",
    "    for i,phi in enumerate(params_list['Q_']):\n",
    "        Rgate(phi) | q[m-i-1]\n"
   ]
  },
  {
   "cell_type": "code",
   "execution_count": null,
   "id": "enormous-effectiveness",
   "metadata": {},
   "outputs": [],
   "source": []
  },
  {
   "cell_type": "code",
   "execution_count": null,
   "id": "built-condition",
   "metadata": {},
   "outputs": [],
   "source": []
  },
  {
   "cell_type": "code",
   "execution_count": 10,
   "id": "professional-trademark",
   "metadata": {},
   "outputs": [
    {
     "data": {
      "text/plain": [
       "array([[ 0.16 -0.587j,  0.214+0.139j, -0.093-0.746j],\n",
       "       [ 0.079-0.505j,  0.608-0.133j,  0.264+0.531j],\n",
       "       [ 0.088+0.601j,  0.708-0.216j, -0.041-0.287j]])"
      ]
     },
     "execution_count": 10,
     "metadata": {},
     "output_type": "execute_result"
    }
   ],
   "source": []
  },
  {
   "cell_type": "code",
   "execution_count": null,
   "id": "saved-tower",
   "metadata": {},
   "outputs": [],
   "source": []
  },
  {
   "cell_type": "code",
   "execution_count": null,
   "id": "chinese-miniature",
   "metadata": {},
   "outputs": [],
   "source": []
  },
  {
   "cell_type": "markdown",
   "id": "60b3bc78",
   "metadata": {},
   "source": [
    "# Clements"
   ]
  },
  {
   "cell_type": "code",
   "execution_count": 195,
   "id": "f3eb7237",
   "metadata": {
    "scrolled": false
   },
   "outputs": [
    {
     "data": {
      "text/plain": [
       "array([[ 1.+0.j,  0.+0.j,  0.+0.j, -0.+0.j, -0.+0.j,  0.+0.j, -0.+0.j],\n",
       "       [-0.-0.j,  1.+0.j, -0.+0.j, -0.+0.j,  0.-0.j,  0.+0.j, -0.+0.j],\n",
       "       [ 0.-0.j,  0.-0.j,  1.+0.j, -0.+0.j, -0.+0.j, -0.+0.j, -0.+0.j],\n",
       "       [ 0.+0.j, -0.-0.j, -0.-0.j,  1.+0.j, -0.+0.j,  0.+0.j,  0.-0.j],\n",
       "       [-0.+0.j,  0.-0.j,  0.+0.j, -0.-0.j,  1.+0.j, -0.-0.j,  0.+0.j],\n",
       "       [ 0.+0.j, -0.+0.j, -0.+0.j, -0.+0.j,  0.+0.j,  1.+0.j,  0.-0.j],\n",
       "       [-0.+0.j, -0.+0.j, -0.+0.j, -0.+0.j, -0.-0.j, -0.-0.j,  1.+0.j]])"
      ]
     },
     "execution_count": 195,
     "metadata": {},
     "output_type": "execute_result"
    }
   ],
   "source": [
    "m = 7\n",
    "# V = np.random.random((5,5)) + 1j*np.random.random((5,5))\n",
    "U = unitary_group.rvs(m)\n",
    "\n",
    "V = U.conj()\n",
    "\n",
    "params_list = {}\n",
    "params_list[\"P_\"] = []\n",
    "params_list[\"Q_\"] = []\n",
    "params_list[\"global_zeta\"] = []\n",
    "for j in range(m-1):\n",
    "    params_list[j] = []\n",
    "    \n",
    "for j in range(m-1):\n",
    "    #odd case in paper, because we index from 0 not 1\n",
    "    if j % 2 == 0: \n",
    "        x = m - 1\n",
    "        y = j \n",
    "        phi_j = np.angle(V[x, y+1]) - np.angle(V[x, y]) # reversed order from paper\n",
    "        params_list[\"P_\"].append(phi_j)\n",
    "        V = V @ P(j, phi_j, m)\n",
    "        for k in range(j+1):\n",
    "            delta = np.arctan(-V[x,y+1] / V[x,y]) # flipped from paper\n",
    "            n = j - k\n",
    "            V_temp = V @ M(n, 0, delta, m)\n",
    "            sigma = np.angle(V_temp[x-1, y-1]) - np.angle(V_temp[x-1,y])\n",
    "            params_list[j].append([delta,sigma])\n",
    "            V = V @ M(n, sigma, delta, m)\n",
    "            x -= 1\n",
    "            y -= 1\n",
    "    else:\n",
    "        x = m - j - 1\n",
    "        y = 0 \n",
    "        phi_j = np.angle(V[x-1,y]) - np.angle(V[x,y])\n",
    "        params_list[\"P_\"].append(phi_j)\n",
    "        V = P(x, phi_j, m) @ V\n",
    "        for k in range(j+1):\n",
    "            delta = np.arctan(V[x-1,y] / V[x,y]) # flipped from paper\n",
    "            V_temp = M(x-1, 0, delta, m) @ V\n",
    "            n = m + k - j - 2\n",
    "            if j != k:\n",
    "                sigma = (np.angle(V_temp[x+1, y+1]) - np.angle(V_temp[x,y+1]))\n",
    "            else:\n",
    "                sigma = 0 \n",
    "            params_list[j].append([delta,sigma])\n",
    "            V = M(n, sigma, delta, m) @ V\n",
    "            x += 1\n",
    "            y += 1\n",
    "\n",
    "# these next two lines are just to remove a global phase\n",
    "zeta = - np.angle(V[0,0])\n",
    "params_list[\"global_zeta\"].append(zeta)\n",
    "V = V @ P(0, zeta, m)\n",
    "\n",
    "for j in range(1,m):\n",
    "    zeta = np.angle(V[0,0]) - np.angle(V[j,j])\n",
    "    params_list[\"Q_\"].append(zeta)\n",
    "    V = V @ P(j, zeta, m)\n",
    "        \n",
    "V"
   ]
  },
  {
   "cell_type": "code",
   "execution_count": 196,
   "id": "4c230174",
   "metadata": {},
   "outputs": [
    {
     "data": {
      "text/plain": [
       "array([[-0.033+0.372j, -0.28 +0.309j, -0.204+0.001j, -0.247-0.161j,\n",
       "         0.261-0.453j, -0.267-0.165j,  0.372+0.216j],\n",
       "       [ 0.335+0.162j, -0.161+0.161j,  0.18 -0.163j,  0.052-0.707j,\n",
       "        -0.039-0.013j,  0.063+0.403j, -0.272-0.084j],\n",
       "       [ 0.651-0.127j, -0.205-0.166j,  0.125-0.091j,  0.253+0.348j,\n",
       "         0.339-0.21j ,  0.211+0.11j ,  0.137+0.217j],\n",
       "       [ 0.276+0.348j,  0.135-0.156j,  0.062-0.337j,  0.078-0.164j,\n",
       "        -0.295+0.231j,  0.197-0.537j,  0.367-0.089j],\n",
       "       [-0.139-0.106j,  0.012-0.118j,  0.377-0.695j, -0.14 +0.165j,\n",
       "        -0.159-0.134j, -0.443+0.145j, -0.005+0.148j],\n",
       "       [-0.086-0.074j,  0.289+0.549j,  0.21 -0.172j,  0.12 +0.033j,\n",
       "         0.478+0.378j,  0.028+0.116j,  0.323-0.152j],\n",
       "       [-0.042+0.2j  , -0.365+0.361j,  0.057-0.236j, -0.04 +0.359j,\n",
       "         0.008-0.103j,  0.235-0.252j, -0.452-0.414j]])"
      ]
     },
     "execution_count": 196,
     "metadata": {},
     "output_type": "execute_result"
    }
   ],
   "source": [
    "U"
   ]
  },
  {
   "cell_type": "code",
   "execution_count": 197,
   "id": "5cc1fccf",
   "metadata": {},
   "outputs": [],
   "source": [
    "#P(j,phi,m)\n",
    "#M(n, sigma, delta, m)\n",
    "U_Q = np.identity(m, dtype=np.complex128)\n",
    "U_odd = np.identity(m, dtype=np.complex128)\n",
    "U_even = np.identity(m, dtype=np.complex128)\n",
    "\n",
    "for j in range(m-1):\n",
    "    if j % 2 == 0: \n",
    "        \n",
    "        phi = params_list[\"P_\"][j]\n",
    "        U_odd =  U_odd@P(j,phi,m)\n",
    "        for k in range(len(params_list[j])):\n",
    "            delta = params_list[j][k][0]\n",
    "            sigma = params_list[j][k][1]\n",
    "            U_odd = U_odd@M(j-k, sigma, delta, m) \n",
    "    else:\n",
    "        phi = params_list[\"P_\"][j]\n",
    "        U_even =    P(m - j - 1,phi,m)@U_even\n",
    "        for k in range(len(params_list[j])):\n",
    "            delta = params_list[j][k][0]\n",
    "            sigma = params_list[j][k][1]\n",
    "            U_even = M(m + k - j - 2, sigma, delta, m)@U_even\n",
    "        \n",
    "\n",
    "for j in range(1,m):\n",
    "    zeta = params_list[\"Q_\"][j-1]\n",
    "    U_Q = P(j, zeta, m) @ U_Q\n",
    "    \n",
    "phase = P(0, params_list[\"global_zeta\"][0], m)\n",
    "\n",
    "U_right = U_odd@phase@U_Q\n",
    "U_left = U_even"
   ]
  },
  {
   "cell_type": "code",
   "execution_count": 198,
   "id": "magnetic-yemen",
   "metadata": {},
   "outputs": [
    {
     "data": {
      "text/plain": [
       "array([[-0.033+0.372j, -0.28 +0.309j, -0.204+0.001j, -0.247-0.161j,\n",
       "         0.261-0.453j, -0.267-0.165j,  0.372+0.216j],\n",
       "       [ 0.335+0.162j, -0.161+0.161j,  0.18 -0.163j,  0.052-0.707j,\n",
       "        -0.039-0.013j,  0.063+0.403j, -0.272-0.084j],\n",
       "       [ 0.651-0.127j, -0.205-0.166j,  0.125-0.091j,  0.253+0.348j,\n",
       "         0.339-0.21j ,  0.211+0.11j ,  0.137+0.217j],\n",
       "       [ 0.276+0.348j,  0.135-0.156j,  0.062-0.337j,  0.078-0.164j,\n",
       "        -0.295+0.231j,  0.197-0.537j,  0.367-0.089j],\n",
       "       [-0.139-0.106j,  0.012-0.118j,  0.377-0.695j, -0.14 +0.165j,\n",
       "        -0.159-0.134j, -0.443+0.145j, -0.005+0.148j],\n",
       "       [-0.086-0.074j,  0.289+0.549j,  0.21 -0.172j,  0.12 +0.033j,\n",
       "         0.478+0.378j,  0.028+0.116j,  0.323-0.152j],\n",
       "       [-0.042+0.2j  , -0.365+0.361j,  0.057-0.236j, -0.04 +0.359j,\n",
       "         0.008-0.103j,  0.235-0.252j, -0.452-0.414j]])"
      ]
     },
     "execution_count": 198,
     "metadata": {},
     "output_type": "execute_result"
    }
   ],
   "source": [
    "(U_right@U_left).T"
   ]
  },
  {
   "cell_type": "code",
   "execution_count": null,
   "id": "bound-charleston",
   "metadata": {},
   "outputs": [],
   "source": []
  },
  {
   "cell_type": "code",
   "execution_count": null,
   "id": "practical-temperature",
   "metadata": {},
   "outputs": [],
   "source": []
  }
 ],
 "metadata": {
  "kernelspec": {
   "display_name": "Python 3",
   "language": "python",
   "name": "python3"
  },
  "language_info": {
   "codemirror_mode": {
    "name": "ipython",
    "version": 3
   },
   "file_extension": ".py",
   "mimetype": "text/x-python",
   "name": "python",
   "nbconvert_exporter": "python",
   "pygments_lexer": "ipython3",
   "version": "3.8.6"
  }
 },
 "nbformat": 4,
 "nbformat_minor": 5
}
