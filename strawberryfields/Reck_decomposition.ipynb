{
 "cells": [
  {
   "cell_type": "code",
   "execution_count": 113,
   "id": "economic-paste",
   "metadata": {},
   "outputs": [],
   "source": [
    "import numpy as np\n",
    "from scipy.stats import unitary_group\n",
    "\n",
    "np.set_printoptions(precision=3, suppress=True) #print less digits of floats for readability"
   ]
  },
  {
   "cell_type": "code",
   "execution_count": 204,
   "id": "460fadd6",
   "metadata": {},
   "outputs": [],
   "source": [
    "def M(n, sigma, delta, m):\n",
    "    r\"\"\"The Bell M matrix from Eq 1 of the paper\"\"\"\n",
    "    mat = np.identity(m, dtype=np.complex128)\n",
    "    mat[n, n] = np.exp(1j * sigma) * np.sin(delta)\n",
    "    mat[n, n+1] = np.exp(1j * sigma) * np.cos(delta)\n",
    "    mat[n+1, n] = np.exp(1j * sigma) * np.cos(delta)\n",
    "    mat[n+1, n+1] = -np.exp(1j * sigma) * np.sin(delta)\n",
    "    return mat\n",
    "\n",
    "def P(j, phi, m):\n",
    "    mat = np.identity(m, dtype=np.complex128)\n",
    "    mat[j,j] = np.exp(1j * phi)\n",
    "    return mat"
   ]
  },
  {
   "cell_type": "code",
   "execution_count": 205,
   "id": "a7c5483d",
   "metadata": {},
   "outputs": [],
   "source": [
    "def is_unitary(U):\n",
    "    return np.allclose(U @ U.conj().T, np.eye(U.shape[0]))"
   ]
  },
  {
   "cell_type": "markdown",
   "id": "9afbab4a",
   "metadata": {},
   "source": [
    "# Reck"
   ]
  },
  {
   "cell_type": "code",
   "execution_count": 209,
   "id": "fbe4ec08",
   "metadata": {},
   "outputs": [
    {
     "data": {
      "text/plain": [
       "array([[ 1.-0.j, -0.-0.j, -0.+0.j,  0.+0.j,  0.+0.j, -0.-0.j, -0.-0.j],\n",
       "       [ 0.+0.j,  1.-0.j, -0.-0.j,  0.-0.j,  0.-0.j,  0.-0.j,  0.+0.j],\n",
       "       [-0.-0.j,  0.-0.j,  1.-0.j, -0.+0.j,  0.+0.j,  0.+0.j, -0.-0.j],\n",
       "       [ 0.+0.j, -0.-0.j,  0.+0.j,  1.-0.j, -0.-0.j, -0.+0.j,  0.-0.j],\n",
       "       [-0.+0.j,  0.-0.j, -0.+0.j,  0.-0.j,  1.-0.j,  0.-0.j,  0.-0.j],\n",
       "       [ 0.-0.j, -0.-0.j,  0.-0.j, -0.-0.j, -0.-0.j,  1.-0.j, -0.+0.j],\n",
       "       [ 0.-0.j, -0.+0.j,  0.+0.j, -0.-0.j, -0.+0.j,  0.+0.j,  1.-0.j]])"
      ]
     },
     "execution_count": 209,
     "metadata": {},
     "output_type": "execute_result"
    }
   ],
   "source": [
    "m = 7\n",
    "# V = np.random.random((5,5)) + 1j*np.random.random((5,5))\n",
    "U = unitary_group.rvs(m)\n",
    "\n",
    "V = U.conj()\n",
    "\n",
    "for j in range(m-1):\n",
    "    x = m - 1\n",
    "    y = j\n",
    "    phi_j = np.angle(V[x, y+1]) - np.angle(V[x, y])\n",
    "    Pj = P(j, phi_j, m)\n",
    "    V = V @ Pj\n",
    "    for k in range(j+1):\n",
    "        delta = np.arctan(-V[x,y+1] / V[x,y]).real\n",
    "        V_temp = V @ M(j-k, 0, delta, m)\n",
    "        sigma = np.angle(V_temp[x-1, y-1]) - np.angle(V_temp[x-1,y])\n",
    "        n = j - k\n",
    "        V = V @ M(n, sigma, delta, m)\n",
    "        x -= 1\n",
    "        y -= 1\n",
    "    \n",
    "# these next two lines are just to remove a global phase\n",
    "zeta = - np.angle(V[0,0])\n",
    "V = V @ P(0, zeta, m)\n",
    "\n",
    "for j in range(1,m):\n",
    "    zeta = np.angle(V[0,0]) - np.angle(V[j,j])\n",
    "    V = V @ P(j, zeta, m)\n",
    "        \n",
    "V"
   ]
  },
  {
   "cell_type": "markdown",
   "id": "76c02fc8",
   "metadata": {},
   "source": [
    "# Clements"
   ]
  },
  {
   "cell_type": "code",
   "execution_count": 296,
   "id": "44aad913",
   "metadata": {},
   "outputs": [
    {
     "name": "stdout",
     "output_type": "stream",
     "text": [
      "[[ 0.588-0.447j -0.092-0.033j  0.326-0.415j -0.405-0.048j]\n",
      " [ 0.38 +0.263j  0.076+0.369j -0.58 +0.188j -0.473+0.224j]\n",
      " [ 0.289-0.398j -0.201+0.072j -0.454+0.19j   0.403-0.556j]\n",
      " [-0.   -0.j     0.507-0.739j -0.322-0.067j -0.221-0.199j]]\n",
      "[[ 0.588-0.447j -0.092-0.033j  0.326-0.415j -0.405-0.048j]\n",
      " [-0.07 -0.671j  0.084-0.067j  0.203+0.541j  0.275-0.352j]\n",
      " [-0.   -0.j     0.237-0.345j  0.524-0.073j  0.397+0.623j]\n",
      " [-0.   -0.j     0.507-0.739j -0.322-0.067j -0.221-0.199j]]\n",
      "[[ 0.588-0.447j -0.092-0.033j  0.326-0.415j -0.405-0.048j]\n",
      " [-0.07 -0.671j  0.084-0.067j  0.203+0.541j  0.275-0.352j]\n",
      " [-0.   -0.j     0.56 -0.816j -0.07 -0.092j -0.032+0.083j]\n",
      " [-0.   -0.j    -0.   +0.j     0.61 -0.038j  0.453+0.648j]]\n",
      "[[ 0.588-0.447j -0.092-0.033j  0.627+0.226j  0.   +0.j   ]\n",
      " [-0.07 -0.671j  0.084-0.067j -0.569+0.458j -0.   +0.j   ]\n",
      " [-0.   -0.j     0.56 -0.816j  0.082-0.12j   0.   -0.j   ]\n",
      " [-0.   -0.j    -0.   +0.j     0.   +0.j    -0.372-0.928j]]\n",
      "[[ 0.588-0.447j -0.536+0.408j  0.   -0.j     0.   +0.j   ]\n",
      " [-0.07 -0.671j -0.076-0.735j -0.   -0.j    -0.   +0.j   ]\n",
      " [-0.   -0.j    -0.   +0.j     0.385+0.923j  0.   -0.j   ]\n",
      " [-0.   -0.j    -0.   -0.j    -0.   -0.j    -0.372-0.928j]]\n",
      "[[ 0.97 +0.243j -0.   -0.j     0.   -0.j     0.   +0.j   ]\n",
      " [-0.   +0.j    -0.712+0.702j -0.   -0.j    -0.   +0.j   ]\n",
      " [-0.   -0.j     0.   +0.j     0.385+0.923j  0.   -0.j   ]\n",
      " [ 0.   +0.j     0.   +0.j    -0.   -0.j    -0.372-0.928j]]\n"
     ]
    }
   ],
   "source": [
    "m = 4\n",
    "# V = np.random.random((5,5)) + 1j*np.random.random((5,5))\n",
    "U = unitary_group.rvs(m)\n",
    "\n",
    "V = U.conj()\n",
    "\n",
    "for j in range(m-1):\n",
    "    #odd case in paper, because we index from 0 not 1\n",
    "    if j % 2 == 0: \n",
    "        x = m - 1\n",
    "        y = j \n",
    "        phi_j = np.angle(V[x, y+1]) - np.angle(V[x, y]) # reversed order from paper\n",
    "        V = V @ P(j, phi_j, m)\n",
    "        for k in range(j+1):\n",
    "            delta = np.arctan(-V[x,y+1] / V[x,y]) # flipped from paper\n",
    "            n = j - k\n",
    "            V_temp = V @ M(n, 0, delta, m)\n",
    "            sigma = np.angle(V_temp[x-1, y-1]) - np.angle(V_temp[x-1,y])\n",
    "            V = V @ M(n, sigma, delta, m)\n",
    "            print(V)\n",
    "            x -= 1\n",
    "            y -= 1\n",
    "    else:\n",
    "        x = m - j - 1\n",
    "        y = 0 \n",
    "        phi_j = np.angle(V[x,y]) - np.angle(V[x-1,y])\n",
    "        V = P(j, phi_j, m) @ V\n",
    "        for k in range(j+1):\n",
    "            delta = np.arctan(V[x-1,y] / V[x,y]) # flipped from paper\n",
    "            V_temp = M(x-1, 0, delta, m) @ V\n",
    "            n = m + k - j - 2\n",
    "            if j != k:\n",
    "                sigma = (np.angle(V_temp[x+1, y+1]) - np.angle(V_temp[x,y+1]))\n",
    "            else:\n",
    "                sigma = 0 \n",
    "            V = M(n, sigma, delta, m) @ V\n",
    "            print(V)\n",
    "            x += 1\n",
    "            y += 1\n",
    "        \n",
    "            "
   ]
  },
  {
   "cell_type": "code",
   "execution_count": null,
   "id": "c4175ed4",
   "metadata": {},
   "outputs": [],
   "source": []
  }
 ],
 "metadata": {
  "kernelspec": {
   "display_name": "Python 3",
   "language": "python",
   "name": "python3"
  },
  "language_info": {
   "codemirror_mode": {
    "name": "ipython",
    "version": 3
   },
   "file_extension": ".py",
   "mimetype": "text/x-python",
   "name": "python",
   "nbconvert_exporter": "python",
   "pygments_lexer": "ipython3",
   "version": "3.8.8"
  }
 },
 "nbformat": 4,
 "nbformat_minor": 5
}
