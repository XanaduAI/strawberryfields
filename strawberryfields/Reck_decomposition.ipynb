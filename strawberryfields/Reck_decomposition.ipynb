{
 "cells": [
  {
   "cell_type": "code",
   "execution_count": 53,
   "id": "economic-paste",
   "metadata": {},
   "outputs": [],
   "source": [
    "import numpy as np\n",
    "from scipy.stats import unitary_group\n",
    "\n",
    "np.set_printoptions(precision=3, suppress=True)"
   ]
  },
  {
   "cell_type": "code",
   "execution_count": 89,
   "id": "14ee21a8",
   "metadata": {},
   "outputs": [],
   "source": [
    "def M(j, k, sigma, delta, m):\n",
    "    r\"\"\"The Bell M matrix from Eq 1 of the paper\"\"\"\n",
    "    mat = np.identity(m, dtype=np.complex128)\n",
    "    n = j - k\n",
    "    mat[n, n] = np.exp(1j * sigma) * np.sin(delta)\n",
    "    mat[n, n+1] = np.exp(1j * sigma) * np.cos(delta)\n",
    "    mat[n+1, n] = np.exp(1j * sigma) * np.cos(delta)\n",
    "    mat[n+1, n+1] = -np.exp(1j * sigma) * np.sin(delta)\n",
    "    return mat\n",
    "\n",
    "def P(j, phi, m):\n",
    "    mat = np.identity(m, dtype=np.complex128)\n",
    "    mat[j,j] = np.exp(1j * phi)\n",
    "    return mat"
   ]
  },
  {
   "cell_type": "code",
   "execution_count": 90,
   "id": "f8208558",
   "metadata": {},
   "outputs": [],
   "source": [
    "def is_unitary(U):\n",
    "    return np.allclose(U @ U.conj().T, np.eye(U.shape[0]))"
   ]
  },
  {
   "cell_type": "code",
   "execution_count": 91,
   "id": "centered-warner",
   "metadata": {},
   "outputs": [],
   "source": [
    "m = 4\n",
    "# V = np.random.random((5,5)) + 1j*np.random.random((5,5))\n",
    "U = unitary_group.rvs(m)\n",
    "\n",
    "V = U.conj()"
   ]
  },
  {
   "cell_type": "code",
   "execution_count": 96,
   "id": "38dd5454",
   "metadata": {},
   "outputs": [
    {
     "name": "stdout",
     "output_type": "stream",
     "text": [
      "2.0664025842695577 2.0664025842695577\n",
      "-0.18358933978032815\n",
      "-0.6087970719546929 -0.608797071954693\n",
      "-0.07611284015551614\n",
      "-1.5707963267948966\n",
      "2.8336775009728457 2.8336775009728457\n",
      "-1.5707963267948966\n",
      "-0.07611284015551609\n",
      "-0.1835893397803282\n"
     ]
    },
    {
     "data": {
      "text/plain": [
       "array([[ 1.-0.j, -0.+0.j, -0.-0.j,  0.+0.j],\n",
       "       [ 0.+0.j,  1.+0.j, -0.+0.j,  0.-0.j],\n",
       "       [-0.+0.j, -0.+0.j,  1.+0.j, -0.+0.j],\n",
       "       [-0.-0.j,  0.-0.j, -0.+0.j,  1.+0.j]])"
      ]
     },
     "execution_count": 96,
     "metadata": {},
     "output_type": "execute_result"
    }
   ],
   "source": [
    "for j in range(m-1):\n",
    "    x = m - 1\n",
    "    y = j\n",
    "    phi_j = - np.angle(V[x, y]) + np.angle(V[x, y+1])\n",
    "    Pj = P(j, phi_j, m)\n",
    "    V = V @ Pj\n",
    "    print(np.angle(V[x,y]), np.angle(V[x, y+1]))\n",
    "    for k in range(j+1):\n",
    "        delta = np.arctan(-abs(V[x,y+1]) / abs(V[x,y]))\n",
    "        print(delta)\n",
    "        V_temp = V @ M(j, k, 0, delta, m)\n",
    "        sigma = np.angle(V_temp[x-1, y-1]) - np.angle(V_temp[x-1,y])\n",
    "        V = V @ M(j, k, sigma, delta, m)\n",
    "        x -= 1\n",
    "        y -= 1\n",
    "    \n",
    "zeta = - np.angle(V[0,0])\n",
    "V = V @ P(0, zeta, m)\n",
    "for j in range(1,m):\n",
    "    zeta = np.angle(V[0,0]) - np.angle(V[j,j])\n",
    "    V = V @ P(j, zeta, m)\n",
    "        \n",
    "V"
   ]
  },
  {
   "cell_type": "code",
   "execution_count": 87,
   "id": "accredited-debate",
   "metadata": {
    "scrolled": false
   },
   "outputs": [
    {
     "name": "stdout",
     "output_type": "stream",
     "text": [
      "[[-0.439-0.855j -0.518-0.084j -1.552-0.381j -0.393+0.265j]\n",
      " [-1.285+0.946j -0.509+0.373j -1.503+2.066j -1.158+0.436j]\n",
      " [-0.   -0.j     0.   -0.j    -2.133+1.569j -0.86 +0.705j]\n",
      " [ 0.   -0.j    -0.   +0.j     0.   +0.j    -0.444+0.326j]]\n",
      "[[-0.439-0.855j -1.544+0.755j  0.033-0.125j -0.393+0.265j]\n",
      " [-1.285+0.946j  0.286+2.673j -0.109-0.509j -1.158+0.436j]\n",
      " [-0.   -0.j    -0.407+2.906j  0.777-0.517j -0.86 +0.705j]\n",
      " [ 0.   -0.j    -0.   +0.j    -0.   +0.j    -0.444+0.326j]]\n",
      "[[-0.439-0.855j  1.544-0.755j  0.033-0.125j -0.393+0.265j]\n",
      " [-1.285+0.946j -0.286-2.673j -0.109-0.509j -1.158+0.436j]\n",
      " [-0.   +0.j     0.407-2.906j  0.777-0.517j -0.86 +0.705j]\n",
      " [ 0.   -0.j     0.   -0.j    -0.   +0.j    -0.444+0.326j]]\n",
      "[[-0.439-0.855j  1.544-0.755j  0.006-0.129j -0.393+0.265j]\n",
      " [-1.285+0.946j -0.286-2.673j -0.211-0.475j -1.158+0.436j]\n",
      " [-0.   +0.j     0.407-2.906j  0.654-0.666j -0.86 +0.705j]\n",
      " [ 0.   -0.j     0.   -0.j    -0.   +0.j    -0.444+0.326j]]\n",
      "[[-0.439-0.855j -0.231+0.258j -0.145-1.041j -0.393+0.265j]\n",
      " [-1.285+0.946j  0.025+0.415j -1.655-0.402j -1.158+0.436j]\n",
      " [-0.   +0.j    -0.   -0.j    -1.54 -0.963j -0.86 +0.705j]\n",
      " [ 0.   -0.j     0.   +0.j     0.   +0.j    -0.444+0.326j]]\n",
      "[[ 0.009+0.287j -0.395-0.791j -0.145-1.041j -0.393+0.265j]\n",
      " [ 0.   +0.j    -1.238+0.974j -1.655-0.402j -1.158+0.436j]\n",
      " [-0.   -0.j    -0.   +0.j    -1.54 -0.963j -0.86 +0.705j]\n",
      " [ 0.   +0.j     0.   -0.j     0.   +0.j    -0.444+0.326j]]\n"
     ]
    }
   ],
   "source": [
    "for j in range(m-1):\n",
    "    x = m - 1\n",
    "    y = j\n",
    "    phi_j = np.angle(V[x, y]) - np.angle(V[x, y+1])\n",
    "    Pj = P(j, phi_j, m)\n",
    "    V = V @ Pj\n",
    "    for k in range(j+1):\n",
    "        delta = np.arctan(-V[x,y+1]/V[x,y])\n",
    "        if k==j: \n",
    "            sigma = 0 #doesnt matter with the result\n",
    "        else:\n",
    "            sigma = np.arctan(V[x-1,y]/V[x-1,y-1]) #Working on this factor\n",
    "        M = np.eye(m,dtype=np.complex128)\n",
    "        if j ==k:\n",
    "            M[0,0] = np.exp(1j*sigma)*np.sin(delta)\n",
    "            M[0,1] = np.exp(1j*sigma)*np.cos(delta)\n",
    "            M[1,0] = np.exp(1j*sigma)*np.cos(delta)\n",
    "            M[1,1] = -np.exp(1j*sigma)*np.sin(delta)\n",
    "        elif j==k+1:\n",
    "            M[1,1] = np.exp(1j*sigma)*np.sin(delta)\n",
    "            M[1,2] = np.exp(1j*sigma)*np.cos(delta)\n",
    "            M[2,1] = np.exp(1j*sigma)*np.cos(delta)\n",
    "            M[2,2] = -np.exp(1j*sigma)*np.sin(delta)\n",
    "\n",
    "        V=V@M\n",
    "        x = x-1\n",
    "        y = y-1\n",
    "        print(V)"
   ]
  },
  {
   "cell_type": "code",
   "execution_count": 47,
   "id": "distinguished-swing",
   "metadata": {},
   "outputs": [
    {
     "data": {
      "text/plain": [
       "array([[ 0.766+0.053j, -0.724-1.69j ,  1.773-1.086j,  0.096+0.639j],\n",
       "       [ 0.451+2.112j,  2.682-1.985j,  0.172-1.361j,  0.209-0.095j],\n",
       "       [-0.   -0.j   , -1.651-0.138j,  2.365-0.948j, -0.234-0.105j],\n",
       "       [-0.   -0.j   ,  0.   +0.j   ,  1.299+1.426j,  0.679-0.051j]])"
      ]
     },
     "execution_count": 47,
     "metadata": {},
     "output_type": "execute_result"
    }
   ],
   "source": [
    "V"
   ]
  },
  {
   "cell_type": "code",
   "execution_count": null,
   "id": "ca1a1895",
   "metadata": {},
   "outputs": [],
   "source": []
  }
 ],
 "metadata": {
  "kernelspec": {
   "display_name": "Python 3",
   "language": "python",
   "name": "python3"
  },
  "language_info": {
   "codemirror_mode": {
    "name": "ipython",
    "version": 3
   },
   "file_extension": ".py",
   "mimetype": "text/x-python",
   "name": "python",
   "nbconvert_exporter": "python",
   "pygments_lexer": "ipython3",
   "version": "3.8.8"
  }
 },
 "nbformat": 4,
 "nbformat_minor": 5
}
